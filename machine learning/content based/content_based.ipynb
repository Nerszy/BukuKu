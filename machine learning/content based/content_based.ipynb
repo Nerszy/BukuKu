{
  "nbformat": 4,
  "nbformat_minor": 0,
  "metadata": {
    "colab": {
      "provenance": []
    },
    "kernelspec": {
      "name": "python3",
      "display_name": "Python 3"
    },
    "language_info": {
      "name": "python"
    }
  },
  "cells": [
    {
      "cell_type": "markdown",
      "source": [
        "URL file model h5 : https://drive.google.com/file/d/1JUsB8qG6c_XMzQqIV97WF40HWDBd5Yue/view?usp=drive_link"
      ],
      "metadata": {
        "id": "OxYLOoaYLTNP"
      }
    },
    {
      "cell_type": "markdown",
      "source": [
        "## **Preprocesing**"
      ],
      "metadata": {
        "id": "ZiPIQHVa1JYV"
      }
    },
    {
      "cell_type": "code",
      "execution_count": 1,
      "metadata": {
        "id": "mSHxKMpk4p3t"
      },
      "outputs": [],
      "source": [
        "import pandas as pd\n",
        "import numpy as np"
      ]
    },
    {
      "cell_type": "code",
      "source": [
        "df = pd.read_csv('(main) book_data.csv')"
      ],
      "metadata": {
        "id": "MjU2rQFy46bs"
      },
      "execution_count": 2,
      "outputs": []
    },
    {
      "cell_type": "code",
      "source": [
        "df.head(2)"
      ],
      "metadata": {
        "colab": {
          "base_uri": "https://localhost:8080/",
          "height": 401
        },
        "id": "jEqRev9N0n7q",
        "outputId": "b8f483c2-a232-4756-8223-df9c9df8b8eb"
      },
      "execution_count": 3,
      "outputs": [
        {
          "output_type": "execute_result",
          "data": {
            "text/plain": [
              "   books_id                                              title  \\\n",
              "0         1  Harry Potter and the Half-Blood Prince by J.K....   \n",
              "1         2  Harry Potter and the Order of the Phoenix by J...   \n",
              "\n",
              "                                        url_playbook  \\\n",
              "0  https://play.google.com/store/books/details/Br...   \n",
              "1  https://play.google.com/store/books/details/Br...   \n",
              "\n",
              "                                           url_image  \\\n",
              "0  https://books.google.com/books/publisher/conte...   \n",
              "1  https://books.google.com/books/publisher/conte...   \n",
              "\n",
              "                                            synopsis         idr       isbn  \\\n",
              "0  <b>Unlock the more straightforward side of <i>...  $81,056.00  439785960   \n",
              "1  <b>Unlock the more straightforward side of <i>...  $81,056.00  439358078   \n",
              "\n",
              "                         author avg_rating     tags1       tags2        tags3  \n",
              "0  J.K. Rowling, Mary GrandPrÃ©       4,54   fantasy     fiction  young-adult  \n",
              "1  J.K. Rowling, Mary GrandPrÃ©       4,46  children  children-s      fantasy  "
            ],
            "text/html": [
              "\n",
              "  <div id=\"df-2b170c34-ce1a-43dc-948f-189ae0352ae7\">\n",
              "    <div class=\"colab-df-container\">\n",
              "      <div>\n",
              "<style scoped>\n",
              "    .dataframe tbody tr th:only-of-type {\n",
              "        vertical-align: middle;\n",
              "    }\n",
              "\n",
              "    .dataframe tbody tr th {\n",
              "        vertical-align: top;\n",
              "    }\n",
              "\n",
              "    .dataframe thead th {\n",
              "        text-align: right;\n",
              "    }\n",
              "</style>\n",
              "<table border=\"1\" class=\"dataframe\">\n",
              "  <thead>\n",
              "    <tr style=\"text-align: right;\">\n",
              "      <th></th>\n",
              "      <th>books_id</th>\n",
              "      <th>title</th>\n",
              "      <th>url_playbook</th>\n",
              "      <th>url_image</th>\n",
              "      <th>synopsis</th>\n",
              "      <th>idr</th>\n",
              "      <th>isbn</th>\n",
              "      <th>author</th>\n",
              "      <th>avg_rating</th>\n",
              "      <th>tags1</th>\n",
              "      <th>tags2</th>\n",
              "      <th>tags3</th>\n",
              "    </tr>\n",
              "  </thead>\n",
              "  <tbody>\n",
              "    <tr>\n",
              "      <th>0</th>\n",
              "      <td>1</td>\n",
              "      <td>Harry Potter and the Half-Blood Prince by J.K....</td>\n",
              "      <td>https://play.google.com/store/books/details/Br...</td>\n",
              "      <td>https://books.google.com/books/publisher/conte...</td>\n",
              "      <td>&lt;b&gt;Unlock the more straightforward side of &lt;i&gt;...</td>\n",
              "      <td>$81,056.00</td>\n",
              "      <td>439785960</td>\n",
              "      <td>J.K. Rowling, Mary GrandPrÃ©</td>\n",
              "      <td>4,54</td>\n",
              "      <td>fantasy</td>\n",
              "      <td>fiction</td>\n",
              "      <td>young-adult</td>\n",
              "    </tr>\n",
              "    <tr>\n",
              "      <th>1</th>\n",
              "      <td>2</td>\n",
              "      <td>Harry Potter and the Order of the Phoenix by J...</td>\n",
              "      <td>https://play.google.com/store/books/details/Br...</td>\n",
              "      <td>https://books.google.com/books/publisher/conte...</td>\n",
              "      <td>&lt;b&gt;Unlock the more straightforward side of &lt;i&gt;...</td>\n",
              "      <td>$81,056.00</td>\n",
              "      <td>439358078</td>\n",
              "      <td>J.K. Rowling, Mary GrandPrÃ©</td>\n",
              "      <td>4,46</td>\n",
              "      <td>children</td>\n",
              "      <td>children-s</td>\n",
              "      <td>fantasy</td>\n",
              "    </tr>\n",
              "  </tbody>\n",
              "</table>\n",
              "</div>\n",
              "      <button class=\"colab-df-convert\" onclick=\"convertToInteractive('df-2b170c34-ce1a-43dc-948f-189ae0352ae7')\"\n",
              "              title=\"Convert this dataframe to an interactive table.\"\n",
              "              style=\"display:none;\">\n",
              "        \n",
              "  <svg xmlns=\"http://www.w3.org/2000/svg\" height=\"24px\"viewBox=\"0 0 24 24\"\n",
              "       width=\"24px\">\n",
              "    <path d=\"M0 0h24v24H0V0z\" fill=\"none\"/>\n",
              "    <path d=\"M18.56 5.44l.94 2.06.94-2.06 2.06-.94-2.06-.94-.94-2.06-.94 2.06-2.06.94zm-11 1L8.5 8.5l.94-2.06 2.06-.94-2.06-.94L8.5 2.5l-.94 2.06-2.06.94zm10 10l.94 2.06.94-2.06 2.06-.94-2.06-.94-.94-2.06-.94 2.06-2.06.94z\"/><path d=\"M17.41 7.96l-1.37-1.37c-.4-.4-.92-.59-1.43-.59-.52 0-1.04.2-1.43.59L10.3 9.45l-7.72 7.72c-.78.78-.78 2.05 0 2.83L4 21.41c.39.39.9.59 1.41.59.51 0 1.02-.2 1.41-.59l7.78-7.78 2.81-2.81c.8-.78.8-2.07 0-2.86zM5.41 20L4 18.59l7.72-7.72 1.47 1.35L5.41 20z\"/>\n",
              "  </svg>\n",
              "      </button>\n",
              "      \n",
              "  <style>\n",
              "    .colab-df-container {\n",
              "      display:flex;\n",
              "      flex-wrap:wrap;\n",
              "      gap: 12px;\n",
              "    }\n",
              "\n",
              "    .colab-df-convert {\n",
              "      background-color: #E8F0FE;\n",
              "      border: none;\n",
              "      border-radius: 50%;\n",
              "      cursor: pointer;\n",
              "      display: none;\n",
              "      fill: #1967D2;\n",
              "      height: 32px;\n",
              "      padding: 0 0 0 0;\n",
              "      width: 32px;\n",
              "    }\n",
              "\n",
              "    .colab-df-convert:hover {\n",
              "      background-color: #E2EBFA;\n",
              "      box-shadow: 0px 1px 2px rgba(60, 64, 67, 0.3), 0px 1px 3px 1px rgba(60, 64, 67, 0.15);\n",
              "      fill: #174EA6;\n",
              "    }\n",
              "\n",
              "    [theme=dark] .colab-df-convert {\n",
              "      background-color: #3B4455;\n",
              "      fill: #D2E3FC;\n",
              "    }\n",
              "\n",
              "    [theme=dark] .colab-df-convert:hover {\n",
              "      background-color: #434B5C;\n",
              "      box-shadow: 0px 1px 3px 1px rgba(0, 0, 0, 0.15);\n",
              "      filter: drop-shadow(0px 1px 2px rgba(0, 0, 0, 0.3));\n",
              "      fill: #FFFFFF;\n",
              "    }\n",
              "  </style>\n",
              "\n",
              "      <script>\n",
              "        const buttonEl =\n",
              "          document.querySelector('#df-2b170c34-ce1a-43dc-948f-189ae0352ae7 button.colab-df-convert');\n",
              "        buttonEl.style.display =\n",
              "          google.colab.kernel.accessAllowed ? 'block' : 'none';\n",
              "\n",
              "        async function convertToInteractive(key) {\n",
              "          const element = document.querySelector('#df-2b170c34-ce1a-43dc-948f-189ae0352ae7');\n",
              "          const dataTable =\n",
              "            await google.colab.kernel.invokeFunction('convertToInteractive',\n",
              "                                                     [key], {});\n",
              "          if (!dataTable) return;\n",
              "\n",
              "          const docLinkHtml = 'Like what you see? Visit the ' +\n",
              "            '<a target=\"_blank\" href=https://colab.research.google.com/notebooks/data_table.ipynb>data table notebook</a>'\n",
              "            + ' to learn more about interactive tables.';\n",
              "          element.innerHTML = '';\n",
              "          dataTable['output_type'] = 'display_data';\n",
              "          await google.colab.output.renderOutput(dataTable, element);\n",
              "          const docLink = document.createElement('div');\n",
              "          docLink.innerHTML = docLinkHtml;\n",
              "          element.appendChild(docLink);\n",
              "        }\n",
              "      </script>\n",
              "    </div>\n",
              "  </div>\n",
              "  "
            ]
          },
          "metadata": {},
          "execution_count": 3
        }
      ]
    },
    {
      "cell_type": "code",
      "source": [
        "df.shape"
      ],
      "metadata": {
        "colab": {
          "base_uri": "https://localhost:8080/"
        },
        "id": "J2MQpS3A0rKl",
        "outputId": "c4b0b32b-9f26-4569-f583-8edbfa0e582a"
      },
      "execution_count": 4,
      "outputs": [
        {
          "output_type": "execute_result",
          "data": {
            "text/plain": [
              "(6205, 12)"
            ]
          },
          "metadata": {},
          "execution_count": 4
        }
      ]
    },
    {
      "cell_type": "markdown",
      "source": [
        "**Cleaning Data**"
      ],
      "metadata": {
        "id": "9kEBCnj61Tke"
      }
    },
    {
      "cell_type": "code",
      "source": [
        "df.isnull().sum()"
      ],
      "metadata": {
        "colab": {
          "base_uri": "https://localhost:8080/"
        },
        "id": "Rmhgb2p35nEw",
        "outputId": "1ef58481-bf79-4385-df17-310ea1807223"
      },
      "execution_count": 5,
      "outputs": [
        {
          "output_type": "execute_result",
          "data": {
            "text/plain": [
              "books_id          0\n",
              "title             0\n",
              "url_playbook      0\n",
              "url_image         0\n",
              "synopsis         75\n",
              "idr               0\n",
              "isbn              0\n",
              "author          339\n",
              "avg_rating        0\n",
              "tags1             0\n",
              "tags2             0\n",
              "tags3             0\n",
              "dtype: int64"
            ]
          },
          "metadata": {},
          "execution_count": 5
        }
      ]
    },
    {
      "cell_type": "code",
      "source": [
        "df= df.dropna()"
      ],
      "metadata": {
        "id": "Kd81R3Iz6oVP"
      },
      "execution_count": 6,
      "outputs": []
    },
    {
      "cell_type": "code",
      "source": [
        "df.isnull().sum()"
      ],
      "metadata": {
        "id": "vcwxIyJT6xo1",
        "colab": {
          "base_uri": "https://localhost:8080/"
        },
        "outputId": "48c02b3f-c156-41b9-c228-8b6c1c7471e5"
      },
      "execution_count": 7,
      "outputs": [
        {
          "output_type": "execute_result",
          "data": {
            "text/plain": [
              "books_id        0\n",
              "title           0\n",
              "url_playbook    0\n",
              "url_image       0\n",
              "synopsis        0\n",
              "idr             0\n",
              "isbn            0\n",
              "author          0\n",
              "avg_rating      0\n",
              "tags1           0\n",
              "tags2           0\n",
              "tags3           0\n",
              "dtype: int64"
            ]
          },
          "metadata": {},
          "execution_count": 7
        }
      ]
    },
    {
      "cell_type": "code",
      "source": [
        "df.duplicated().sum()"
      ],
      "metadata": {
        "colab": {
          "base_uri": "https://localhost:8080/"
        },
        "id": "k6-VSC4s69ES",
        "outputId": "12a0dfb9-1ebb-423a-c7d5-4b6a234adacd"
      },
      "execution_count": 8,
      "outputs": [
        {
          "output_type": "execute_result",
          "data": {
            "text/plain": [
              "0"
            ]
          },
          "metadata": {},
          "execution_count": 8
        }
      ]
    },
    {
      "cell_type": "markdown",
      "source": [
        "**Penggabungan Columns Genre dan Tags**"
      ],
      "metadata": {
        "id": "pQ21CUnV1sJ2"
      }
    },
    {
      "cell_type": "code",
      "source": [
        "df[\"genre\"] = df[\"tags1\"].astype(str) + \", \" + df[\"tags2\"].astype(str) + \", \" + df[\"tags3\"].astype(str)\n",
        "df"
      ],
      "metadata": {
        "colab": {
          "base_uri": "https://localhost:8080/",
          "height": 1000
        },
        "id": "Pw6x979N-7xe",
        "outputId": "cb954725-6b4d-4baf-93e9-94c1ebb2d97c"
      },
      "execution_count": 9,
      "outputs": [
        {
          "output_type": "execute_result",
          "data": {
            "text/plain": [
              "      books_id                                              title  \\\n",
              "0            1  Harry Potter and the Half-Blood Prince by J.K....   \n",
              "1            2  Harry Potter and the Order of the Phoenix by J...   \n",
              "2            3  \"Harry Potter and the Sorcerer's Stoneâ„¢\" -- ...   \n",
              "3            5  Harry Potter and the Prisoner of Azkaban (Nove...   \n",
              "4            6  Harry Potter and the Goblet of Fire by J.K. Ro...   \n",
              "...        ...                                                ...   \n",
              "6197  30008702             The 16 Personality Types in a Nutshell   \n",
              "6198  30253864  Talking as Fast as I Can: From Gilmore Girls t...   \n",
              "6200  30555488  The Underground Railroad: Winner of the Pulitz...   \n",
              "6203  31845516                             Love Warrior: A Memoir   \n",
              "6204  32075671             The Hate U Give: A Printz Honor Winner   \n",
              "\n",
              "                                           url_playbook  \\\n",
              "0     https://play.google.com/store/books/details/Br...   \n",
              "1     https://play.google.com/store/books/details/Br...   \n",
              "2     https://play.google.com/store/books/details/Jo...   \n",
              "3     https://play.google.com/store/books/details/Ke...   \n",
              "4     https://play.google.com/store/books/details/Br...   \n",
              "...                                                 ...   \n",
              "6197  https://play.google.com/store/books/details/Ja...   \n",
              "6198  https://play.google.com/store/books/details/La...   \n",
              "6200  https://play.google.com/store/books/details/Co...   \n",
              "6203  https://play.google.com/store/books/details/Gl...   \n",
              "6204  https://play.google.com/store/books/details/An...   \n",
              "\n",
              "                                              url_image  \\\n",
              "0     https://books.google.com/books/publisher/conte...   \n",
              "1     https://books.google.com/books/publisher/conte...   \n",
              "2     https://books.google.com/books/publisher/conte...   \n",
              "3     https://books.google.com/books/publisher/conte...   \n",
              "4     https://books.google.com/books/publisher/conte...   \n",
              "...                                                 ...   \n",
              "6197  https://books.google.com/books/publisher/conte...   \n",
              "6198  https://books.google.com/books/publisher/conte...   \n",
              "6200  https://books.google.com/books/publisher/conte...   \n",
              "6203  https://books.google.com/books/publisher/conte...   \n",
              "6204  https://books.google.com/books/publisher/conte...   \n",
              "\n",
              "                                               synopsis          idr  \\\n",
              "0     <b>Unlock the more straightforward side of <i>...   $81,056.00   \n",
              "1     <b>Unlock the more straightforward side of <i>...   $81,056.00   \n",
              "2     This instrumental series contains selected the...   $97,297.00   \n",
              "3     Harry Potter and the Prisoner of Azkaban is ab...  $145,126.00   \n",
              "4     <b>Unlock the more straightforward side of <i>...   $81,056.00   \n",
              "...                                                 ...          ...   \n",
              "6197  <b>Meet the self-sufficient and brilliant stra...        $0.00   \n",
              "6198  <b><i>NEW YORK TIMES</i> BESTSELLER â€¢ In thi...  $148,851.00   \n",
              "6200  <b>WINNER OF THE PULITZER PRIZE FOR FICTION 20...  $123,598.00   \n",
              "6203  <b>#1 <i>New York Times</i> Bestseller | </b><...  $178,651.00   \n",
              "6204  8 starred reviews Â· Goodreads Choice Awards B...  $208,451.00   \n",
              "\n",
              "            isbn                                    author avg_rating  \\\n",
              "0      439785960              J.K. Rowling, Mary GrandPrÃ©       4,54   \n",
              "1      439358078              J.K. Rowling, Mary GrandPrÃ©       4,46   \n",
              "2      439554934              J.K. Rowling, Mary GrandPrÃ©       4,44   \n",
              "3      439655480  J.K. Rowling, Mary GrandPrÃ©, Rufus Beck       4,53   \n",
              "4      439139600              J.K. Rowling, Mary GrandPrÃ©       4,53   \n",
              "...          ...                                       ...        ...   \n",
              "6197   385542070                                Ian McEwan       3,71   \n",
              "6198   425285170                             Lauren Graham       4,04   \n",
              "6200   385542364                          Colson Whitehead       4,04   \n",
              "6203  1250128544                      Glennon Doyle Melton        4,1   \n",
              "6204    62498533                              Angie Thomas       4,62   \n",
              "\n",
              "             tags1        tags2               tags3  \\\n",
              "0          fantasy      fiction         young-adult   \n",
              "1         children   children-s             fantasy   \n",
              "2          fantasy      fiction         young-adult   \n",
              "3          fantasy      fiction         young-adult   \n",
              "4          fantasy      fiction         young-adult   \n",
              "...            ...          ...                 ...   \n",
              "6197      thriller    book-club        contemporary   \n",
              "6198       fiction       memoir         non-fiction   \n",
              "6200     book-club      fiction  historical-fiction   \n",
              "6203        memoir  non-fiction          nonfiction   \n",
              "6204  contemporary      fiction         young-adult   \n",
              "\n",
              "                                       genre  \n",
              "0              fantasy, fiction, young-adult  \n",
              "1              children, children-s, fantasy  \n",
              "2              fantasy, fiction, young-adult  \n",
              "3              fantasy, fiction, young-adult  \n",
              "4              fantasy, fiction, young-adult  \n",
              "...                                      ...  \n",
              "6197       thriller, book-club, contemporary  \n",
              "6198            fiction, memoir, non-fiction  \n",
              "6200  book-club, fiction, historical-fiction  \n",
              "6203         memoir, non-fiction, nonfiction  \n",
              "6204      contemporary, fiction, young-adult  \n",
              "\n",
              "[5797 rows x 13 columns]"
            ],
            "text/html": [
              "\n",
              "  <div id=\"df-4b894d6d-5128-469e-a6e8-28cc0ee89d01\">\n",
              "    <div class=\"colab-df-container\">\n",
              "      <div>\n",
              "<style scoped>\n",
              "    .dataframe tbody tr th:only-of-type {\n",
              "        vertical-align: middle;\n",
              "    }\n",
              "\n",
              "    .dataframe tbody tr th {\n",
              "        vertical-align: top;\n",
              "    }\n",
              "\n",
              "    .dataframe thead th {\n",
              "        text-align: right;\n",
              "    }\n",
              "</style>\n",
              "<table border=\"1\" class=\"dataframe\">\n",
              "  <thead>\n",
              "    <tr style=\"text-align: right;\">\n",
              "      <th></th>\n",
              "      <th>books_id</th>\n",
              "      <th>title</th>\n",
              "      <th>url_playbook</th>\n",
              "      <th>url_image</th>\n",
              "      <th>synopsis</th>\n",
              "      <th>idr</th>\n",
              "      <th>isbn</th>\n",
              "      <th>author</th>\n",
              "      <th>avg_rating</th>\n",
              "      <th>tags1</th>\n",
              "      <th>tags2</th>\n",
              "      <th>tags3</th>\n",
              "      <th>genre</th>\n",
              "    </tr>\n",
              "  </thead>\n",
              "  <tbody>\n",
              "    <tr>\n",
              "      <th>0</th>\n",
              "      <td>1</td>\n",
              "      <td>Harry Potter and the Half-Blood Prince by J.K....</td>\n",
              "      <td>https://play.google.com/store/books/details/Br...</td>\n",
              "      <td>https://books.google.com/books/publisher/conte...</td>\n",
              "      <td>&lt;b&gt;Unlock the more straightforward side of &lt;i&gt;...</td>\n",
              "      <td>$81,056.00</td>\n",
              "      <td>439785960</td>\n",
              "      <td>J.K. Rowling, Mary GrandPrÃ©</td>\n",
              "      <td>4,54</td>\n",
              "      <td>fantasy</td>\n",
              "      <td>fiction</td>\n",
              "      <td>young-adult</td>\n",
              "      <td>fantasy, fiction, young-adult</td>\n",
              "    </tr>\n",
              "    <tr>\n",
              "      <th>1</th>\n",
              "      <td>2</td>\n",
              "      <td>Harry Potter and the Order of the Phoenix by J...</td>\n",
              "      <td>https://play.google.com/store/books/details/Br...</td>\n",
              "      <td>https://books.google.com/books/publisher/conte...</td>\n",
              "      <td>&lt;b&gt;Unlock the more straightforward side of &lt;i&gt;...</td>\n",
              "      <td>$81,056.00</td>\n",
              "      <td>439358078</td>\n",
              "      <td>J.K. Rowling, Mary GrandPrÃ©</td>\n",
              "      <td>4,46</td>\n",
              "      <td>children</td>\n",
              "      <td>children-s</td>\n",
              "      <td>fantasy</td>\n",
              "      <td>children, children-s, fantasy</td>\n",
              "    </tr>\n",
              "    <tr>\n",
              "      <th>2</th>\n",
              "      <td>3</td>\n",
              "      <td>\"Harry Potter and the Sorcerer's Stoneâ„¢\" -- ...</td>\n",
              "      <td>https://play.google.com/store/books/details/Jo...</td>\n",
              "      <td>https://books.google.com/books/publisher/conte...</td>\n",
              "      <td>This instrumental series contains selected the...</td>\n",
              "      <td>$97,297.00</td>\n",
              "      <td>439554934</td>\n",
              "      <td>J.K. Rowling, Mary GrandPrÃ©</td>\n",
              "      <td>4,44</td>\n",
              "      <td>fantasy</td>\n",
              "      <td>fiction</td>\n",
              "      <td>young-adult</td>\n",
              "      <td>fantasy, fiction, young-adult</td>\n",
              "    </tr>\n",
              "    <tr>\n",
              "      <th>3</th>\n",
              "      <td>5</td>\n",
              "      <td>Harry Potter and the Prisoner of Azkaban (Nove...</td>\n",
              "      <td>https://play.google.com/store/books/details/Ke...</td>\n",
              "      <td>https://books.google.com/books/publisher/conte...</td>\n",
              "      <td>Harry Potter and the Prisoner of Azkaban is ab...</td>\n",
              "      <td>$145,126.00</td>\n",
              "      <td>439655480</td>\n",
              "      <td>J.K. Rowling, Mary GrandPrÃ©, Rufus Beck</td>\n",
              "      <td>4,53</td>\n",
              "      <td>fantasy</td>\n",
              "      <td>fiction</td>\n",
              "      <td>young-adult</td>\n",
              "      <td>fantasy, fiction, young-adult</td>\n",
              "    </tr>\n",
              "    <tr>\n",
              "      <th>4</th>\n",
              "      <td>6</td>\n",
              "      <td>Harry Potter and the Goblet of Fire by J.K. Ro...</td>\n",
              "      <td>https://play.google.com/store/books/details/Br...</td>\n",
              "      <td>https://books.google.com/books/publisher/conte...</td>\n",
              "      <td>&lt;b&gt;Unlock the more straightforward side of &lt;i&gt;...</td>\n",
              "      <td>$81,056.00</td>\n",
              "      <td>439139600</td>\n",
              "      <td>J.K. Rowling, Mary GrandPrÃ©</td>\n",
              "      <td>4,53</td>\n",
              "      <td>fantasy</td>\n",
              "      <td>fiction</td>\n",
              "      <td>young-adult</td>\n",
              "      <td>fantasy, fiction, young-adult</td>\n",
              "    </tr>\n",
              "    <tr>\n",
              "      <th>...</th>\n",
              "      <td>...</td>\n",
              "      <td>...</td>\n",
              "      <td>...</td>\n",
              "      <td>...</td>\n",
              "      <td>...</td>\n",
              "      <td>...</td>\n",
              "      <td>...</td>\n",
              "      <td>...</td>\n",
              "      <td>...</td>\n",
              "      <td>...</td>\n",
              "      <td>...</td>\n",
              "      <td>...</td>\n",
              "      <td>...</td>\n",
              "    </tr>\n",
              "    <tr>\n",
              "      <th>6197</th>\n",
              "      <td>30008702</td>\n",
              "      <td>The 16 Personality Types in a Nutshell</td>\n",
              "      <td>https://play.google.com/store/books/details/Ja...</td>\n",
              "      <td>https://books.google.com/books/publisher/conte...</td>\n",
              "      <td>&lt;b&gt;Meet the self-sufficient and brilliant stra...</td>\n",
              "      <td>$0.00</td>\n",
              "      <td>385542070</td>\n",
              "      <td>Ian McEwan</td>\n",
              "      <td>3,71</td>\n",
              "      <td>thriller</td>\n",
              "      <td>book-club</td>\n",
              "      <td>contemporary</td>\n",
              "      <td>thriller, book-club, contemporary</td>\n",
              "    </tr>\n",
              "    <tr>\n",
              "      <th>6198</th>\n",
              "      <td>30253864</td>\n",
              "      <td>Talking as Fast as I Can: From Gilmore Girls t...</td>\n",
              "      <td>https://play.google.com/store/books/details/La...</td>\n",
              "      <td>https://books.google.com/books/publisher/conte...</td>\n",
              "      <td>&lt;b&gt;&lt;i&gt;NEW YORK TIMES&lt;/i&gt; BESTSELLER â€¢ In thi...</td>\n",
              "      <td>$148,851.00</td>\n",
              "      <td>425285170</td>\n",
              "      <td>Lauren Graham</td>\n",
              "      <td>4,04</td>\n",
              "      <td>fiction</td>\n",
              "      <td>memoir</td>\n",
              "      <td>non-fiction</td>\n",
              "      <td>fiction, memoir, non-fiction</td>\n",
              "    </tr>\n",
              "    <tr>\n",
              "      <th>6200</th>\n",
              "      <td>30555488</td>\n",
              "      <td>The Underground Railroad: Winner of the Pulitz...</td>\n",
              "      <td>https://play.google.com/store/books/details/Co...</td>\n",
              "      <td>https://books.google.com/books/publisher/conte...</td>\n",
              "      <td>&lt;b&gt;WINNER OF THE PULITZER PRIZE FOR FICTION 20...</td>\n",
              "      <td>$123,598.00</td>\n",
              "      <td>385542364</td>\n",
              "      <td>Colson Whitehead</td>\n",
              "      <td>4,04</td>\n",
              "      <td>book-club</td>\n",
              "      <td>fiction</td>\n",
              "      <td>historical-fiction</td>\n",
              "      <td>book-club, fiction, historical-fiction</td>\n",
              "    </tr>\n",
              "    <tr>\n",
              "      <th>6203</th>\n",
              "      <td>31845516</td>\n",
              "      <td>Love Warrior: A Memoir</td>\n",
              "      <td>https://play.google.com/store/books/details/Gl...</td>\n",
              "      <td>https://books.google.com/books/publisher/conte...</td>\n",
              "      <td>&lt;b&gt;#1 &lt;i&gt;New York Times&lt;/i&gt; Bestseller | &lt;/b&gt;&lt;...</td>\n",
              "      <td>$178,651.00</td>\n",
              "      <td>1250128544</td>\n",
              "      <td>Glennon Doyle Melton</td>\n",
              "      <td>4,1</td>\n",
              "      <td>memoir</td>\n",
              "      <td>non-fiction</td>\n",
              "      <td>nonfiction</td>\n",
              "      <td>memoir, non-fiction, nonfiction</td>\n",
              "    </tr>\n",
              "    <tr>\n",
              "      <th>6204</th>\n",
              "      <td>32075671</td>\n",
              "      <td>The Hate U Give: A Printz Honor Winner</td>\n",
              "      <td>https://play.google.com/store/books/details/An...</td>\n",
              "      <td>https://books.google.com/books/publisher/conte...</td>\n",
              "      <td>8 starred reviews Â· Goodreads Choice Awards B...</td>\n",
              "      <td>$208,451.00</td>\n",
              "      <td>62498533</td>\n",
              "      <td>Angie Thomas</td>\n",
              "      <td>4,62</td>\n",
              "      <td>contemporary</td>\n",
              "      <td>fiction</td>\n",
              "      <td>young-adult</td>\n",
              "      <td>contemporary, fiction, young-adult</td>\n",
              "    </tr>\n",
              "  </tbody>\n",
              "</table>\n",
              "<p>5797 rows × 13 columns</p>\n",
              "</div>\n",
              "      <button class=\"colab-df-convert\" onclick=\"convertToInteractive('df-4b894d6d-5128-469e-a6e8-28cc0ee89d01')\"\n",
              "              title=\"Convert this dataframe to an interactive table.\"\n",
              "              style=\"display:none;\">\n",
              "        \n",
              "  <svg xmlns=\"http://www.w3.org/2000/svg\" height=\"24px\"viewBox=\"0 0 24 24\"\n",
              "       width=\"24px\">\n",
              "    <path d=\"M0 0h24v24H0V0z\" fill=\"none\"/>\n",
              "    <path d=\"M18.56 5.44l.94 2.06.94-2.06 2.06-.94-2.06-.94-.94-2.06-.94 2.06-2.06.94zm-11 1L8.5 8.5l.94-2.06 2.06-.94-2.06-.94L8.5 2.5l-.94 2.06-2.06.94zm10 10l.94 2.06.94-2.06 2.06-.94-2.06-.94-.94-2.06-.94 2.06-2.06.94z\"/><path d=\"M17.41 7.96l-1.37-1.37c-.4-.4-.92-.59-1.43-.59-.52 0-1.04.2-1.43.59L10.3 9.45l-7.72 7.72c-.78.78-.78 2.05 0 2.83L4 21.41c.39.39.9.59 1.41.59.51 0 1.02-.2 1.41-.59l7.78-7.78 2.81-2.81c.8-.78.8-2.07 0-2.86zM5.41 20L4 18.59l7.72-7.72 1.47 1.35L5.41 20z\"/>\n",
              "  </svg>\n",
              "      </button>\n",
              "      \n",
              "  <style>\n",
              "    .colab-df-container {\n",
              "      display:flex;\n",
              "      flex-wrap:wrap;\n",
              "      gap: 12px;\n",
              "    }\n",
              "\n",
              "    .colab-df-convert {\n",
              "      background-color: #E8F0FE;\n",
              "      border: none;\n",
              "      border-radius: 50%;\n",
              "      cursor: pointer;\n",
              "      display: none;\n",
              "      fill: #1967D2;\n",
              "      height: 32px;\n",
              "      padding: 0 0 0 0;\n",
              "      width: 32px;\n",
              "    }\n",
              "\n",
              "    .colab-df-convert:hover {\n",
              "      background-color: #E2EBFA;\n",
              "      box-shadow: 0px 1px 2px rgba(60, 64, 67, 0.3), 0px 1px 3px 1px rgba(60, 64, 67, 0.15);\n",
              "      fill: #174EA6;\n",
              "    }\n",
              "\n",
              "    [theme=dark] .colab-df-convert {\n",
              "      background-color: #3B4455;\n",
              "      fill: #D2E3FC;\n",
              "    }\n",
              "\n",
              "    [theme=dark] .colab-df-convert:hover {\n",
              "      background-color: #434B5C;\n",
              "      box-shadow: 0px 1px 3px 1px rgba(0, 0, 0, 0.15);\n",
              "      filter: drop-shadow(0px 1px 2px rgba(0, 0, 0, 0.3));\n",
              "      fill: #FFFFFF;\n",
              "    }\n",
              "  </style>\n",
              "\n",
              "      <script>\n",
              "        const buttonEl =\n",
              "          document.querySelector('#df-4b894d6d-5128-469e-a6e8-28cc0ee89d01 button.colab-df-convert');\n",
              "        buttonEl.style.display =\n",
              "          google.colab.kernel.accessAllowed ? 'block' : 'none';\n",
              "\n",
              "        async function convertToInteractive(key) {\n",
              "          const element = document.querySelector('#df-4b894d6d-5128-469e-a6e8-28cc0ee89d01');\n",
              "          const dataTable =\n",
              "            await google.colab.kernel.invokeFunction('convertToInteractive',\n",
              "                                                     [key], {});\n",
              "          if (!dataTable) return;\n",
              "\n",
              "          const docLinkHtml = 'Like what you see? Visit the ' +\n",
              "            '<a target=\"_blank\" href=https://colab.research.google.com/notebooks/data_table.ipynb>data table notebook</a>'\n",
              "            + ' to learn more about interactive tables.';\n",
              "          element.innerHTML = '';\n",
              "          dataTable['output_type'] = 'display_data';\n",
              "          await google.colab.output.renderOutput(dataTable, element);\n",
              "          const docLink = document.createElement('div');\n",
              "          docLink.innerHTML = docLinkHtml;\n",
              "          element.appendChild(docLink);\n",
              "        }\n",
              "      </script>\n",
              "    </div>\n",
              "  </div>\n",
              "  "
            ]
          },
          "metadata": {},
          "execution_count": 9
        }
      ]
    },
    {
      "cell_type": "code",
      "source": [
        "df['tag'] = df['title'] + df['synopsis'] + df['author'] + df['genre']\n",
        "df"
      ],
      "metadata": {
        "colab": {
          "base_uri": "https://localhost:8080/",
          "height": 1000
        },
        "id": "GSEYtgf6Gsvx",
        "outputId": "21b9102f-3472-4100-cbbd-bf0d25e7a62a"
      },
      "execution_count": 10,
      "outputs": [
        {
          "output_type": "execute_result",
          "data": {
            "text/plain": [
              "      books_id                                              title  \\\n",
              "0            1  Harry Potter and the Half-Blood Prince by J.K....   \n",
              "1            2  Harry Potter and the Order of the Phoenix by J...   \n",
              "2            3  \"Harry Potter and the Sorcerer's Stoneâ„¢\" -- ...   \n",
              "3            5  Harry Potter and the Prisoner of Azkaban (Nove...   \n",
              "4            6  Harry Potter and the Goblet of Fire by J.K. Ro...   \n",
              "...        ...                                                ...   \n",
              "6197  30008702             The 16 Personality Types in a Nutshell   \n",
              "6198  30253864  Talking as Fast as I Can: From Gilmore Girls t...   \n",
              "6200  30555488  The Underground Railroad: Winner of the Pulitz...   \n",
              "6203  31845516                             Love Warrior: A Memoir   \n",
              "6204  32075671             The Hate U Give: A Printz Honor Winner   \n",
              "\n",
              "                                           url_playbook  \\\n",
              "0     https://play.google.com/store/books/details/Br...   \n",
              "1     https://play.google.com/store/books/details/Br...   \n",
              "2     https://play.google.com/store/books/details/Jo...   \n",
              "3     https://play.google.com/store/books/details/Ke...   \n",
              "4     https://play.google.com/store/books/details/Br...   \n",
              "...                                                 ...   \n",
              "6197  https://play.google.com/store/books/details/Ja...   \n",
              "6198  https://play.google.com/store/books/details/La...   \n",
              "6200  https://play.google.com/store/books/details/Co...   \n",
              "6203  https://play.google.com/store/books/details/Gl...   \n",
              "6204  https://play.google.com/store/books/details/An...   \n",
              "\n",
              "                                              url_image  \\\n",
              "0     https://books.google.com/books/publisher/conte...   \n",
              "1     https://books.google.com/books/publisher/conte...   \n",
              "2     https://books.google.com/books/publisher/conte...   \n",
              "3     https://books.google.com/books/publisher/conte...   \n",
              "4     https://books.google.com/books/publisher/conte...   \n",
              "...                                                 ...   \n",
              "6197  https://books.google.com/books/publisher/conte...   \n",
              "6198  https://books.google.com/books/publisher/conte...   \n",
              "6200  https://books.google.com/books/publisher/conte...   \n",
              "6203  https://books.google.com/books/publisher/conte...   \n",
              "6204  https://books.google.com/books/publisher/conte...   \n",
              "\n",
              "                                               synopsis          idr  \\\n",
              "0     <b>Unlock the more straightforward side of <i>...   $81,056.00   \n",
              "1     <b>Unlock the more straightforward side of <i>...   $81,056.00   \n",
              "2     This instrumental series contains selected the...   $97,297.00   \n",
              "3     Harry Potter and the Prisoner of Azkaban is ab...  $145,126.00   \n",
              "4     <b>Unlock the more straightforward side of <i>...   $81,056.00   \n",
              "...                                                 ...          ...   \n",
              "6197  <b>Meet the self-sufficient and brilliant stra...        $0.00   \n",
              "6198  <b><i>NEW YORK TIMES</i> BESTSELLER â€¢ In thi...  $148,851.00   \n",
              "6200  <b>WINNER OF THE PULITZER PRIZE FOR FICTION 20...  $123,598.00   \n",
              "6203  <b>#1 <i>New York Times</i> Bestseller | </b><...  $178,651.00   \n",
              "6204  8 starred reviews Â· Goodreads Choice Awards B...  $208,451.00   \n",
              "\n",
              "            isbn                                    author avg_rating  \\\n",
              "0      439785960              J.K. Rowling, Mary GrandPrÃ©       4,54   \n",
              "1      439358078              J.K. Rowling, Mary GrandPrÃ©       4,46   \n",
              "2      439554934              J.K. Rowling, Mary GrandPrÃ©       4,44   \n",
              "3      439655480  J.K. Rowling, Mary GrandPrÃ©, Rufus Beck       4,53   \n",
              "4      439139600              J.K. Rowling, Mary GrandPrÃ©       4,53   \n",
              "...          ...                                       ...        ...   \n",
              "6197   385542070                                Ian McEwan       3,71   \n",
              "6198   425285170                             Lauren Graham       4,04   \n",
              "6200   385542364                          Colson Whitehead       4,04   \n",
              "6203  1250128544                      Glennon Doyle Melton        4,1   \n",
              "6204    62498533                              Angie Thomas       4,62   \n",
              "\n",
              "             tags1        tags2               tags3  \\\n",
              "0          fantasy      fiction         young-adult   \n",
              "1         children   children-s             fantasy   \n",
              "2          fantasy      fiction         young-adult   \n",
              "3          fantasy      fiction         young-adult   \n",
              "4          fantasy      fiction         young-adult   \n",
              "...            ...          ...                 ...   \n",
              "6197      thriller    book-club        contemporary   \n",
              "6198       fiction       memoir         non-fiction   \n",
              "6200     book-club      fiction  historical-fiction   \n",
              "6203        memoir  non-fiction          nonfiction   \n",
              "6204  contemporary      fiction         young-adult   \n",
              "\n",
              "                                       genre  \\\n",
              "0              fantasy, fiction, young-adult   \n",
              "1              children, children-s, fantasy   \n",
              "2              fantasy, fiction, young-adult   \n",
              "3              fantasy, fiction, young-adult   \n",
              "4              fantasy, fiction, young-adult   \n",
              "...                                      ...   \n",
              "6197       thriller, book-club, contemporary   \n",
              "6198            fiction, memoir, non-fiction   \n",
              "6200  book-club, fiction, historical-fiction   \n",
              "6203         memoir, non-fiction, nonfiction   \n",
              "6204      contemporary, fiction, young-adult   \n",
              "\n",
              "                                                    tag  \n",
              "0     Harry Potter and the Half-Blood Prince by J.K....  \n",
              "1     Harry Potter and the Order of the Phoenix by J...  \n",
              "2     \"Harry Potter and the Sorcerer's Stoneâ„¢\" -- ...  \n",
              "3     Harry Potter and the Prisoner of Azkaban (Nove...  \n",
              "4     Harry Potter and the Goblet of Fire by J.K. Ro...  \n",
              "...                                                 ...  \n",
              "6197  The 16 Personality Types in a Nutshell<b>Meet ...  \n",
              "6198  Talking as Fast as I Can: From Gilmore Girls t...  \n",
              "6200  The Underground Railroad: Winner of the Pulitz...  \n",
              "6203  Love Warrior: A Memoir<b>#1 <i>New York Times<...  \n",
              "6204  The Hate U Give: A Printz Honor Winner8 starre...  \n",
              "\n",
              "[5797 rows x 14 columns]"
            ],
            "text/html": [
              "\n",
              "  <div id=\"df-4b79f98e-863c-4a9a-aacc-1597066f2e93\">\n",
              "    <div class=\"colab-df-container\">\n",
              "      <div>\n",
              "<style scoped>\n",
              "    .dataframe tbody tr th:only-of-type {\n",
              "        vertical-align: middle;\n",
              "    }\n",
              "\n",
              "    .dataframe tbody tr th {\n",
              "        vertical-align: top;\n",
              "    }\n",
              "\n",
              "    .dataframe thead th {\n",
              "        text-align: right;\n",
              "    }\n",
              "</style>\n",
              "<table border=\"1\" class=\"dataframe\">\n",
              "  <thead>\n",
              "    <tr style=\"text-align: right;\">\n",
              "      <th></th>\n",
              "      <th>books_id</th>\n",
              "      <th>title</th>\n",
              "      <th>url_playbook</th>\n",
              "      <th>url_image</th>\n",
              "      <th>synopsis</th>\n",
              "      <th>idr</th>\n",
              "      <th>isbn</th>\n",
              "      <th>author</th>\n",
              "      <th>avg_rating</th>\n",
              "      <th>tags1</th>\n",
              "      <th>tags2</th>\n",
              "      <th>tags3</th>\n",
              "      <th>genre</th>\n",
              "      <th>tag</th>\n",
              "    </tr>\n",
              "  </thead>\n",
              "  <tbody>\n",
              "    <tr>\n",
              "      <th>0</th>\n",
              "      <td>1</td>\n",
              "      <td>Harry Potter and the Half-Blood Prince by J.K....</td>\n",
              "      <td>https://play.google.com/store/books/details/Br...</td>\n",
              "      <td>https://books.google.com/books/publisher/conte...</td>\n",
              "      <td>&lt;b&gt;Unlock the more straightforward side of &lt;i&gt;...</td>\n",
              "      <td>$81,056.00</td>\n",
              "      <td>439785960</td>\n",
              "      <td>J.K. Rowling, Mary GrandPrÃ©</td>\n",
              "      <td>4,54</td>\n",
              "      <td>fantasy</td>\n",
              "      <td>fiction</td>\n",
              "      <td>young-adult</td>\n",
              "      <td>fantasy, fiction, young-adult</td>\n",
              "      <td>Harry Potter and the Half-Blood Prince by J.K....</td>\n",
              "    </tr>\n",
              "    <tr>\n",
              "      <th>1</th>\n",
              "      <td>2</td>\n",
              "      <td>Harry Potter and the Order of the Phoenix by J...</td>\n",
              "      <td>https://play.google.com/store/books/details/Br...</td>\n",
              "      <td>https://books.google.com/books/publisher/conte...</td>\n",
              "      <td>&lt;b&gt;Unlock the more straightforward side of &lt;i&gt;...</td>\n",
              "      <td>$81,056.00</td>\n",
              "      <td>439358078</td>\n",
              "      <td>J.K. Rowling, Mary GrandPrÃ©</td>\n",
              "      <td>4,46</td>\n",
              "      <td>children</td>\n",
              "      <td>children-s</td>\n",
              "      <td>fantasy</td>\n",
              "      <td>children, children-s, fantasy</td>\n",
              "      <td>Harry Potter and the Order of the Phoenix by J...</td>\n",
              "    </tr>\n",
              "    <tr>\n",
              "      <th>2</th>\n",
              "      <td>3</td>\n",
              "      <td>\"Harry Potter and the Sorcerer's Stoneâ„¢\" -- ...</td>\n",
              "      <td>https://play.google.com/store/books/details/Jo...</td>\n",
              "      <td>https://books.google.com/books/publisher/conte...</td>\n",
              "      <td>This instrumental series contains selected the...</td>\n",
              "      <td>$97,297.00</td>\n",
              "      <td>439554934</td>\n",
              "      <td>J.K. Rowling, Mary GrandPrÃ©</td>\n",
              "      <td>4,44</td>\n",
              "      <td>fantasy</td>\n",
              "      <td>fiction</td>\n",
              "      <td>young-adult</td>\n",
              "      <td>fantasy, fiction, young-adult</td>\n",
              "      <td>\"Harry Potter and the Sorcerer's Stoneâ„¢\" -- ...</td>\n",
              "    </tr>\n",
              "    <tr>\n",
              "      <th>3</th>\n",
              "      <td>5</td>\n",
              "      <td>Harry Potter and the Prisoner of Azkaban (Nove...</td>\n",
              "      <td>https://play.google.com/store/books/details/Ke...</td>\n",
              "      <td>https://books.google.com/books/publisher/conte...</td>\n",
              "      <td>Harry Potter and the Prisoner of Azkaban is ab...</td>\n",
              "      <td>$145,126.00</td>\n",
              "      <td>439655480</td>\n",
              "      <td>J.K. Rowling, Mary GrandPrÃ©, Rufus Beck</td>\n",
              "      <td>4,53</td>\n",
              "      <td>fantasy</td>\n",
              "      <td>fiction</td>\n",
              "      <td>young-adult</td>\n",
              "      <td>fantasy, fiction, young-adult</td>\n",
              "      <td>Harry Potter and the Prisoner of Azkaban (Nove...</td>\n",
              "    </tr>\n",
              "    <tr>\n",
              "      <th>4</th>\n",
              "      <td>6</td>\n",
              "      <td>Harry Potter and the Goblet of Fire by J.K. Ro...</td>\n",
              "      <td>https://play.google.com/store/books/details/Br...</td>\n",
              "      <td>https://books.google.com/books/publisher/conte...</td>\n",
              "      <td>&lt;b&gt;Unlock the more straightforward side of &lt;i&gt;...</td>\n",
              "      <td>$81,056.00</td>\n",
              "      <td>439139600</td>\n",
              "      <td>J.K. Rowling, Mary GrandPrÃ©</td>\n",
              "      <td>4,53</td>\n",
              "      <td>fantasy</td>\n",
              "      <td>fiction</td>\n",
              "      <td>young-adult</td>\n",
              "      <td>fantasy, fiction, young-adult</td>\n",
              "      <td>Harry Potter and the Goblet of Fire by J.K. Ro...</td>\n",
              "    </tr>\n",
              "    <tr>\n",
              "      <th>...</th>\n",
              "      <td>...</td>\n",
              "      <td>...</td>\n",
              "      <td>...</td>\n",
              "      <td>...</td>\n",
              "      <td>...</td>\n",
              "      <td>...</td>\n",
              "      <td>...</td>\n",
              "      <td>...</td>\n",
              "      <td>...</td>\n",
              "      <td>...</td>\n",
              "      <td>...</td>\n",
              "      <td>...</td>\n",
              "      <td>...</td>\n",
              "      <td>...</td>\n",
              "    </tr>\n",
              "    <tr>\n",
              "      <th>6197</th>\n",
              "      <td>30008702</td>\n",
              "      <td>The 16 Personality Types in a Nutshell</td>\n",
              "      <td>https://play.google.com/store/books/details/Ja...</td>\n",
              "      <td>https://books.google.com/books/publisher/conte...</td>\n",
              "      <td>&lt;b&gt;Meet the self-sufficient and brilliant stra...</td>\n",
              "      <td>$0.00</td>\n",
              "      <td>385542070</td>\n",
              "      <td>Ian McEwan</td>\n",
              "      <td>3,71</td>\n",
              "      <td>thriller</td>\n",
              "      <td>book-club</td>\n",
              "      <td>contemporary</td>\n",
              "      <td>thriller, book-club, contemporary</td>\n",
              "      <td>The 16 Personality Types in a Nutshell&lt;b&gt;Meet ...</td>\n",
              "    </tr>\n",
              "    <tr>\n",
              "      <th>6198</th>\n",
              "      <td>30253864</td>\n",
              "      <td>Talking as Fast as I Can: From Gilmore Girls t...</td>\n",
              "      <td>https://play.google.com/store/books/details/La...</td>\n",
              "      <td>https://books.google.com/books/publisher/conte...</td>\n",
              "      <td>&lt;b&gt;&lt;i&gt;NEW YORK TIMES&lt;/i&gt; BESTSELLER â€¢ In thi...</td>\n",
              "      <td>$148,851.00</td>\n",
              "      <td>425285170</td>\n",
              "      <td>Lauren Graham</td>\n",
              "      <td>4,04</td>\n",
              "      <td>fiction</td>\n",
              "      <td>memoir</td>\n",
              "      <td>non-fiction</td>\n",
              "      <td>fiction, memoir, non-fiction</td>\n",
              "      <td>Talking as Fast as I Can: From Gilmore Girls t...</td>\n",
              "    </tr>\n",
              "    <tr>\n",
              "      <th>6200</th>\n",
              "      <td>30555488</td>\n",
              "      <td>The Underground Railroad: Winner of the Pulitz...</td>\n",
              "      <td>https://play.google.com/store/books/details/Co...</td>\n",
              "      <td>https://books.google.com/books/publisher/conte...</td>\n",
              "      <td>&lt;b&gt;WINNER OF THE PULITZER PRIZE FOR FICTION 20...</td>\n",
              "      <td>$123,598.00</td>\n",
              "      <td>385542364</td>\n",
              "      <td>Colson Whitehead</td>\n",
              "      <td>4,04</td>\n",
              "      <td>book-club</td>\n",
              "      <td>fiction</td>\n",
              "      <td>historical-fiction</td>\n",
              "      <td>book-club, fiction, historical-fiction</td>\n",
              "      <td>The Underground Railroad: Winner of the Pulitz...</td>\n",
              "    </tr>\n",
              "    <tr>\n",
              "      <th>6203</th>\n",
              "      <td>31845516</td>\n",
              "      <td>Love Warrior: A Memoir</td>\n",
              "      <td>https://play.google.com/store/books/details/Gl...</td>\n",
              "      <td>https://books.google.com/books/publisher/conte...</td>\n",
              "      <td>&lt;b&gt;#1 &lt;i&gt;New York Times&lt;/i&gt; Bestseller | &lt;/b&gt;&lt;...</td>\n",
              "      <td>$178,651.00</td>\n",
              "      <td>1250128544</td>\n",
              "      <td>Glennon Doyle Melton</td>\n",
              "      <td>4,1</td>\n",
              "      <td>memoir</td>\n",
              "      <td>non-fiction</td>\n",
              "      <td>nonfiction</td>\n",
              "      <td>memoir, non-fiction, nonfiction</td>\n",
              "      <td>Love Warrior: A Memoir&lt;b&gt;#1 &lt;i&gt;New York Times&lt;...</td>\n",
              "    </tr>\n",
              "    <tr>\n",
              "      <th>6204</th>\n",
              "      <td>32075671</td>\n",
              "      <td>The Hate U Give: A Printz Honor Winner</td>\n",
              "      <td>https://play.google.com/store/books/details/An...</td>\n",
              "      <td>https://books.google.com/books/publisher/conte...</td>\n",
              "      <td>8 starred reviews Â· Goodreads Choice Awards B...</td>\n",
              "      <td>$208,451.00</td>\n",
              "      <td>62498533</td>\n",
              "      <td>Angie Thomas</td>\n",
              "      <td>4,62</td>\n",
              "      <td>contemporary</td>\n",
              "      <td>fiction</td>\n",
              "      <td>young-adult</td>\n",
              "      <td>contemporary, fiction, young-adult</td>\n",
              "      <td>The Hate U Give: A Printz Honor Winner8 starre...</td>\n",
              "    </tr>\n",
              "  </tbody>\n",
              "</table>\n",
              "<p>5797 rows × 14 columns</p>\n",
              "</div>\n",
              "      <button class=\"colab-df-convert\" onclick=\"convertToInteractive('df-4b79f98e-863c-4a9a-aacc-1597066f2e93')\"\n",
              "              title=\"Convert this dataframe to an interactive table.\"\n",
              "              style=\"display:none;\">\n",
              "        \n",
              "  <svg xmlns=\"http://www.w3.org/2000/svg\" height=\"24px\"viewBox=\"0 0 24 24\"\n",
              "       width=\"24px\">\n",
              "    <path d=\"M0 0h24v24H0V0z\" fill=\"none\"/>\n",
              "    <path d=\"M18.56 5.44l.94 2.06.94-2.06 2.06-.94-2.06-.94-.94-2.06-.94 2.06-2.06.94zm-11 1L8.5 8.5l.94-2.06 2.06-.94-2.06-.94L8.5 2.5l-.94 2.06-2.06.94zm10 10l.94 2.06.94-2.06 2.06-.94-2.06-.94-.94-2.06-.94 2.06-2.06.94z\"/><path d=\"M17.41 7.96l-1.37-1.37c-.4-.4-.92-.59-1.43-.59-.52 0-1.04.2-1.43.59L10.3 9.45l-7.72 7.72c-.78.78-.78 2.05 0 2.83L4 21.41c.39.39.9.59 1.41.59.51 0 1.02-.2 1.41-.59l7.78-7.78 2.81-2.81c.8-.78.8-2.07 0-2.86zM5.41 20L4 18.59l7.72-7.72 1.47 1.35L5.41 20z\"/>\n",
              "  </svg>\n",
              "      </button>\n",
              "      \n",
              "  <style>\n",
              "    .colab-df-container {\n",
              "      display:flex;\n",
              "      flex-wrap:wrap;\n",
              "      gap: 12px;\n",
              "    }\n",
              "\n",
              "    .colab-df-convert {\n",
              "      background-color: #E8F0FE;\n",
              "      border: none;\n",
              "      border-radius: 50%;\n",
              "      cursor: pointer;\n",
              "      display: none;\n",
              "      fill: #1967D2;\n",
              "      height: 32px;\n",
              "      padding: 0 0 0 0;\n",
              "      width: 32px;\n",
              "    }\n",
              "\n",
              "    .colab-df-convert:hover {\n",
              "      background-color: #E2EBFA;\n",
              "      box-shadow: 0px 1px 2px rgba(60, 64, 67, 0.3), 0px 1px 3px 1px rgba(60, 64, 67, 0.15);\n",
              "      fill: #174EA6;\n",
              "    }\n",
              "\n",
              "    [theme=dark] .colab-df-convert {\n",
              "      background-color: #3B4455;\n",
              "      fill: #D2E3FC;\n",
              "    }\n",
              "\n",
              "    [theme=dark] .colab-df-convert:hover {\n",
              "      background-color: #434B5C;\n",
              "      box-shadow: 0px 1px 3px 1px rgba(0, 0, 0, 0.15);\n",
              "      filter: drop-shadow(0px 1px 2px rgba(0, 0, 0, 0.3));\n",
              "      fill: #FFFFFF;\n",
              "    }\n",
              "  </style>\n",
              "\n",
              "      <script>\n",
              "        const buttonEl =\n",
              "          document.querySelector('#df-4b79f98e-863c-4a9a-aacc-1597066f2e93 button.colab-df-convert');\n",
              "        buttonEl.style.display =\n",
              "          google.colab.kernel.accessAllowed ? 'block' : 'none';\n",
              "\n",
              "        async function convertToInteractive(key) {\n",
              "          const element = document.querySelector('#df-4b79f98e-863c-4a9a-aacc-1597066f2e93');\n",
              "          const dataTable =\n",
              "            await google.colab.kernel.invokeFunction('convertToInteractive',\n",
              "                                                     [key], {});\n",
              "          if (!dataTable) return;\n",
              "\n",
              "          const docLinkHtml = 'Like what you see? Visit the ' +\n",
              "            '<a target=\"_blank\" href=https://colab.research.google.com/notebooks/data_table.ipynb>data table notebook</a>'\n",
              "            + ' to learn more about interactive tables.';\n",
              "          element.innerHTML = '';\n",
              "          dataTable['output_type'] = 'display_data';\n",
              "          await google.colab.output.renderOutput(dataTable, element);\n",
              "          const docLink = document.createElement('div');\n",
              "          docLink.innerHTML = docLinkHtml;\n",
              "          element.appendChild(docLink);\n",
              "        }\n",
              "      </script>\n",
              "    </div>\n",
              "  </div>\n",
              "  "
            ]
          },
          "metadata": {},
          "execution_count": 10
        }
      ]
    },
    {
      "cell_type": "markdown",
      "source": [
        "**Mengubah Column Tags menjadi Kata Dasar**"
      ],
      "metadata": {
        "id": "JCJZFuUY13rz"
      }
    },
    {
      "cell_type": "code",
      "source": [
        "import re\n",
        "import nltk\n",
        "nltk.download('stopwords')\n",
        "from nltk.tokenize import RegexpTokenizer\n",
        "# Function for removing NonAscii characters\n",
        "def _removeNonAscii(s):\n",
        "    return \"\".join(i for i in s if  ord(i)<128)\n",
        "# Function for converting into lower case\n",
        "def make_lower_case(text):\n",
        "    return text.lower()\n",
        "# Function for removing stop words\n",
        "def remove_stop_words(text):\n",
        "    text = text.split()\n",
        "    stops = set(stopwords.words(\"english\"))\n",
        "    text = [w for w in text if not w in stops]\n",
        "    text = \" \".join(text)\n",
        "    return text\n",
        "# Function for removing punctuation\n",
        "def remove_punctuation(text):\n",
        "    tokenizer = RegexpTokenizer(r'\\w+')\n",
        "    text = tokenizer.tokenize(text)\n",
        "    text = \" \".join(text)\n",
        "    return text\n",
        "#Function for removing the html tags\n",
        "def remove_html(text):\n",
        "    html_pattern = re.compile('<.*?>')\n",
        "    return html_pattern.sub(r'', text)\n",
        "# Applying all the functions in description and storing as a cleaned_desc\n",
        "df['tags'] = df['tag'].apply(_removeNonAscii)\n",
        "df['tags'] = df.tags.apply(func = make_lower_case)\n",
        "df['tags'] = df.tags.apply(func = remove_stop_words)\n",
        "df['tags'] = df.tags.apply(func=remove_punctuation)\n",
        "df['tags'] = df.tags.apply(func=remove_html)\n"
      ],
      "metadata": {
        "id": "16TU1vlsA3fn",
        "colab": {
          "base_uri": "https://localhost:8080/"
        },
        "outputId": "aa1f187f-f5dc-4b7e-b723-84bfc58a61a8"
      },
      "execution_count": 12,
      "outputs": [
        {
          "output_type": "stream",
          "name": "stderr",
          "text": [
            "[nltk_data] Downloading package stopwords to /root/nltk_data...\n",
            "[nltk_data]   Unzipping corpora/stopwords.zip.\n"
          ]
        }
      ]
    },
    {
      "cell_type": "code",
      "source": [
        "df"
      ],
      "metadata": {
        "colab": {
          "base_uri": "https://localhost:8080/",
          "height": 1000
        },
        "id": "TLXVBbGx4Hi9",
        "outputId": "831f7c28-fa2c-43d8-87c7-42b150c60d3b"
      },
      "execution_count": 13,
      "outputs": [
        {
          "output_type": "execute_result",
          "data": {
            "text/plain": [
              "      books_id                                              title  \\\n",
              "0            1  Harry Potter and the Half-Blood Prince by J.K....   \n",
              "1            2  Harry Potter and the Order of the Phoenix by J...   \n",
              "2            3  \"Harry Potter and the Sorcerer's Stoneâ„¢\" -- ...   \n",
              "3            5  Harry Potter and the Prisoner of Azkaban (Nove...   \n",
              "4            6  Harry Potter and the Goblet of Fire by J.K. Ro...   \n",
              "...        ...                                                ...   \n",
              "6197  30008702             The 16 Personality Types in a Nutshell   \n",
              "6198  30253864  Talking as Fast as I Can: From Gilmore Girls t...   \n",
              "6200  30555488  The Underground Railroad: Winner of the Pulitz...   \n",
              "6203  31845516                             Love Warrior: A Memoir   \n",
              "6204  32075671             The Hate U Give: A Printz Honor Winner   \n",
              "\n",
              "                                           url_playbook  \\\n",
              "0     https://play.google.com/store/books/details/Br...   \n",
              "1     https://play.google.com/store/books/details/Br...   \n",
              "2     https://play.google.com/store/books/details/Jo...   \n",
              "3     https://play.google.com/store/books/details/Ke...   \n",
              "4     https://play.google.com/store/books/details/Br...   \n",
              "...                                                 ...   \n",
              "6197  https://play.google.com/store/books/details/Ja...   \n",
              "6198  https://play.google.com/store/books/details/La...   \n",
              "6200  https://play.google.com/store/books/details/Co...   \n",
              "6203  https://play.google.com/store/books/details/Gl...   \n",
              "6204  https://play.google.com/store/books/details/An...   \n",
              "\n",
              "                                              url_image  \\\n",
              "0     https://books.google.com/books/publisher/conte...   \n",
              "1     https://books.google.com/books/publisher/conte...   \n",
              "2     https://books.google.com/books/publisher/conte...   \n",
              "3     https://books.google.com/books/publisher/conte...   \n",
              "4     https://books.google.com/books/publisher/conte...   \n",
              "...                                                 ...   \n",
              "6197  https://books.google.com/books/publisher/conte...   \n",
              "6198  https://books.google.com/books/publisher/conte...   \n",
              "6200  https://books.google.com/books/publisher/conte...   \n",
              "6203  https://books.google.com/books/publisher/conte...   \n",
              "6204  https://books.google.com/books/publisher/conte...   \n",
              "\n",
              "                                               synopsis          idr  \\\n",
              "0     <b>Unlock the more straightforward side of <i>...   $81,056.00   \n",
              "1     <b>Unlock the more straightforward side of <i>...   $81,056.00   \n",
              "2     This instrumental series contains selected the...   $97,297.00   \n",
              "3     Harry Potter and the Prisoner of Azkaban is ab...  $145,126.00   \n",
              "4     <b>Unlock the more straightforward side of <i>...   $81,056.00   \n",
              "...                                                 ...          ...   \n",
              "6197  <b>Meet the self-sufficient and brilliant stra...        $0.00   \n",
              "6198  <b><i>NEW YORK TIMES</i> BESTSELLER â€¢ In thi...  $148,851.00   \n",
              "6200  <b>WINNER OF THE PULITZER PRIZE FOR FICTION 20...  $123,598.00   \n",
              "6203  <b>#1 <i>New York Times</i> Bestseller | </b><...  $178,651.00   \n",
              "6204  8 starred reviews Â· Goodreads Choice Awards B...  $208,451.00   \n",
              "\n",
              "            isbn                                    author avg_rating  \\\n",
              "0      439785960              J.K. Rowling, Mary GrandPrÃ©       4,54   \n",
              "1      439358078              J.K. Rowling, Mary GrandPrÃ©       4,46   \n",
              "2      439554934              J.K. Rowling, Mary GrandPrÃ©       4,44   \n",
              "3      439655480  J.K. Rowling, Mary GrandPrÃ©, Rufus Beck       4,53   \n",
              "4      439139600              J.K. Rowling, Mary GrandPrÃ©       4,53   \n",
              "...          ...                                       ...        ...   \n",
              "6197   385542070                                Ian McEwan       3,71   \n",
              "6198   425285170                             Lauren Graham       4,04   \n",
              "6200   385542364                          Colson Whitehead       4,04   \n",
              "6203  1250128544                      Glennon Doyle Melton        4,1   \n",
              "6204    62498533                              Angie Thomas       4,62   \n",
              "\n",
              "             tags1        tags2               tags3  \\\n",
              "0          fantasy      fiction         young-adult   \n",
              "1         children   children-s             fantasy   \n",
              "2          fantasy      fiction         young-adult   \n",
              "3          fantasy      fiction         young-adult   \n",
              "4          fantasy      fiction         young-adult   \n",
              "...            ...          ...                 ...   \n",
              "6197      thriller    book-club        contemporary   \n",
              "6198       fiction       memoir         non-fiction   \n",
              "6200     book-club      fiction  historical-fiction   \n",
              "6203        memoir  non-fiction          nonfiction   \n",
              "6204  contemporary      fiction         young-adult   \n",
              "\n",
              "                                       genre  \\\n",
              "0              fantasy, fiction, young-adult   \n",
              "1              children, children-s, fantasy   \n",
              "2              fantasy, fiction, young-adult   \n",
              "3              fantasy, fiction, young-adult   \n",
              "4              fantasy, fiction, young-adult   \n",
              "...                                      ...   \n",
              "6197       thriller, book-club, contemporary   \n",
              "6198            fiction, memoir, non-fiction   \n",
              "6200  book-club, fiction, historical-fiction   \n",
              "6203         memoir, non-fiction, nonfiction   \n",
              "6204      contemporary, fiction, young-adult   \n",
              "\n",
              "                                                    tag  \\\n",
              "0     Harry Potter and the Half-Blood Prince by J.K....   \n",
              "1     Harry Potter and the Order of the Phoenix by J...   \n",
              "2     \"Harry Potter and the Sorcerer's Stoneâ„¢\" -- ...   \n",
              "3     Harry Potter and the Prisoner of Azkaban (Nove...   \n",
              "4     Harry Potter and the Goblet of Fire by J.K. Ro...   \n",
              "...                                                 ...   \n",
              "6197  The 16 Personality Types in a Nutshell<b>Meet ...   \n",
              "6198  Talking as Fast as I Can: From Gilmore Girls t...   \n",
              "6200  The Underground Railroad: Winner of the Pulitz...   \n",
              "6203  Love Warrior: A Memoir<b>#1 <i>New York Times<...   \n",
              "6204  The Hate U Give: A Printz Honor Winner8 starre...   \n",
              "\n",
              "                                                   tags  \n",
              "0     harry potter half blood prince j k rowling boo...  \n",
              "1     harry potter order phoenix j k rowling book an...  \n",
              "2     harry potter sorcerer s stone selected themes ...  \n",
              "3     harry potter prisoner azkaban novel study gr 4...  \n",
              "4     harry potter goblet fire j k rowling book anal...  \n",
              "...                                                 ...  \n",
              "6197  16 personality types nutshell b meet self suff...  \n",
              "6198  talking fast can gilmore girls gilmore girls a...  \n",
              "6200  underground railroad winner pulitzer prize fic...  \n",
              "6203  love warrior memoir b 1 i new york times i bes...  \n",
              "6204  hate u give printz honor winner8 starred revie...  \n",
              "\n",
              "[5797 rows x 15 columns]"
            ],
            "text/html": [
              "\n",
              "  <div id=\"df-5d3d2a6f-838d-4f66-aa34-b45f37cdcff2\">\n",
              "    <div class=\"colab-df-container\">\n",
              "      <div>\n",
              "<style scoped>\n",
              "    .dataframe tbody tr th:only-of-type {\n",
              "        vertical-align: middle;\n",
              "    }\n",
              "\n",
              "    .dataframe tbody tr th {\n",
              "        vertical-align: top;\n",
              "    }\n",
              "\n",
              "    .dataframe thead th {\n",
              "        text-align: right;\n",
              "    }\n",
              "</style>\n",
              "<table border=\"1\" class=\"dataframe\">\n",
              "  <thead>\n",
              "    <tr style=\"text-align: right;\">\n",
              "      <th></th>\n",
              "      <th>books_id</th>\n",
              "      <th>title</th>\n",
              "      <th>url_playbook</th>\n",
              "      <th>url_image</th>\n",
              "      <th>synopsis</th>\n",
              "      <th>idr</th>\n",
              "      <th>isbn</th>\n",
              "      <th>author</th>\n",
              "      <th>avg_rating</th>\n",
              "      <th>tags1</th>\n",
              "      <th>tags2</th>\n",
              "      <th>tags3</th>\n",
              "      <th>genre</th>\n",
              "      <th>tag</th>\n",
              "      <th>tags</th>\n",
              "    </tr>\n",
              "  </thead>\n",
              "  <tbody>\n",
              "    <tr>\n",
              "      <th>0</th>\n",
              "      <td>1</td>\n",
              "      <td>Harry Potter and the Half-Blood Prince by J.K....</td>\n",
              "      <td>https://play.google.com/store/books/details/Br...</td>\n",
              "      <td>https://books.google.com/books/publisher/conte...</td>\n",
              "      <td>&lt;b&gt;Unlock the more straightforward side of &lt;i&gt;...</td>\n",
              "      <td>$81,056.00</td>\n",
              "      <td>439785960</td>\n",
              "      <td>J.K. Rowling, Mary GrandPrÃ©</td>\n",
              "      <td>4,54</td>\n",
              "      <td>fantasy</td>\n",
              "      <td>fiction</td>\n",
              "      <td>young-adult</td>\n",
              "      <td>fantasy, fiction, young-adult</td>\n",
              "      <td>Harry Potter and the Half-Blood Prince by J.K....</td>\n",
              "      <td>harry potter half blood prince j k rowling boo...</td>\n",
              "    </tr>\n",
              "    <tr>\n",
              "      <th>1</th>\n",
              "      <td>2</td>\n",
              "      <td>Harry Potter and the Order of the Phoenix by J...</td>\n",
              "      <td>https://play.google.com/store/books/details/Br...</td>\n",
              "      <td>https://books.google.com/books/publisher/conte...</td>\n",
              "      <td>&lt;b&gt;Unlock the more straightforward side of &lt;i&gt;...</td>\n",
              "      <td>$81,056.00</td>\n",
              "      <td>439358078</td>\n",
              "      <td>J.K. Rowling, Mary GrandPrÃ©</td>\n",
              "      <td>4,46</td>\n",
              "      <td>children</td>\n",
              "      <td>children-s</td>\n",
              "      <td>fantasy</td>\n",
              "      <td>children, children-s, fantasy</td>\n",
              "      <td>Harry Potter and the Order of the Phoenix by J...</td>\n",
              "      <td>harry potter order phoenix j k rowling book an...</td>\n",
              "    </tr>\n",
              "    <tr>\n",
              "      <th>2</th>\n",
              "      <td>3</td>\n",
              "      <td>\"Harry Potter and the Sorcerer's Stoneâ„¢\" -- ...</td>\n",
              "      <td>https://play.google.com/store/books/details/Jo...</td>\n",
              "      <td>https://books.google.com/books/publisher/conte...</td>\n",
              "      <td>This instrumental series contains selected the...</td>\n",
              "      <td>$97,297.00</td>\n",
              "      <td>439554934</td>\n",
              "      <td>J.K. Rowling, Mary GrandPrÃ©</td>\n",
              "      <td>4,44</td>\n",
              "      <td>fantasy</td>\n",
              "      <td>fiction</td>\n",
              "      <td>young-adult</td>\n",
              "      <td>fantasy, fiction, young-adult</td>\n",
              "      <td>\"Harry Potter and the Sorcerer's Stoneâ„¢\" -- ...</td>\n",
              "      <td>harry potter sorcerer s stone selected themes ...</td>\n",
              "    </tr>\n",
              "    <tr>\n",
              "      <th>3</th>\n",
              "      <td>5</td>\n",
              "      <td>Harry Potter and the Prisoner of Azkaban (Nove...</td>\n",
              "      <td>https://play.google.com/store/books/details/Ke...</td>\n",
              "      <td>https://books.google.com/books/publisher/conte...</td>\n",
              "      <td>Harry Potter and the Prisoner of Azkaban is ab...</td>\n",
              "      <td>$145,126.00</td>\n",
              "      <td>439655480</td>\n",
              "      <td>J.K. Rowling, Mary GrandPrÃ©, Rufus Beck</td>\n",
              "      <td>4,53</td>\n",
              "      <td>fantasy</td>\n",
              "      <td>fiction</td>\n",
              "      <td>young-adult</td>\n",
              "      <td>fantasy, fiction, young-adult</td>\n",
              "      <td>Harry Potter and the Prisoner of Azkaban (Nove...</td>\n",
              "      <td>harry potter prisoner azkaban novel study gr 4...</td>\n",
              "    </tr>\n",
              "    <tr>\n",
              "      <th>4</th>\n",
              "      <td>6</td>\n",
              "      <td>Harry Potter and the Goblet of Fire by J.K. Ro...</td>\n",
              "      <td>https://play.google.com/store/books/details/Br...</td>\n",
              "      <td>https://books.google.com/books/publisher/conte...</td>\n",
              "      <td>&lt;b&gt;Unlock the more straightforward side of &lt;i&gt;...</td>\n",
              "      <td>$81,056.00</td>\n",
              "      <td>439139600</td>\n",
              "      <td>J.K. Rowling, Mary GrandPrÃ©</td>\n",
              "      <td>4,53</td>\n",
              "      <td>fantasy</td>\n",
              "      <td>fiction</td>\n",
              "      <td>young-adult</td>\n",
              "      <td>fantasy, fiction, young-adult</td>\n",
              "      <td>Harry Potter and the Goblet of Fire by J.K. Ro...</td>\n",
              "      <td>harry potter goblet fire j k rowling book anal...</td>\n",
              "    </tr>\n",
              "    <tr>\n",
              "      <th>...</th>\n",
              "      <td>...</td>\n",
              "      <td>...</td>\n",
              "      <td>...</td>\n",
              "      <td>...</td>\n",
              "      <td>...</td>\n",
              "      <td>...</td>\n",
              "      <td>...</td>\n",
              "      <td>...</td>\n",
              "      <td>...</td>\n",
              "      <td>...</td>\n",
              "      <td>...</td>\n",
              "      <td>...</td>\n",
              "      <td>...</td>\n",
              "      <td>...</td>\n",
              "      <td>...</td>\n",
              "    </tr>\n",
              "    <tr>\n",
              "      <th>6197</th>\n",
              "      <td>30008702</td>\n",
              "      <td>The 16 Personality Types in a Nutshell</td>\n",
              "      <td>https://play.google.com/store/books/details/Ja...</td>\n",
              "      <td>https://books.google.com/books/publisher/conte...</td>\n",
              "      <td>&lt;b&gt;Meet the self-sufficient and brilliant stra...</td>\n",
              "      <td>$0.00</td>\n",
              "      <td>385542070</td>\n",
              "      <td>Ian McEwan</td>\n",
              "      <td>3,71</td>\n",
              "      <td>thriller</td>\n",
              "      <td>book-club</td>\n",
              "      <td>contemporary</td>\n",
              "      <td>thriller, book-club, contemporary</td>\n",
              "      <td>The 16 Personality Types in a Nutshell&lt;b&gt;Meet ...</td>\n",
              "      <td>16 personality types nutshell b meet self suff...</td>\n",
              "    </tr>\n",
              "    <tr>\n",
              "      <th>6198</th>\n",
              "      <td>30253864</td>\n",
              "      <td>Talking as Fast as I Can: From Gilmore Girls t...</td>\n",
              "      <td>https://play.google.com/store/books/details/La...</td>\n",
              "      <td>https://books.google.com/books/publisher/conte...</td>\n",
              "      <td>&lt;b&gt;&lt;i&gt;NEW YORK TIMES&lt;/i&gt; BESTSELLER â€¢ In thi...</td>\n",
              "      <td>$148,851.00</td>\n",
              "      <td>425285170</td>\n",
              "      <td>Lauren Graham</td>\n",
              "      <td>4,04</td>\n",
              "      <td>fiction</td>\n",
              "      <td>memoir</td>\n",
              "      <td>non-fiction</td>\n",
              "      <td>fiction, memoir, non-fiction</td>\n",
              "      <td>Talking as Fast as I Can: From Gilmore Girls t...</td>\n",
              "      <td>talking fast can gilmore girls gilmore girls a...</td>\n",
              "    </tr>\n",
              "    <tr>\n",
              "      <th>6200</th>\n",
              "      <td>30555488</td>\n",
              "      <td>The Underground Railroad: Winner of the Pulitz...</td>\n",
              "      <td>https://play.google.com/store/books/details/Co...</td>\n",
              "      <td>https://books.google.com/books/publisher/conte...</td>\n",
              "      <td>&lt;b&gt;WINNER OF THE PULITZER PRIZE FOR FICTION 20...</td>\n",
              "      <td>$123,598.00</td>\n",
              "      <td>385542364</td>\n",
              "      <td>Colson Whitehead</td>\n",
              "      <td>4,04</td>\n",
              "      <td>book-club</td>\n",
              "      <td>fiction</td>\n",
              "      <td>historical-fiction</td>\n",
              "      <td>book-club, fiction, historical-fiction</td>\n",
              "      <td>The Underground Railroad: Winner of the Pulitz...</td>\n",
              "      <td>underground railroad winner pulitzer prize fic...</td>\n",
              "    </tr>\n",
              "    <tr>\n",
              "      <th>6203</th>\n",
              "      <td>31845516</td>\n",
              "      <td>Love Warrior: A Memoir</td>\n",
              "      <td>https://play.google.com/store/books/details/Gl...</td>\n",
              "      <td>https://books.google.com/books/publisher/conte...</td>\n",
              "      <td>&lt;b&gt;#1 &lt;i&gt;New York Times&lt;/i&gt; Bestseller | &lt;/b&gt;&lt;...</td>\n",
              "      <td>$178,651.00</td>\n",
              "      <td>1250128544</td>\n",
              "      <td>Glennon Doyle Melton</td>\n",
              "      <td>4,1</td>\n",
              "      <td>memoir</td>\n",
              "      <td>non-fiction</td>\n",
              "      <td>nonfiction</td>\n",
              "      <td>memoir, non-fiction, nonfiction</td>\n",
              "      <td>Love Warrior: A Memoir&lt;b&gt;#1 &lt;i&gt;New York Times&lt;...</td>\n",
              "      <td>love warrior memoir b 1 i new york times i bes...</td>\n",
              "    </tr>\n",
              "    <tr>\n",
              "      <th>6204</th>\n",
              "      <td>32075671</td>\n",
              "      <td>The Hate U Give: A Printz Honor Winner</td>\n",
              "      <td>https://play.google.com/store/books/details/An...</td>\n",
              "      <td>https://books.google.com/books/publisher/conte...</td>\n",
              "      <td>8 starred reviews Â· Goodreads Choice Awards B...</td>\n",
              "      <td>$208,451.00</td>\n",
              "      <td>62498533</td>\n",
              "      <td>Angie Thomas</td>\n",
              "      <td>4,62</td>\n",
              "      <td>contemporary</td>\n",
              "      <td>fiction</td>\n",
              "      <td>young-adult</td>\n",
              "      <td>contemporary, fiction, young-adult</td>\n",
              "      <td>The Hate U Give: A Printz Honor Winner8 starre...</td>\n",
              "      <td>hate u give printz honor winner8 starred revie...</td>\n",
              "    </tr>\n",
              "  </tbody>\n",
              "</table>\n",
              "<p>5797 rows × 15 columns</p>\n",
              "</div>\n",
              "      <button class=\"colab-df-convert\" onclick=\"convertToInteractive('df-5d3d2a6f-838d-4f66-aa34-b45f37cdcff2')\"\n",
              "              title=\"Convert this dataframe to an interactive table.\"\n",
              "              style=\"display:none;\">\n",
              "        \n",
              "  <svg xmlns=\"http://www.w3.org/2000/svg\" height=\"24px\"viewBox=\"0 0 24 24\"\n",
              "       width=\"24px\">\n",
              "    <path d=\"M0 0h24v24H0V0z\" fill=\"none\"/>\n",
              "    <path d=\"M18.56 5.44l.94 2.06.94-2.06 2.06-.94-2.06-.94-.94-2.06-.94 2.06-2.06.94zm-11 1L8.5 8.5l.94-2.06 2.06-.94-2.06-.94L8.5 2.5l-.94 2.06-2.06.94zm10 10l.94 2.06.94-2.06 2.06-.94-2.06-.94-.94-2.06-.94 2.06-2.06.94z\"/><path d=\"M17.41 7.96l-1.37-1.37c-.4-.4-.92-.59-1.43-.59-.52 0-1.04.2-1.43.59L10.3 9.45l-7.72 7.72c-.78.78-.78 2.05 0 2.83L4 21.41c.39.39.9.59 1.41.59.51 0 1.02-.2 1.41-.59l7.78-7.78 2.81-2.81c.8-.78.8-2.07 0-2.86zM5.41 20L4 18.59l7.72-7.72 1.47 1.35L5.41 20z\"/>\n",
              "  </svg>\n",
              "      </button>\n",
              "      \n",
              "  <style>\n",
              "    .colab-df-container {\n",
              "      display:flex;\n",
              "      flex-wrap:wrap;\n",
              "      gap: 12px;\n",
              "    }\n",
              "\n",
              "    .colab-df-convert {\n",
              "      background-color: #E8F0FE;\n",
              "      border: none;\n",
              "      border-radius: 50%;\n",
              "      cursor: pointer;\n",
              "      display: none;\n",
              "      fill: #1967D2;\n",
              "      height: 32px;\n",
              "      padding: 0 0 0 0;\n",
              "      width: 32px;\n",
              "    }\n",
              "\n",
              "    .colab-df-convert:hover {\n",
              "      background-color: #E2EBFA;\n",
              "      box-shadow: 0px 1px 2px rgba(60, 64, 67, 0.3), 0px 1px 3px 1px rgba(60, 64, 67, 0.15);\n",
              "      fill: #174EA6;\n",
              "    }\n",
              "\n",
              "    [theme=dark] .colab-df-convert {\n",
              "      background-color: #3B4455;\n",
              "      fill: #D2E3FC;\n",
              "    }\n",
              "\n",
              "    [theme=dark] .colab-df-convert:hover {\n",
              "      background-color: #434B5C;\n",
              "      box-shadow: 0px 1px 3px 1px rgba(0, 0, 0, 0.15);\n",
              "      filter: drop-shadow(0px 1px 2px rgba(0, 0, 0, 0.3));\n",
              "      fill: #FFFFFF;\n",
              "    }\n",
              "  </style>\n",
              "\n",
              "      <script>\n",
              "        const buttonEl =\n",
              "          document.querySelector('#df-5d3d2a6f-838d-4f66-aa34-b45f37cdcff2 button.colab-df-convert');\n",
              "        buttonEl.style.display =\n",
              "          google.colab.kernel.accessAllowed ? 'block' : 'none';\n",
              "\n",
              "        async function convertToInteractive(key) {\n",
              "          const element = document.querySelector('#df-5d3d2a6f-838d-4f66-aa34-b45f37cdcff2');\n",
              "          const dataTable =\n",
              "            await google.colab.kernel.invokeFunction('convertToInteractive',\n",
              "                                                     [key], {});\n",
              "          if (!dataTable) return;\n",
              "\n",
              "          const docLinkHtml = 'Like what you see? Visit the ' +\n",
              "            '<a target=\"_blank\" href=https://colab.research.google.com/notebooks/data_table.ipynb>data table notebook</a>'\n",
              "            + ' to learn more about interactive tables.';\n",
              "          element.innerHTML = '';\n",
              "          dataTable['output_type'] = 'display_data';\n",
              "          await google.colab.output.renderOutput(dataTable, element);\n",
              "          const docLink = document.createElement('div');\n",
              "          docLink.innerHTML = docLinkHtml;\n",
              "          element.appendChild(docLink);\n",
              "        }\n",
              "      </script>\n",
              "    </div>\n",
              "  </div>\n",
              "  "
            ]
          },
          "metadata": {},
          "execution_count": 13
        }
      ]
    },
    {
      "cell_type": "markdown",
      "source": [
        "**Inisialisasi Tabel Baru yang akan Digunakan Untuk Rekomendasi**"
      ],
      "metadata": {
        "id": "e1_AYrzV2FM8"
      }
    },
    {
      "cell_type": "code",
      "source": [
        "df_fix = df[['books_id', 'title', 'tags']]"
      ],
      "metadata": {
        "id": "IA3RMCytKEUJ"
      },
      "execution_count": 14,
      "outputs": []
    },
    {
      "cell_type": "code",
      "source": [
        "df_fix.head(5)"
      ],
      "metadata": {
        "colab": {
          "base_uri": "https://localhost:8080/",
          "height": 206
        },
        "id": "mlL8iRMOKQ7j",
        "outputId": "c5fa8e21-0e03-4feb-aa10-a79e026c62a0"
      },
      "execution_count": 15,
      "outputs": [
        {
          "output_type": "execute_result",
          "data": {
            "text/plain": [
              "   books_id                                              title  \\\n",
              "0         1  Harry Potter and the Half-Blood Prince by J.K....   \n",
              "1         2  Harry Potter and the Order of the Phoenix by J...   \n",
              "2         3  \"Harry Potter and the Sorcerer's Stoneâ„¢\" -- ...   \n",
              "3         5  Harry Potter and the Prisoner of Azkaban (Nove...   \n",
              "4         6  Harry Potter and the Goblet of Fire by J.K. Ro...   \n",
              "\n",
              "                                                tags  \n",
              "0  harry potter half blood prince j k rowling boo...  \n",
              "1  harry potter order phoenix j k rowling book an...  \n",
              "2  harry potter sorcerer s stone selected themes ...  \n",
              "3  harry potter prisoner azkaban novel study gr 4...  \n",
              "4  harry potter goblet fire j k rowling book anal...  "
            ],
            "text/html": [
              "\n",
              "  <div id=\"df-5e1e5b52-593f-48fd-aa13-658652d16646\">\n",
              "    <div class=\"colab-df-container\">\n",
              "      <div>\n",
              "<style scoped>\n",
              "    .dataframe tbody tr th:only-of-type {\n",
              "        vertical-align: middle;\n",
              "    }\n",
              "\n",
              "    .dataframe tbody tr th {\n",
              "        vertical-align: top;\n",
              "    }\n",
              "\n",
              "    .dataframe thead th {\n",
              "        text-align: right;\n",
              "    }\n",
              "</style>\n",
              "<table border=\"1\" class=\"dataframe\">\n",
              "  <thead>\n",
              "    <tr style=\"text-align: right;\">\n",
              "      <th></th>\n",
              "      <th>books_id</th>\n",
              "      <th>title</th>\n",
              "      <th>tags</th>\n",
              "    </tr>\n",
              "  </thead>\n",
              "  <tbody>\n",
              "    <tr>\n",
              "      <th>0</th>\n",
              "      <td>1</td>\n",
              "      <td>Harry Potter and the Half-Blood Prince by J.K....</td>\n",
              "      <td>harry potter half blood prince j k rowling boo...</td>\n",
              "    </tr>\n",
              "    <tr>\n",
              "      <th>1</th>\n",
              "      <td>2</td>\n",
              "      <td>Harry Potter and the Order of the Phoenix by J...</td>\n",
              "      <td>harry potter order phoenix j k rowling book an...</td>\n",
              "    </tr>\n",
              "    <tr>\n",
              "      <th>2</th>\n",
              "      <td>3</td>\n",
              "      <td>\"Harry Potter and the Sorcerer's Stoneâ„¢\" -- ...</td>\n",
              "      <td>harry potter sorcerer s stone selected themes ...</td>\n",
              "    </tr>\n",
              "    <tr>\n",
              "      <th>3</th>\n",
              "      <td>5</td>\n",
              "      <td>Harry Potter and the Prisoner of Azkaban (Nove...</td>\n",
              "      <td>harry potter prisoner azkaban novel study gr 4...</td>\n",
              "    </tr>\n",
              "    <tr>\n",
              "      <th>4</th>\n",
              "      <td>6</td>\n",
              "      <td>Harry Potter and the Goblet of Fire by J.K. Ro...</td>\n",
              "      <td>harry potter goblet fire j k rowling book anal...</td>\n",
              "    </tr>\n",
              "  </tbody>\n",
              "</table>\n",
              "</div>\n",
              "      <button class=\"colab-df-convert\" onclick=\"convertToInteractive('df-5e1e5b52-593f-48fd-aa13-658652d16646')\"\n",
              "              title=\"Convert this dataframe to an interactive table.\"\n",
              "              style=\"display:none;\">\n",
              "        \n",
              "  <svg xmlns=\"http://www.w3.org/2000/svg\" height=\"24px\"viewBox=\"0 0 24 24\"\n",
              "       width=\"24px\">\n",
              "    <path d=\"M0 0h24v24H0V0z\" fill=\"none\"/>\n",
              "    <path d=\"M18.56 5.44l.94 2.06.94-2.06 2.06-.94-2.06-.94-.94-2.06-.94 2.06-2.06.94zm-11 1L8.5 8.5l.94-2.06 2.06-.94-2.06-.94L8.5 2.5l-.94 2.06-2.06.94zm10 10l.94 2.06.94-2.06 2.06-.94-2.06-.94-.94-2.06-.94 2.06-2.06.94z\"/><path d=\"M17.41 7.96l-1.37-1.37c-.4-.4-.92-.59-1.43-.59-.52 0-1.04.2-1.43.59L10.3 9.45l-7.72 7.72c-.78.78-.78 2.05 0 2.83L4 21.41c.39.39.9.59 1.41.59.51 0 1.02-.2 1.41-.59l7.78-7.78 2.81-2.81c.8-.78.8-2.07 0-2.86zM5.41 20L4 18.59l7.72-7.72 1.47 1.35L5.41 20z\"/>\n",
              "  </svg>\n",
              "      </button>\n",
              "      \n",
              "  <style>\n",
              "    .colab-df-container {\n",
              "      display:flex;\n",
              "      flex-wrap:wrap;\n",
              "      gap: 12px;\n",
              "    }\n",
              "\n",
              "    .colab-df-convert {\n",
              "      background-color: #E8F0FE;\n",
              "      border: none;\n",
              "      border-radius: 50%;\n",
              "      cursor: pointer;\n",
              "      display: none;\n",
              "      fill: #1967D2;\n",
              "      height: 32px;\n",
              "      padding: 0 0 0 0;\n",
              "      width: 32px;\n",
              "    }\n",
              "\n",
              "    .colab-df-convert:hover {\n",
              "      background-color: #E2EBFA;\n",
              "      box-shadow: 0px 1px 2px rgba(60, 64, 67, 0.3), 0px 1px 3px 1px rgba(60, 64, 67, 0.15);\n",
              "      fill: #174EA6;\n",
              "    }\n",
              "\n",
              "    [theme=dark] .colab-df-convert {\n",
              "      background-color: #3B4455;\n",
              "      fill: #D2E3FC;\n",
              "    }\n",
              "\n",
              "    [theme=dark] .colab-df-convert:hover {\n",
              "      background-color: #434B5C;\n",
              "      box-shadow: 0px 1px 3px 1px rgba(0, 0, 0, 0.15);\n",
              "      filter: drop-shadow(0px 1px 2px rgba(0, 0, 0, 0.3));\n",
              "      fill: #FFFFFF;\n",
              "    }\n",
              "  </style>\n",
              "\n",
              "      <script>\n",
              "        const buttonEl =\n",
              "          document.querySelector('#df-5e1e5b52-593f-48fd-aa13-658652d16646 button.colab-df-convert');\n",
              "        buttonEl.style.display =\n",
              "          google.colab.kernel.accessAllowed ? 'block' : 'none';\n",
              "\n",
              "        async function convertToInteractive(key) {\n",
              "          const element = document.querySelector('#df-5e1e5b52-593f-48fd-aa13-658652d16646');\n",
              "          const dataTable =\n",
              "            await google.colab.kernel.invokeFunction('convertToInteractive',\n",
              "                                                     [key], {});\n",
              "          if (!dataTable) return;\n",
              "\n",
              "          const docLinkHtml = 'Like what you see? Visit the ' +\n",
              "            '<a target=\"_blank\" href=https://colab.research.google.com/notebooks/data_table.ipynb>data table notebook</a>'\n",
              "            + ' to learn more about interactive tables.';\n",
              "          element.innerHTML = '';\n",
              "          dataTable['output_type'] = 'display_data';\n",
              "          await google.colab.output.renderOutput(dataTable, element);\n",
              "          const docLink = document.createElement('div');\n",
              "          docLink.innerHTML = docLinkHtml;\n",
              "          element.appendChild(docLink);\n",
              "        }\n",
              "      </script>\n",
              "    </div>\n",
              "  </div>\n",
              "  "
            ]
          },
          "metadata": {},
          "execution_count": 15
        }
      ]
    },
    {
      "cell_type": "markdown",
      "source": [
        "**Stemming**\n",
        "\n",
        "Mengubah data menjadi Kata Dasar"
      ],
      "metadata": {
        "id": "SJRoGhEs3xqJ"
      }
    },
    {
      "cell_type": "code",
      "source": [
        "import nltk\n",
        "from nltk.stem import PorterStemmer\n",
        "ps = PorterStemmer()"
      ],
      "metadata": {
        "id": "E7OTCYbPBxDk"
      },
      "execution_count": 16,
      "outputs": []
    },
    {
      "cell_type": "code",
      "source": [
        "def stem(text):\n",
        "    y = []\n",
        "\n",
        "    for i in text.split():\n",
        "        y.append(ps.stem(i))\n",
        "    return ' '.join(y)"
      ],
      "metadata": {
        "id": "C_E3hZOtHUAL"
      },
      "execution_count": 17,
      "outputs": []
    },
    {
      "cell_type": "code",
      "source": [
        "df_fix['tags'].apply(stem)"
      ],
      "metadata": {
        "id": "K3waizmVMCoE",
        "colab": {
          "base_uri": "https://localhost:8080/"
        },
        "outputId": "6f20aa2b-92e6-47fb-a112-273adbec8c36"
      },
      "execution_count": 19,
      "outputs": [
        {
          "output_type": "execute_result",
          "data": {
            "text/plain": [
              "0       harri potter half blood princ j k rowl book an...\n",
              "1       harri potter order phoenix j k rowl book analy...\n",
              "2       harri potter sorcer s stone select theme motio...\n",
              "3       harri potter prison azkaban novel studi gr 4 8...\n",
              "4       harri potter goblet fire j k rowl book analysi...\n",
              "                              ...                        \n",
              "6197    16 person type nutshel b meet self suffici bri...\n",
              "6198    talk fast can gilmor girl gilmor girl and ever...\n",
              "6200    underground railroad winner pulitz prize ficti...\n",
              "6203    love warrior memoir b 1 i new york time i best...\n",
              "6204    hate u give printz honor winner8 star review g...\n",
              "Name: tags, Length: 5797, dtype: object"
            ]
          },
          "metadata": {},
          "execution_count": 19
        }
      ]
    },
    {
      "cell_type": "code",
      "source": [
        "df_fix['tags'] = df_fix['tags'].apply(stem)"
      ],
      "metadata": {
        "id": "7qIgeMeTMF6h",
        "colab": {
          "base_uri": "https://localhost:8080/"
        },
        "outputId": "61855824-b987-40de-98f2-bdea279000de"
      },
      "execution_count": 20,
      "outputs": [
        {
          "output_type": "stream",
          "name": "stderr",
          "text": [
            "<ipython-input-20-f3c16866a5ec>:1: SettingWithCopyWarning: \n",
            "A value is trying to be set on a copy of a slice from a DataFrame.\n",
            "Try using .loc[row_indexer,col_indexer] = value instead\n",
            "\n",
            "See the caveats in the documentation: https://pandas.pydata.org/pandas-docs/stable/user_guide/indexing.html#returning-a-view-versus-a-copy\n",
            "  df_fix['tags'] = df_fix['tags'].apply(stem)\n"
          ]
        }
      ]
    },
    {
      "cell_type": "markdown",
      "source": [
        "## **Count Vectorizer**"
      ],
      "metadata": {
        "id": "vA4dF2_G-Nc0"
      }
    },
    {
      "cell_type": "markdown",
      "source": [
        "**Mengubah Columns Tags menjadi bentuk Vector**"
      ],
      "metadata": {
        "id": "i5XQjgjN4Cww"
      }
    },
    {
      "cell_type": "code",
      "source": [
        "from sklearn.feature_extraction.text import CountVectorizer\n",
        "cv  = CountVectorizer(max_features=6000 , stop_words= 'english')\n"
      ],
      "metadata": {
        "id": "gT2-LC4fMJTh"
      },
      "execution_count": 21,
      "outputs": []
    },
    {
      "cell_type": "markdown",
      "source": [
        "**Transform**\n",
        "\n",
        "Metode fit_transform digunakan untuk mempelajari kosakata dari teks dalam kolom 'tags' dan mengubahnya menjadi vektor representasi. Proses ini melibatkan tokenisasi teks, menghapus kata penghubung (stop words), dan menghitung frekuensi kemunculan kata-kata dalam setiap dokumen (teks).\n",
        "\n",
        "Kemudian hasil dari fit_transform dikonversi menjadi bentuk array numpy. Setiap baris dalam array ini akan mewakili vektor representasi untuk setiap dokumen (teks) dalam DataFrame."
      ],
      "metadata": {
        "id": "ZSmHgryy8yl-"
      }
    },
    {
      "cell_type": "code",
      "source": [
        "cv.fit_transform(df_fix['tags']).toarray()"
      ],
      "metadata": {
        "colab": {
          "base_uri": "https://localhost:8080/"
        },
        "id": "pSO2gNvi8zDL",
        "outputId": "72336227-19d6-4080-aa35-88be00de02d7"
      },
      "execution_count": 22,
      "outputs": [
        {
          "output_type": "execute_result",
          "data": {
            "text/plain": [
              "array([[0, 0, 0, ..., 0, 0, 0],\n",
              "       [0, 0, 0, ..., 0, 0, 0],\n",
              "       [0, 0, 0, ..., 0, 0, 0],\n",
              "       ...,\n",
              "       [0, 0, 0, ..., 0, 0, 0],\n",
              "       [0, 0, 0, ..., 0, 0, 0],\n",
              "       [0, 0, 0, ..., 0, 0, 0]])"
            ]
          },
          "metadata": {},
          "execution_count": 22
        }
      ]
    },
    {
      "cell_type": "code",
      "source": [
        "vectors = cv.fit_transform(df_fix['tags']).toarray()\n",
        "vectors"
      ],
      "metadata": {
        "id": "UDAMEzFKMO3D",
        "colab": {
          "base_uri": "https://localhost:8080/"
        },
        "outputId": "373bfa76-ce03-4b42-dbc5-f3c28e7c358d"
      },
      "execution_count": 23,
      "outputs": [
        {
          "output_type": "execute_result",
          "data": {
            "text/plain": [
              "array([[0, 0, 0, ..., 0, 0, 0],\n",
              "       [0, 0, 0, ..., 0, 0, 0],\n",
              "       [0, 0, 0, ..., 0, 0, 0],\n",
              "       ...,\n",
              "       [0, 0, 0, ..., 0, 0, 0],\n",
              "       [0, 0, 0, ..., 0, 0, 0],\n",
              "       [0, 0, 0, ..., 0, 0, 0]])"
            ]
          },
          "metadata": {},
          "execution_count": 23
        }
      ]
    },
    {
      "cell_type": "code",
      "source": [
        "cv.get_feature_names_out()"
      ],
      "metadata": {
        "colab": {
          "base_uri": "https://localhost:8080/"
        },
        "id": "ZoImRyuXMRhF",
        "outputId": "8639d43c-3236-4a03-e4ea-d2c98f6e5e01"
      },
      "execution_count": 24,
      "outputs": [
        {
          "output_type": "execute_result",
          "data": {
            "text/plain": [
              "array(['000', '10', '100', ..., 'zombi', 'zone', 'zoo'], dtype=object)"
            ]
          },
          "metadata": {},
          "execution_count": 24
        }
      ]
    },
    {
      "cell_type": "code",
      "source": [
        "vectors.shape"
      ],
      "metadata": {
        "id": "AILMnVqdMTdV",
        "colab": {
          "base_uri": "https://localhost:8080/"
        },
        "outputId": "5c26c3b1-1bb6-41a7-890a-d9523df886b7"
      },
      "execution_count": 25,
      "outputs": [
        {
          "output_type": "execute_result",
          "data": {
            "text/plain": [
              "(5797, 6000)"
            ]
          },
          "metadata": {},
          "execution_count": 25
        }
      ]
    },
    {
      "cell_type": "markdown",
      "source": [
        "## **Proses Similarity**"
      ],
      "metadata": {
        "id": "9XG57UPf89SV"
      }
    },
    {
      "cell_type": "code",
      "source": [
        "import tensorflow as tf\n",
        "vectors = vectors.astype(np.float32)  # Mengonversi ke tipe data float32\n",
        "\n",
        "vectors_norm = tf.linalg.norm(vectors, axis=1, keepdims=True)\n",
        "similarity = tf.matmul(vectors, vectors, transpose_b=True) / (vectors_norm * vectors_norm)"
      ],
      "metadata": {
        "id": "V3RpJ6ZhMcJo"
      },
      "execution_count": 26,
      "outputs": []
    },
    {
      "cell_type": "code",
      "source": [
        "similarity = similarity.numpy()"
      ],
      "metadata": {
        "id": "yQ6AkP9aSi7r"
      },
      "execution_count": 27,
      "outputs": []
    },
    {
      "cell_type": "code",
      "source": [
        "similarity"
      ],
      "metadata": {
        "id": "5U2mr5caSmpZ",
        "colab": {
          "base_uri": "https://localhost:8080/"
        },
        "outputId": "557869f8-96c3-4a55-9b83-545688fcc9cd"
      },
      "execution_count": 28,
      "outputs": [
        {
          "output_type": "execute_result",
          "data": {
            "text/plain": [
              "array([[1.        , 0.89193547, 0.29354838, ..., 0.816129  , 0.43709677,\n",
              "        0.08387097],\n",
              "       [0.8366111 , 0.9999999 , 0.28744325, ..., 0.8108925 , 0.4447806 ,\n",
              "        0.07866868],\n",
              "       [1.2999998 , 1.3571427 , 0.9999999 , ..., 1.5857141 , 0.8285713 ,\n",
              "        0.08571427],\n",
              "       ...,\n",
              "       [0.4223706 , 0.44741234, 0.18530884, ..., 1.        , 0.3806344 ,\n",
              "        0.09599333],\n",
              "       [0.5634095 , 0.61122656, 0.24116422, ..., 0.94802487, 0.99999994,\n",
              "        0.13305612],\n",
              "       [0.23636365, 0.23636365, 0.05454546, ..., 0.5227273 , 0.2909091 ,\n",
              "        1.0000001 ]], dtype=float32)"
            ]
          },
          "metadata": {},
          "execution_count": 28
        }
      ]
    },
    {
      "cell_type": "code",
      "source": [
        "similarity.shape"
      ],
      "metadata": {
        "id": "UZPuFA1ASq05",
        "colab": {
          "base_uri": "https://localhost:8080/"
        },
        "outputId": "4165c2b8-e83d-41c1-d9db-7fd84236ca21"
      },
      "execution_count": 29,
      "outputs": [
        {
          "output_type": "execute_result",
          "data": {
            "text/plain": [
              "(5797, 5797)"
            ]
          },
          "metadata": {},
          "execution_count": 29
        }
      ]
    },
    {
      "cell_type": "code",
      "source": [
        "similarity[0]"
      ],
      "metadata": {
        "id": "ABYQ9qVzSs5T",
        "colab": {
          "base_uri": "https://localhost:8080/"
        },
        "outputId": "41cec070-29a1-417a-e21a-ab74446ee376"
      },
      "execution_count": 30,
      "outputs": [
        {
          "output_type": "execute_result",
          "data": {
            "text/plain": [
              "array([1.        , 0.89193547, 0.29354838, ..., 0.816129  , 0.43709677,\n",
              "       0.08387097], dtype=float32)"
            ]
          },
          "metadata": {},
          "execution_count": 30
        }
      ]
    },
    {
      "cell_type": "code",
      "source": [
        "similarity[1]"
      ],
      "metadata": {
        "id": "ov1Mm3zCS59A",
        "colab": {
          "base_uri": "https://localhost:8080/"
        },
        "outputId": "b9455f5f-fc06-4213-9f30-288beb362eb7"
      },
      "execution_count": 31,
      "outputs": [
        {
          "output_type": "execute_result",
          "data": {
            "text/plain": [
              "array([0.8366111 , 0.9999999 , 0.28744325, ..., 0.8108925 , 0.4447806 ,\n",
              "       0.07866868], dtype=float32)"
            ]
          },
          "metadata": {},
          "execution_count": 31
        }
      ]
    },
    {
      "cell_type": "markdown",
      "source": [
        "## **Fungsi Rekomendasi**"
      ],
      "metadata": {
        "id": "WJaSR08d9E_s"
      }
    },
    {
      "cell_type": "code",
      "source": [
        "# def recommend(book):\n",
        "#     index = np.where(df_fix['books_id'] == book)[0][0]\n",
        "#     similar_books = sorted(enumerate(similarity[index]) , key=lambda x:x[1]   , reverse=True)[1:11]\n",
        "\n",
        "#     for i in similar_books:\n",
        "#         print (df_fix['books_id'][i[0]])\n",
        "def recommend(book1, book2, book3):\n",
        "    books = [book1, book2, book3]\n",
        "    similarity_combined = np.zeros(len(df_fix))  # Inisialisasi similarity_combined dengan array nol\n",
        "\n",
        "    for book in books:\n",
        "        index = np.where(df_fix['books_id'] == book)[0]\n",
        "        if len(index) > 0:\n",
        "            index = index[0]\n",
        "            similarity_combined += similarity[index]  # Menambahkan similarity dari setiap buku\n",
        "\n",
        "    similar_books = sorted(enumerate(similarity_combined), key=lambda x: x[1], reverse=True)[1:11]\n",
        "    for book in similar_books:\n",
        "        print(df_fix['books_id'][book[0]])"
      ],
      "metadata": {
        "id": "vRqUTjGXS8k8"
      },
      "execution_count": 32,
      "outputs": []
    },
    {
      "cell_type": "markdown",
      "source": [
        "Uji Coba"
      ],
      "metadata": {
        "id": "ZJ11-u0Q-B86"
      }
    },
    {
      "cell_type": "code",
      "source": [
        "recommend(1, 6670, 7926)"
      ],
      "metadata": {
        "colab": {
          "base_uri": "https://localhost:8080/"
        },
        "id": "ep5csLvCTBFI",
        "outputId": "1f72899f-dd24-4fdf-b121-4f0808a64290"
      },
      "execution_count": 33,
      "outputs": [
        {
          "output_type": "stream",
          "name": "stdout",
          "text": [
            "11574\n",
            "7257982\n",
            "49465\n",
            "49251\n",
            "8765461\n",
            "61329\n",
            "11275\n",
            "119\n",
            "1914973\n",
            "7039218\n"
          ]
        }
      ]
    },
    {
      "cell_type": "markdown",
      "source": [
        "## **Model h5**"
      ],
      "metadata": {
        "id": "cQ4VHoQO-eAF"
      }
    },
    {
      "cell_type": "code",
      "source": [
        "import h5py\n",
        "from sklearn.preprocessing import StandardScaler\n",
        "\n",
        "# Hapus kolom dengan nilai string dari DataFrame\n",
        "df_numeric = df_fix.select_dtypes(include=[np.number])\n",
        "\n",
        "# Skalakan DataFrame\n",
        "scaler = StandardScaler()\n",
        "df_scaled = scaler.fit_transform(df_numeric)\n",
        "\n",
        "# Simpan DataFrame dan similarity matrix ke dalam file H5\n",
        "with h5py.File('model.h5', 'w') as hf:\n",
        "    hf.create_dataset('df_scaled', data=df_scaled)\n",
        "    hf.create_dataset('similarity', data=similarity)"
      ],
      "metadata": {
        "id": "UBa92VwQkUoP"
      },
      "execution_count": 34,
      "outputs": []
    }
  ]
}