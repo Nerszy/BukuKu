{
 "cells": [
  {
   "cell_type": "code",
   "execution_count": 6,
   "metadata": {
    "id": "mSHxKMpk4p3t"
   },
   "outputs": [],
   "source": [
    "import pandas as pd\n",
    "import numpy as np"
   ]
  },
  {
   "cell_type": "code",
   "execution_count": 7,
   "metadata": {
    "id": "MjU2rQFy46bs"
   },
   "outputs": [],
   "source": [
    "df = pd.read_csv('(main) book_data.csv')"
   ]
  },
  {
   "cell_type": "code",
   "execution_count": 8,
   "metadata": {
    "colab": {
     "base_uri": "https://localhost:8080/",
     "height": 401
    },
    "id": "jEqRev9N0n7q",
    "outputId": "0c7112a3-33be-4aee-ffe7-a6f05ebfe855"
   },
   "outputs": [
    {
     "data": {
      "text/html": [
       "\n",
       "  <div id=\"df-edad5f00-7b0a-4b30-aff9-1a13f0a4f12a\">\n",
       "    <div class=\"colab-df-container\">\n",
       "      <div>\n",
       "<style scoped>\n",
       "    .dataframe tbody tr th:only-of-type {\n",
       "        vertical-align: middle;\n",
       "    }\n",
       "\n",
       "    .dataframe tbody tr th {\n",
       "        vertical-align: top;\n",
       "    }\n",
       "\n",
       "    .dataframe thead th {\n",
       "        text-align: right;\n",
       "    }\n",
       "</style>\n",
       "<table border=\"1\" class=\"dataframe\">\n",
       "  <thead>\n",
       "    <tr style=\"text-align: right;\">\n",
       "      <th></th>\n",
       "      <th>books_id</th>\n",
       "      <th>title</th>\n",
       "      <th>url_playbook</th>\n",
       "      <th>url_image</th>\n",
       "      <th>synopsis</th>\n",
       "      <th>idr</th>\n",
       "      <th>isbn</th>\n",
       "      <th>author</th>\n",
       "      <th>avg_rating</th>\n",
       "      <th>tags1</th>\n",
       "      <th>tags2</th>\n",
       "      <th>tags3</th>\n",
       "    </tr>\n",
       "  </thead>\n",
       "  <tbody>\n",
       "    <tr>\n",
       "      <th>0</th>\n",
       "      <td>1</td>\n",
       "      <td>Harry Potter and the Half-Blood Prince by J.K....</td>\n",
       "      <td>https://play.google.com/store/books/details/Br...</td>\n",
       "      <td>https://books.google.com/books/publisher/conte...</td>\n",
       "      <td>&lt;b&gt;Unlock the more straightforward side of &lt;i&gt;...</td>\n",
       "      <td>$81,056.00</td>\n",
       "      <td>439785960</td>\n",
       "      <td>J.K. Rowling, Mary GrandPrÃ©</td>\n",
       "      <td>4,54</td>\n",
       "      <td>fantasy</td>\n",
       "      <td>fiction</td>\n",
       "      <td>young-adult</td>\n",
       "    </tr>\n",
       "    <tr>\n",
       "      <th>1</th>\n",
       "      <td>2</td>\n",
       "      <td>Harry Potter and the Order of the Phoenix by J...</td>\n",
       "      <td>https://play.google.com/store/books/details/Br...</td>\n",
       "      <td>https://books.google.com/books/publisher/conte...</td>\n",
       "      <td>&lt;b&gt;Unlock the more straightforward side of &lt;i&gt;...</td>\n",
       "      <td>$81,056.00</td>\n",
       "      <td>439358078</td>\n",
       "      <td>J.K. Rowling, Mary GrandPrÃ©</td>\n",
       "      <td>4,46</td>\n",
       "      <td>children</td>\n",
       "      <td>children-s</td>\n",
       "      <td>fantasy</td>\n",
       "    </tr>\n",
       "  </tbody>\n",
       "</table>\n",
       "</div>\n",
       "      <button class=\"colab-df-convert\" onclick=\"convertToInteractive('df-edad5f00-7b0a-4b30-aff9-1a13f0a4f12a')\"\n",
       "              title=\"Convert this dataframe to an interactive table.\"\n",
       "              style=\"display:none;\">\n",
       "        \n",
       "  <svg xmlns=\"http://www.w3.org/2000/svg\" height=\"24px\"viewBox=\"0 0 24 24\"\n",
       "       width=\"24px\">\n",
       "    <path d=\"M0 0h24v24H0V0z\" fill=\"none\"/>\n",
       "    <path d=\"M18.56 5.44l.94 2.06.94-2.06 2.06-.94-2.06-.94-.94-2.06-.94 2.06-2.06.94zm-11 1L8.5 8.5l.94-2.06 2.06-.94-2.06-.94L8.5 2.5l-.94 2.06-2.06.94zm10 10l.94 2.06.94-2.06 2.06-.94-2.06-.94-.94-2.06-.94 2.06-2.06.94z\"/><path d=\"M17.41 7.96l-1.37-1.37c-.4-.4-.92-.59-1.43-.59-.52 0-1.04.2-1.43.59L10.3 9.45l-7.72 7.72c-.78.78-.78 2.05 0 2.83L4 21.41c.39.39.9.59 1.41.59.51 0 1.02-.2 1.41-.59l7.78-7.78 2.81-2.81c.8-.78.8-2.07 0-2.86zM5.41 20L4 18.59l7.72-7.72 1.47 1.35L5.41 20z\"/>\n",
       "  </svg>\n",
       "      </button>\n",
       "      \n",
       "  <style>\n",
       "    .colab-df-container {\n",
       "      display:flex;\n",
       "      flex-wrap:wrap;\n",
       "      gap: 12px;\n",
       "    }\n",
       "\n",
       "    .colab-df-convert {\n",
       "      background-color: #E8F0FE;\n",
       "      border: none;\n",
       "      border-radius: 50%;\n",
       "      cursor: pointer;\n",
       "      display: none;\n",
       "      fill: #1967D2;\n",
       "      height: 32px;\n",
       "      padding: 0 0 0 0;\n",
       "      width: 32px;\n",
       "    }\n",
       "\n",
       "    .colab-df-convert:hover {\n",
       "      background-color: #E2EBFA;\n",
       "      box-shadow: 0px 1px 2px rgba(60, 64, 67, 0.3), 0px 1px 3px 1px rgba(60, 64, 67, 0.15);\n",
       "      fill: #174EA6;\n",
       "    }\n",
       "\n",
       "    [theme=dark] .colab-df-convert {\n",
       "      background-color: #3B4455;\n",
       "      fill: #D2E3FC;\n",
       "    }\n",
       "\n",
       "    [theme=dark] .colab-df-convert:hover {\n",
       "      background-color: #434B5C;\n",
       "      box-shadow: 0px 1px 3px 1px rgba(0, 0, 0, 0.15);\n",
       "      filter: drop-shadow(0px 1px 2px rgba(0, 0, 0, 0.3));\n",
       "      fill: #FFFFFF;\n",
       "    }\n",
       "  </style>\n",
       "\n",
       "      <script>\n",
       "        const buttonEl =\n",
       "          document.querySelector('#df-edad5f00-7b0a-4b30-aff9-1a13f0a4f12a button.colab-df-convert');\n",
       "        buttonEl.style.display =\n",
       "          google.colab.kernel.accessAllowed ? 'block' : 'none';\n",
       "\n",
       "        async function convertToInteractive(key) {\n",
       "          const element = document.querySelector('#df-edad5f00-7b0a-4b30-aff9-1a13f0a4f12a');\n",
       "          const dataTable =\n",
       "            await google.colab.kernel.invokeFunction('convertToInteractive',\n",
       "                                                     [key], {});\n",
       "          if (!dataTable) return;\n",
       "\n",
       "          const docLinkHtml = 'Like what you see? Visit the ' +\n",
       "            '<a target=\"_blank\" href=https://colab.research.google.com/notebooks/data_table.ipynb>data table notebook</a>'\n",
       "            + ' to learn more about interactive tables.';\n",
       "          element.innerHTML = '';\n",
       "          dataTable['output_type'] = 'display_data';\n",
       "          await google.colab.output.renderOutput(dataTable, element);\n",
       "          const docLink = document.createElement('div');\n",
       "          docLink.innerHTML = docLinkHtml;\n",
       "          element.appendChild(docLink);\n",
       "        }\n",
       "      </script>\n",
       "    </div>\n",
       "  </div>\n",
       "  "
      ],
      "text/plain": [
       "   books_id                                              title  \\\n",
       "0         1  Harry Potter and the Half-Blood Prince by J.K....   \n",
       "1         2  Harry Potter and the Order of the Phoenix by J...   \n",
       "\n",
       "                                        url_playbook  \\\n",
       "0  https://play.google.com/store/books/details/Br...   \n",
       "1  https://play.google.com/store/books/details/Br...   \n",
       "\n",
       "                                           url_image  \\\n",
       "0  https://books.google.com/books/publisher/conte...   \n",
       "1  https://books.google.com/books/publisher/conte...   \n",
       "\n",
       "                                            synopsis         idr       isbn  \\\n",
       "0  <b>Unlock the more straightforward side of <i>...  $81,056.00  439785960   \n",
       "1  <b>Unlock the more straightforward side of <i>...  $81,056.00  439358078   \n",
       "\n",
       "                         author avg_rating     tags1       tags2        tags3  \n",
       "0  J.K. Rowling, Mary GrandPrÃ©       4,54   fantasy     fiction  young-adult  \n",
       "1  J.K. Rowling, Mary GrandPrÃ©       4,46  children  children-s      fantasy  "
      ]
     },
     "execution_count": 8,
     "metadata": {},
     "output_type": "execute_result"
    }
   ],
   "source": [
    "df.head(2)"
   ]
  },
  {
   "cell_type": "code",
   "execution_count": 9,
   "metadata": {
    "colab": {
     "base_uri": "https://localhost:8080/"
    },
    "id": "J2MQpS3A0rKl",
    "outputId": "8ecd3912-ae9a-43d9-c71c-d1f9f8a3d16e"
   },
   "outputs": [
    {
     "data": {
      "text/plain": [
       "(6205, 12)"
      ]
     },
     "execution_count": 9,
     "metadata": {},
     "output_type": "execute_result"
    }
   ],
   "source": [
    "df.shape"
   ]
  },
  {
   "cell_type": "code",
   "execution_count": 10,
   "metadata": {
    "colab": {
     "base_uri": "https://localhost:8080/"
    },
    "id": "Rmhgb2p35nEw",
    "outputId": "383060b6-2f4e-47c8-a116-b390d6735239"
   },
   "outputs": [
    {
     "data": {
      "text/plain": [
       "books_id          0\n",
       "title             0\n",
       "url_playbook      0\n",
       "url_image         0\n",
       "synopsis         75\n",
       "idr               0\n",
       "isbn              0\n",
       "author          339\n",
       "avg_rating        0\n",
       "tags1             0\n",
       "tags2             0\n",
       "tags3             0\n",
       "dtype: int64"
      ]
     },
     "execution_count": 10,
     "metadata": {},
     "output_type": "execute_result"
    }
   ],
   "source": [
    "df.isnull().sum()"
   ]
  },
  {
   "cell_type": "code",
   "execution_count": 12,
   "metadata": {
    "id": "Kd81R3Iz6oVP"
   },
   "outputs": [],
   "source": [
    "df= df.dropna()"
   ]
  },
  {
   "cell_type": "code",
   "execution_count": 13,
   "metadata": {
    "colab": {
     "base_uri": "https://localhost:8080/"
    },
    "id": "vcwxIyJT6xo1",
    "outputId": "9c120bd9-af12-43ea-ef18-1a1080e7238a"
   },
   "outputs": [
    {
     "data": {
      "text/plain": [
       "books_id        0\n",
       "title           0\n",
       "url_playbook    0\n",
       "url_image       0\n",
       "synopsis        0\n",
       "idr             0\n",
       "isbn            0\n",
       "author          0\n",
       "avg_rating      0\n",
       "tags1           0\n",
       "tags2           0\n",
       "tags3           0\n",
       "dtype: int64"
      ]
     },
     "execution_count": 13,
     "metadata": {},
     "output_type": "execute_result"
    }
   ],
   "source": [
    "df.isnull().sum()"
   ]
  },
  {
   "cell_type": "code",
   "execution_count": 14,
   "metadata": {
    "colab": {
     "base_uri": "https://localhost:8080/"
    },
    "id": "k6-VSC4s69ES",
    "outputId": "a324a8e1-597c-4232-8e09-11e5afdd8ccd"
   },
   "outputs": [
    {
     "data": {
      "text/plain": [
       "0"
      ]
     },
     "execution_count": 14,
     "metadata": {},
     "output_type": "execute_result"
    }
   ],
   "source": [
    "df.duplicated().sum()"
   ]
  },
  {
   "cell_type": "code",
   "execution_count": 15,
   "metadata": {
    "colab": {
     "base_uri": "https://localhost:8080/",
     "height": 1000
    },
    "id": "Pw6x979N-7xe",
    "outputId": "f7e7b905-448a-489d-c37b-05c4111a135b"
   },
   "outputs": [
    {
     "data": {
      "text/html": [
       "\n",
       "  <div id=\"df-ba5f7c1c-7418-4a5b-94dd-2664798dbd10\">\n",
       "    <div class=\"colab-df-container\">\n",
       "      <div>\n",
       "<style scoped>\n",
       "    .dataframe tbody tr th:only-of-type {\n",
       "        vertical-align: middle;\n",
       "    }\n",
       "\n",
       "    .dataframe tbody tr th {\n",
       "        vertical-align: top;\n",
       "    }\n",
       "\n",
       "    .dataframe thead th {\n",
       "        text-align: right;\n",
       "    }\n",
       "</style>\n",
       "<table border=\"1\" class=\"dataframe\">\n",
       "  <thead>\n",
       "    <tr style=\"text-align: right;\">\n",
       "      <th></th>\n",
       "      <th>books_id</th>\n",
       "      <th>title</th>\n",
       "      <th>url_playbook</th>\n",
       "      <th>url_image</th>\n",
       "      <th>synopsis</th>\n",
       "      <th>idr</th>\n",
       "      <th>isbn</th>\n",
       "      <th>author</th>\n",
       "      <th>avg_rating</th>\n",
       "      <th>tags1</th>\n",
       "      <th>tags2</th>\n",
       "      <th>tags3</th>\n",
       "      <th>genre</th>\n",
       "    </tr>\n",
       "  </thead>\n",
       "  <tbody>\n",
       "    <tr>\n",
       "      <th>0</th>\n",
       "      <td>1</td>\n",
       "      <td>Harry Potter and the Half-Blood Prince by J.K....</td>\n",
       "      <td>https://play.google.com/store/books/details/Br...</td>\n",
       "      <td>https://books.google.com/books/publisher/conte...</td>\n",
       "      <td>&lt;b&gt;Unlock the more straightforward side of &lt;i&gt;...</td>\n",
       "      <td>$81,056.00</td>\n",
       "      <td>439785960</td>\n",
       "      <td>J.K. Rowling, Mary GrandPrÃ©</td>\n",
       "      <td>4,54</td>\n",
       "      <td>fantasy</td>\n",
       "      <td>fiction</td>\n",
       "      <td>young-adult</td>\n",
       "      <td>fantasy, fiction, young-adult</td>\n",
       "    </tr>\n",
       "    <tr>\n",
       "      <th>1</th>\n",
       "      <td>2</td>\n",
       "      <td>Harry Potter and the Order of the Phoenix by J...</td>\n",
       "      <td>https://play.google.com/store/books/details/Br...</td>\n",
       "      <td>https://books.google.com/books/publisher/conte...</td>\n",
       "      <td>&lt;b&gt;Unlock the more straightforward side of &lt;i&gt;...</td>\n",
       "      <td>$81,056.00</td>\n",
       "      <td>439358078</td>\n",
       "      <td>J.K. Rowling, Mary GrandPrÃ©</td>\n",
       "      <td>4,46</td>\n",
       "      <td>children</td>\n",
       "      <td>children-s</td>\n",
       "      <td>fantasy</td>\n",
       "      <td>children, children-s, fantasy</td>\n",
       "    </tr>\n",
       "    <tr>\n",
       "      <th>2</th>\n",
       "      <td>3</td>\n",
       "      <td>\"Harry Potter and the Sorcerer's Stoneâ„¢\" -- ...</td>\n",
       "      <td>https://play.google.com/store/books/details/Jo...</td>\n",
       "      <td>https://books.google.com/books/publisher/conte...</td>\n",
       "      <td>This instrumental series contains selected the...</td>\n",
       "      <td>$97,297.00</td>\n",
       "      <td>439554934</td>\n",
       "      <td>J.K. Rowling, Mary GrandPrÃ©</td>\n",
       "      <td>4,44</td>\n",
       "      <td>fantasy</td>\n",
       "      <td>fiction</td>\n",
       "      <td>young-adult</td>\n",
       "      <td>fantasy, fiction, young-adult</td>\n",
       "    </tr>\n",
       "    <tr>\n",
       "      <th>3</th>\n",
       "      <td>5</td>\n",
       "      <td>Harry Potter and the Prisoner of Azkaban (Nove...</td>\n",
       "      <td>https://play.google.com/store/books/details/Ke...</td>\n",
       "      <td>https://books.google.com/books/publisher/conte...</td>\n",
       "      <td>Harry Potter and the Prisoner of Azkaban is ab...</td>\n",
       "      <td>$145,126.00</td>\n",
       "      <td>439655480</td>\n",
       "      <td>J.K. Rowling, Mary GrandPrÃ©, Rufus Beck</td>\n",
       "      <td>4,53</td>\n",
       "      <td>fantasy</td>\n",
       "      <td>fiction</td>\n",
       "      <td>young-adult</td>\n",
       "      <td>fantasy, fiction, young-adult</td>\n",
       "    </tr>\n",
       "    <tr>\n",
       "      <th>4</th>\n",
       "      <td>6</td>\n",
       "      <td>Harry Potter and the Goblet of Fire by J.K. Ro...</td>\n",
       "      <td>https://play.google.com/store/books/details/Br...</td>\n",
       "      <td>https://books.google.com/books/publisher/conte...</td>\n",
       "      <td>&lt;b&gt;Unlock the more straightforward side of &lt;i&gt;...</td>\n",
       "      <td>$81,056.00</td>\n",
       "      <td>439139600</td>\n",
       "      <td>J.K. Rowling, Mary GrandPrÃ©</td>\n",
       "      <td>4,53</td>\n",
       "      <td>fantasy</td>\n",
       "      <td>fiction</td>\n",
       "      <td>young-adult</td>\n",
       "      <td>fantasy, fiction, young-adult</td>\n",
       "    </tr>\n",
       "    <tr>\n",
       "      <th>...</th>\n",
       "      <td>...</td>\n",
       "      <td>...</td>\n",
       "      <td>...</td>\n",
       "      <td>...</td>\n",
       "      <td>...</td>\n",
       "      <td>...</td>\n",
       "      <td>...</td>\n",
       "      <td>...</td>\n",
       "      <td>...</td>\n",
       "      <td>...</td>\n",
       "      <td>...</td>\n",
       "      <td>...</td>\n",
       "      <td>...</td>\n",
       "    </tr>\n",
       "    <tr>\n",
       "      <th>6197</th>\n",
       "      <td>30008702</td>\n",
       "      <td>The 16 Personality Types in a Nutshell</td>\n",
       "      <td>https://play.google.com/store/books/details/Ja...</td>\n",
       "      <td>https://books.google.com/books/publisher/conte...</td>\n",
       "      <td>&lt;b&gt;Meet the self-sufficient and brilliant stra...</td>\n",
       "      <td>$0.00</td>\n",
       "      <td>385542070</td>\n",
       "      <td>Ian McEwan</td>\n",
       "      <td>3,71</td>\n",
       "      <td>thriller</td>\n",
       "      <td>book-club</td>\n",
       "      <td>contemporary</td>\n",
       "      <td>thriller, book-club, contemporary</td>\n",
       "    </tr>\n",
       "    <tr>\n",
       "      <th>6198</th>\n",
       "      <td>30253864</td>\n",
       "      <td>Talking as Fast as I Can: From Gilmore Girls t...</td>\n",
       "      <td>https://play.google.com/store/books/details/La...</td>\n",
       "      <td>https://books.google.com/books/publisher/conte...</td>\n",
       "      <td>&lt;b&gt;&lt;i&gt;NEW YORK TIMES&lt;/i&gt; BESTSELLER â€¢ In thi...</td>\n",
       "      <td>$148,851.00</td>\n",
       "      <td>425285170</td>\n",
       "      <td>Lauren Graham</td>\n",
       "      <td>4,04</td>\n",
       "      <td>fiction</td>\n",
       "      <td>memoir</td>\n",
       "      <td>non-fiction</td>\n",
       "      <td>fiction, memoir, non-fiction</td>\n",
       "    </tr>\n",
       "    <tr>\n",
       "      <th>6200</th>\n",
       "      <td>30555488</td>\n",
       "      <td>The Underground Railroad: Winner of the Pulitz...</td>\n",
       "      <td>https://play.google.com/store/books/details/Co...</td>\n",
       "      <td>https://books.google.com/books/publisher/conte...</td>\n",
       "      <td>&lt;b&gt;WINNER OF THE PULITZER PRIZE FOR FICTION 20...</td>\n",
       "      <td>$123,598.00</td>\n",
       "      <td>385542364</td>\n",
       "      <td>Colson Whitehead</td>\n",
       "      <td>4,04</td>\n",
       "      <td>book-club</td>\n",
       "      <td>fiction</td>\n",
       "      <td>historical-fiction</td>\n",
       "      <td>book-club, fiction, historical-fiction</td>\n",
       "    </tr>\n",
       "    <tr>\n",
       "      <th>6203</th>\n",
       "      <td>31845516</td>\n",
       "      <td>Love Warrior: A Memoir</td>\n",
       "      <td>https://play.google.com/store/books/details/Gl...</td>\n",
       "      <td>https://books.google.com/books/publisher/conte...</td>\n",
       "      <td>&lt;b&gt;#1 &lt;i&gt;New York Times&lt;/i&gt; Bestseller | &lt;/b&gt;&lt;...</td>\n",
       "      <td>$178,651.00</td>\n",
       "      <td>1250128544</td>\n",
       "      <td>Glennon Doyle Melton</td>\n",
       "      <td>4,1</td>\n",
       "      <td>memoir</td>\n",
       "      <td>non-fiction</td>\n",
       "      <td>nonfiction</td>\n",
       "      <td>memoir, non-fiction, nonfiction</td>\n",
       "    </tr>\n",
       "    <tr>\n",
       "      <th>6204</th>\n",
       "      <td>32075671</td>\n",
       "      <td>The Hate U Give: A Printz Honor Winner</td>\n",
       "      <td>https://play.google.com/store/books/details/An...</td>\n",
       "      <td>https://books.google.com/books/publisher/conte...</td>\n",
       "      <td>8 starred reviews Â· Goodreads Choice Awards B...</td>\n",
       "      <td>$208,451.00</td>\n",
       "      <td>62498533</td>\n",
       "      <td>Angie Thomas</td>\n",
       "      <td>4,62</td>\n",
       "      <td>contemporary</td>\n",
       "      <td>fiction</td>\n",
       "      <td>young-adult</td>\n",
       "      <td>contemporary, fiction, young-adult</td>\n",
       "    </tr>\n",
       "  </tbody>\n",
       "</table>\n",
       "<p>5797 rows × 13 columns</p>\n",
       "</div>\n",
       "      <button class=\"colab-df-convert\" onclick=\"convertToInteractive('df-ba5f7c1c-7418-4a5b-94dd-2664798dbd10')\"\n",
       "              title=\"Convert this dataframe to an interactive table.\"\n",
       "              style=\"display:none;\">\n",
       "        \n",
       "  <svg xmlns=\"http://www.w3.org/2000/svg\" height=\"24px\"viewBox=\"0 0 24 24\"\n",
       "       width=\"24px\">\n",
       "    <path d=\"M0 0h24v24H0V0z\" fill=\"none\"/>\n",
       "    <path d=\"M18.56 5.44l.94 2.06.94-2.06 2.06-.94-2.06-.94-.94-2.06-.94 2.06-2.06.94zm-11 1L8.5 8.5l.94-2.06 2.06-.94-2.06-.94L8.5 2.5l-.94 2.06-2.06.94zm10 10l.94 2.06.94-2.06 2.06-.94-2.06-.94-.94-2.06-.94 2.06-2.06.94z\"/><path d=\"M17.41 7.96l-1.37-1.37c-.4-.4-.92-.59-1.43-.59-.52 0-1.04.2-1.43.59L10.3 9.45l-7.72 7.72c-.78.78-.78 2.05 0 2.83L4 21.41c.39.39.9.59 1.41.59.51 0 1.02-.2 1.41-.59l7.78-7.78 2.81-2.81c.8-.78.8-2.07 0-2.86zM5.41 20L4 18.59l7.72-7.72 1.47 1.35L5.41 20z\"/>\n",
       "  </svg>\n",
       "      </button>\n",
       "      \n",
       "  <style>\n",
       "    .colab-df-container {\n",
       "      display:flex;\n",
       "      flex-wrap:wrap;\n",
       "      gap: 12px;\n",
       "    }\n",
       "\n",
       "    .colab-df-convert {\n",
       "      background-color: #E8F0FE;\n",
       "      border: none;\n",
       "      border-radius: 50%;\n",
       "      cursor: pointer;\n",
       "      display: none;\n",
       "      fill: #1967D2;\n",
       "      height: 32px;\n",
       "      padding: 0 0 0 0;\n",
       "      width: 32px;\n",
       "    }\n",
       "\n",
       "    .colab-df-convert:hover {\n",
       "      background-color: #E2EBFA;\n",
       "      box-shadow: 0px 1px 2px rgba(60, 64, 67, 0.3), 0px 1px 3px 1px rgba(60, 64, 67, 0.15);\n",
       "      fill: #174EA6;\n",
       "    }\n",
       "\n",
       "    [theme=dark] .colab-df-convert {\n",
       "      background-color: #3B4455;\n",
       "      fill: #D2E3FC;\n",
       "    }\n",
       "\n",
       "    [theme=dark] .colab-df-convert:hover {\n",
       "      background-color: #434B5C;\n",
       "      box-shadow: 0px 1px 3px 1px rgba(0, 0, 0, 0.15);\n",
       "      filter: drop-shadow(0px 1px 2px rgba(0, 0, 0, 0.3));\n",
       "      fill: #FFFFFF;\n",
       "    }\n",
       "  </style>\n",
       "\n",
       "      <script>\n",
       "        const buttonEl =\n",
       "          document.querySelector('#df-ba5f7c1c-7418-4a5b-94dd-2664798dbd10 button.colab-df-convert');\n",
       "        buttonEl.style.display =\n",
       "          google.colab.kernel.accessAllowed ? 'block' : 'none';\n",
       "\n",
       "        async function convertToInteractive(key) {\n",
       "          const element = document.querySelector('#df-ba5f7c1c-7418-4a5b-94dd-2664798dbd10');\n",
       "          const dataTable =\n",
       "            await google.colab.kernel.invokeFunction('convertToInteractive',\n",
       "                                                     [key], {});\n",
       "          if (!dataTable) return;\n",
       "\n",
       "          const docLinkHtml = 'Like what you see? Visit the ' +\n",
       "            '<a target=\"_blank\" href=https://colab.research.google.com/notebooks/data_table.ipynb>data table notebook</a>'\n",
       "            + ' to learn more about interactive tables.';\n",
       "          element.innerHTML = '';\n",
       "          dataTable['output_type'] = 'display_data';\n",
       "          await google.colab.output.renderOutput(dataTable, element);\n",
       "          const docLink = document.createElement('div');\n",
       "          docLink.innerHTML = docLinkHtml;\n",
       "          element.appendChild(docLink);\n",
       "        }\n",
       "      </script>\n",
       "    </div>\n",
       "  </div>\n",
       "  "
      ],
      "text/plain": [
       "      books_id                                              title  \\\n",
       "0            1  Harry Potter and the Half-Blood Prince by J.K....   \n",
       "1            2  Harry Potter and the Order of the Phoenix by J...   \n",
       "2            3  \"Harry Potter and the Sorcerer's Stoneâ„¢\" -- ...   \n",
       "3            5  Harry Potter and the Prisoner of Azkaban (Nove...   \n",
       "4            6  Harry Potter and the Goblet of Fire by J.K. Ro...   \n",
       "...        ...                                                ...   \n",
       "6197  30008702             The 16 Personality Types in a Nutshell   \n",
       "6198  30253864  Talking as Fast as I Can: From Gilmore Girls t...   \n",
       "6200  30555488  The Underground Railroad: Winner of the Pulitz...   \n",
       "6203  31845516                             Love Warrior: A Memoir   \n",
       "6204  32075671             The Hate U Give: A Printz Honor Winner   \n",
       "\n",
       "                                           url_playbook  \\\n",
       "0     https://play.google.com/store/books/details/Br...   \n",
       "1     https://play.google.com/store/books/details/Br...   \n",
       "2     https://play.google.com/store/books/details/Jo...   \n",
       "3     https://play.google.com/store/books/details/Ke...   \n",
       "4     https://play.google.com/store/books/details/Br...   \n",
       "...                                                 ...   \n",
       "6197  https://play.google.com/store/books/details/Ja...   \n",
       "6198  https://play.google.com/store/books/details/La...   \n",
       "6200  https://play.google.com/store/books/details/Co...   \n",
       "6203  https://play.google.com/store/books/details/Gl...   \n",
       "6204  https://play.google.com/store/books/details/An...   \n",
       "\n",
       "                                              url_image  \\\n",
       "0     https://books.google.com/books/publisher/conte...   \n",
       "1     https://books.google.com/books/publisher/conte...   \n",
       "2     https://books.google.com/books/publisher/conte...   \n",
       "3     https://books.google.com/books/publisher/conte...   \n",
       "4     https://books.google.com/books/publisher/conte...   \n",
       "...                                                 ...   \n",
       "6197  https://books.google.com/books/publisher/conte...   \n",
       "6198  https://books.google.com/books/publisher/conte...   \n",
       "6200  https://books.google.com/books/publisher/conte...   \n",
       "6203  https://books.google.com/books/publisher/conte...   \n",
       "6204  https://books.google.com/books/publisher/conte...   \n",
       "\n",
       "                                               synopsis          idr  \\\n",
       "0     <b>Unlock the more straightforward side of <i>...   $81,056.00   \n",
       "1     <b>Unlock the more straightforward side of <i>...   $81,056.00   \n",
       "2     This instrumental series contains selected the...   $97,297.00   \n",
       "3     Harry Potter and the Prisoner of Azkaban is ab...  $145,126.00   \n",
       "4     <b>Unlock the more straightforward side of <i>...   $81,056.00   \n",
       "...                                                 ...          ...   \n",
       "6197  <b>Meet the self-sufficient and brilliant stra...        $0.00   \n",
       "6198  <b><i>NEW YORK TIMES</i> BESTSELLER â€¢ In thi...  $148,851.00   \n",
       "6200  <b>WINNER OF THE PULITZER PRIZE FOR FICTION 20...  $123,598.00   \n",
       "6203  <b>#1 <i>New York Times</i> Bestseller | </b><...  $178,651.00   \n",
       "6204  8 starred reviews Â· Goodreads Choice Awards B...  $208,451.00   \n",
       "\n",
       "            isbn                                    author avg_rating  \\\n",
       "0      439785960              J.K. Rowling, Mary GrandPrÃ©       4,54   \n",
       "1      439358078              J.K. Rowling, Mary GrandPrÃ©       4,46   \n",
       "2      439554934              J.K. Rowling, Mary GrandPrÃ©       4,44   \n",
       "3      439655480  J.K. Rowling, Mary GrandPrÃ©, Rufus Beck       4,53   \n",
       "4      439139600              J.K. Rowling, Mary GrandPrÃ©       4,53   \n",
       "...          ...                                       ...        ...   \n",
       "6197   385542070                                Ian McEwan       3,71   \n",
       "6198   425285170                             Lauren Graham       4,04   \n",
       "6200   385542364                          Colson Whitehead       4,04   \n",
       "6203  1250128544                      Glennon Doyle Melton        4,1   \n",
       "6204    62498533                              Angie Thomas       4,62   \n",
       "\n",
       "             tags1        tags2               tags3  \\\n",
       "0          fantasy      fiction         young-adult   \n",
       "1         children   children-s             fantasy   \n",
       "2          fantasy      fiction         young-adult   \n",
       "3          fantasy      fiction         young-adult   \n",
       "4          fantasy      fiction         young-adult   \n",
       "...            ...          ...                 ...   \n",
       "6197      thriller    book-club        contemporary   \n",
       "6198       fiction       memoir         non-fiction   \n",
       "6200     book-club      fiction  historical-fiction   \n",
       "6203        memoir  non-fiction          nonfiction   \n",
       "6204  contemporary      fiction         young-adult   \n",
       "\n",
       "                                       genre  \n",
       "0              fantasy, fiction, young-adult  \n",
       "1              children, children-s, fantasy  \n",
       "2              fantasy, fiction, young-adult  \n",
       "3              fantasy, fiction, young-adult  \n",
       "4              fantasy, fiction, young-adult  \n",
       "...                                      ...  \n",
       "6197       thriller, book-club, contemporary  \n",
       "6198            fiction, memoir, non-fiction  \n",
       "6200  book-club, fiction, historical-fiction  \n",
       "6203         memoir, non-fiction, nonfiction  \n",
       "6204      contemporary, fiction, young-adult  \n",
       "\n",
       "[5797 rows x 13 columns]"
      ]
     },
     "execution_count": 15,
     "metadata": {},
     "output_type": "execute_result"
    }
   ],
   "source": [
    "df[\"genre\"] = df[\"tags1\"].astype(str) + \", \" + df[\"tags2\"].astype(str) + \", \" + df[\"tags3\"].astype(str)\n",
    "df"
   ]
  },
  {
   "cell_type": "code",
   "execution_count": 16,
   "metadata": {
    "colab": {
     "base_uri": "https://localhost:8080/",
     "height": 1000
    },
    "id": "GSEYtgf6Gsvx",
    "outputId": "198ee17c-bcb4-4e9b-bd80-1a9647c2ef0a"
   },
   "outputs": [
    {
     "data": {
      "text/html": [
       "\n",
       "  <div id=\"df-b62e76ff-70cd-45a3-955b-b9bd39e30fa4\">\n",
       "    <div class=\"colab-df-container\">\n",
       "      <div>\n",
       "<style scoped>\n",
       "    .dataframe tbody tr th:only-of-type {\n",
       "        vertical-align: middle;\n",
       "    }\n",
       "\n",
       "    .dataframe tbody tr th {\n",
       "        vertical-align: top;\n",
       "    }\n",
       "\n",
       "    .dataframe thead th {\n",
       "        text-align: right;\n",
       "    }\n",
       "</style>\n",
       "<table border=\"1\" class=\"dataframe\">\n",
       "  <thead>\n",
       "    <tr style=\"text-align: right;\">\n",
       "      <th></th>\n",
       "      <th>books_id</th>\n",
       "      <th>title</th>\n",
       "      <th>url_playbook</th>\n",
       "      <th>url_image</th>\n",
       "      <th>synopsis</th>\n",
       "      <th>idr</th>\n",
       "      <th>isbn</th>\n",
       "      <th>author</th>\n",
       "      <th>avg_rating</th>\n",
       "      <th>tags1</th>\n",
       "      <th>tags2</th>\n",
       "      <th>tags3</th>\n",
       "      <th>genre</th>\n",
       "      <th>tag</th>\n",
       "    </tr>\n",
       "  </thead>\n",
       "  <tbody>\n",
       "    <tr>\n",
       "      <th>0</th>\n",
       "      <td>1</td>\n",
       "      <td>Harry Potter and the Half-Blood Prince by J.K....</td>\n",
       "      <td>https://play.google.com/store/books/details/Br...</td>\n",
       "      <td>https://books.google.com/books/publisher/conte...</td>\n",
       "      <td>&lt;b&gt;Unlock the more straightforward side of &lt;i&gt;...</td>\n",
       "      <td>$81,056.00</td>\n",
       "      <td>439785960</td>\n",
       "      <td>J.K. Rowling, Mary GrandPrÃ©</td>\n",
       "      <td>4,54</td>\n",
       "      <td>fantasy</td>\n",
       "      <td>fiction</td>\n",
       "      <td>young-adult</td>\n",
       "      <td>fantasy, fiction, young-adult</td>\n",
       "      <td>&lt;b&gt;Unlock the more straightforward side of &lt;i&gt;...</td>\n",
       "    </tr>\n",
       "    <tr>\n",
       "      <th>1</th>\n",
       "      <td>2</td>\n",
       "      <td>Harry Potter and the Order of the Phoenix by J...</td>\n",
       "      <td>https://play.google.com/store/books/details/Br...</td>\n",
       "      <td>https://books.google.com/books/publisher/conte...</td>\n",
       "      <td>&lt;b&gt;Unlock the more straightforward side of &lt;i&gt;...</td>\n",
       "      <td>$81,056.00</td>\n",
       "      <td>439358078</td>\n",
       "      <td>J.K. Rowling, Mary GrandPrÃ©</td>\n",
       "      <td>4,46</td>\n",
       "      <td>children</td>\n",
       "      <td>children-s</td>\n",
       "      <td>fantasy</td>\n",
       "      <td>children, children-s, fantasy</td>\n",
       "      <td>&lt;b&gt;Unlock the more straightforward side of &lt;i&gt;...</td>\n",
       "    </tr>\n",
       "    <tr>\n",
       "      <th>2</th>\n",
       "      <td>3</td>\n",
       "      <td>\"Harry Potter and the Sorcerer's Stoneâ„¢\" -- ...</td>\n",
       "      <td>https://play.google.com/store/books/details/Jo...</td>\n",
       "      <td>https://books.google.com/books/publisher/conte...</td>\n",
       "      <td>This instrumental series contains selected the...</td>\n",
       "      <td>$97,297.00</td>\n",
       "      <td>439554934</td>\n",
       "      <td>J.K. Rowling, Mary GrandPrÃ©</td>\n",
       "      <td>4,44</td>\n",
       "      <td>fantasy</td>\n",
       "      <td>fiction</td>\n",
       "      <td>young-adult</td>\n",
       "      <td>fantasy, fiction, young-adult</td>\n",
       "      <td>This instrumental series contains selected the...</td>\n",
       "    </tr>\n",
       "    <tr>\n",
       "      <th>3</th>\n",
       "      <td>5</td>\n",
       "      <td>Harry Potter and the Prisoner of Azkaban (Nove...</td>\n",
       "      <td>https://play.google.com/store/books/details/Ke...</td>\n",
       "      <td>https://books.google.com/books/publisher/conte...</td>\n",
       "      <td>Harry Potter and the Prisoner of Azkaban is ab...</td>\n",
       "      <td>$145,126.00</td>\n",
       "      <td>439655480</td>\n",
       "      <td>J.K. Rowling, Mary GrandPrÃ©, Rufus Beck</td>\n",
       "      <td>4,53</td>\n",
       "      <td>fantasy</td>\n",
       "      <td>fiction</td>\n",
       "      <td>young-adult</td>\n",
       "      <td>fantasy, fiction, young-adult</td>\n",
       "      <td>Harry Potter and the Prisoner of Azkaban is ab...</td>\n",
       "    </tr>\n",
       "    <tr>\n",
       "      <th>4</th>\n",
       "      <td>6</td>\n",
       "      <td>Harry Potter and the Goblet of Fire by J.K. Ro...</td>\n",
       "      <td>https://play.google.com/store/books/details/Br...</td>\n",
       "      <td>https://books.google.com/books/publisher/conte...</td>\n",
       "      <td>&lt;b&gt;Unlock the more straightforward side of &lt;i&gt;...</td>\n",
       "      <td>$81,056.00</td>\n",
       "      <td>439139600</td>\n",
       "      <td>J.K. Rowling, Mary GrandPrÃ©</td>\n",
       "      <td>4,53</td>\n",
       "      <td>fantasy</td>\n",
       "      <td>fiction</td>\n",
       "      <td>young-adult</td>\n",
       "      <td>fantasy, fiction, young-adult</td>\n",
       "      <td>&lt;b&gt;Unlock the more straightforward side of &lt;i&gt;...</td>\n",
       "    </tr>\n",
       "    <tr>\n",
       "      <th>...</th>\n",
       "      <td>...</td>\n",
       "      <td>...</td>\n",
       "      <td>...</td>\n",
       "      <td>...</td>\n",
       "      <td>...</td>\n",
       "      <td>...</td>\n",
       "      <td>...</td>\n",
       "      <td>...</td>\n",
       "      <td>...</td>\n",
       "      <td>...</td>\n",
       "      <td>...</td>\n",
       "      <td>...</td>\n",
       "      <td>...</td>\n",
       "      <td>...</td>\n",
       "    </tr>\n",
       "    <tr>\n",
       "      <th>6197</th>\n",
       "      <td>30008702</td>\n",
       "      <td>The 16 Personality Types in a Nutshell</td>\n",
       "      <td>https://play.google.com/store/books/details/Ja...</td>\n",
       "      <td>https://books.google.com/books/publisher/conte...</td>\n",
       "      <td>&lt;b&gt;Meet the self-sufficient and brilliant stra...</td>\n",
       "      <td>$0.00</td>\n",
       "      <td>385542070</td>\n",
       "      <td>Ian McEwan</td>\n",
       "      <td>3,71</td>\n",
       "      <td>thriller</td>\n",
       "      <td>book-club</td>\n",
       "      <td>contemporary</td>\n",
       "      <td>thriller, book-club, contemporary</td>\n",
       "      <td>&lt;b&gt;Meet the self-sufficient and brilliant stra...</td>\n",
       "    </tr>\n",
       "    <tr>\n",
       "      <th>6198</th>\n",
       "      <td>30253864</td>\n",
       "      <td>Talking as Fast as I Can: From Gilmore Girls t...</td>\n",
       "      <td>https://play.google.com/store/books/details/La...</td>\n",
       "      <td>https://books.google.com/books/publisher/conte...</td>\n",
       "      <td>&lt;b&gt;&lt;i&gt;NEW YORK TIMES&lt;/i&gt; BESTSELLER â€¢ In thi...</td>\n",
       "      <td>$148,851.00</td>\n",
       "      <td>425285170</td>\n",
       "      <td>Lauren Graham</td>\n",
       "      <td>4,04</td>\n",
       "      <td>fiction</td>\n",
       "      <td>memoir</td>\n",
       "      <td>non-fiction</td>\n",
       "      <td>fiction, memoir, non-fiction</td>\n",
       "      <td>&lt;b&gt;&lt;i&gt;NEW YORK TIMES&lt;/i&gt; BESTSELLER â€¢ In thi...</td>\n",
       "    </tr>\n",
       "    <tr>\n",
       "      <th>6200</th>\n",
       "      <td>30555488</td>\n",
       "      <td>The Underground Railroad: Winner of the Pulitz...</td>\n",
       "      <td>https://play.google.com/store/books/details/Co...</td>\n",
       "      <td>https://books.google.com/books/publisher/conte...</td>\n",
       "      <td>&lt;b&gt;WINNER OF THE PULITZER PRIZE FOR FICTION 20...</td>\n",
       "      <td>$123,598.00</td>\n",
       "      <td>385542364</td>\n",
       "      <td>Colson Whitehead</td>\n",
       "      <td>4,04</td>\n",
       "      <td>book-club</td>\n",
       "      <td>fiction</td>\n",
       "      <td>historical-fiction</td>\n",
       "      <td>book-club, fiction, historical-fiction</td>\n",
       "      <td>&lt;b&gt;WINNER OF THE PULITZER PRIZE FOR FICTION 20...</td>\n",
       "    </tr>\n",
       "    <tr>\n",
       "      <th>6203</th>\n",
       "      <td>31845516</td>\n",
       "      <td>Love Warrior: A Memoir</td>\n",
       "      <td>https://play.google.com/store/books/details/Gl...</td>\n",
       "      <td>https://books.google.com/books/publisher/conte...</td>\n",
       "      <td>&lt;b&gt;#1 &lt;i&gt;New York Times&lt;/i&gt; Bestseller | &lt;/b&gt;&lt;...</td>\n",
       "      <td>$178,651.00</td>\n",
       "      <td>1250128544</td>\n",
       "      <td>Glennon Doyle Melton</td>\n",
       "      <td>4,1</td>\n",
       "      <td>memoir</td>\n",
       "      <td>non-fiction</td>\n",
       "      <td>nonfiction</td>\n",
       "      <td>memoir, non-fiction, nonfiction</td>\n",
       "      <td>&lt;b&gt;#1 &lt;i&gt;New York Times&lt;/i&gt; Bestseller | &lt;/b&gt;&lt;...</td>\n",
       "    </tr>\n",
       "    <tr>\n",
       "      <th>6204</th>\n",
       "      <td>32075671</td>\n",
       "      <td>The Hate U Give: A Printz Honor Winner</td>\n",
       "      <td>https://play.google.com/store/books/details/An...</td>\n",
       "      <td>https://books.google.com/books/publisher/conte...</td>\n",
       "      <td>8 starred reviews Â· Goodreads Choice Awards B...</td>\n",
       "      <td>$208,451.00</td>\n",
       "      <td>62498533</td>\n",
       "      <td>Angie Thomas</td>\n",
       "      <td>4,62</td>\n",
       "      <td>contemporary</td>\n",
       "      <td>fiction</td>\n",
       "      <td>young-adult</td>\n",
       "      <td>contemporary, fiction, young-adult</td>\n",
       "      <td>8 starred reviews Â· Goodreads Choice Awards B...</td>\n",
       "    </tr>\n",
       "  </tbody>\n",
       "</table>\n",
       "<p>5797 rows × 14 columns</p>\n",
       "</div>\n",
       "      <button class=\"colab-df-convert\" onclick=\"convertToInteractive('df-b62e76ff-70cd-45a3-955b-b9bd39e30fa4')\"\n",
       "              title=\"Convert this dataframe to an interactive table.\"\n",
       "              style=\"display:none;\">\n",
       "        \n",
       "  <svg xmlns=\"http://www.w3.org/2000/svg\" height=\"24px\"viewBox=\"0 0 24 24\"\n",
       "       width=\"24px\">\n",
       "    <path d=\"M0 0h24v24H0V0z\" fill=\"none\"/>\n",
       "    <path d=\"M18.56 5.44l.94 2.06.94-2.06 2.06-.94-2.06-.94-.94-2.06-.94 2.06-2.06.94zm-11 1L8.5 8.5l.94-2.06 2.06-.94-2.06-.94L8.5 2.5l-.94 2.06-2.06.94zm10 10l.94 2.06.94-2.06 2.06-.94-2.06-.94-.94-2.06-.94 2.06-2.06.94z\"/><path d=\"M17.41 7.96l-1.37-1.37c-.4-.4-.92-.59-1.43-.59-.52 0-1.04.2-1.43.59L10.3 9.45l-7.72 7.72c-.78.78-.78 2.05 0 2.83L4 21.41c.39.39.9.59 1.41.59.51 0 1.02-.2 1.41-.59l7.78-7.78 2.81-2.81c.8-.78.8-2.07 0-2.86zM5.41 20L4 18.59l7.72-7.72 1.47 1.35L5.41 20z\"/>\n",
       "  </svg>\n",
       "      </button>\n",
       "      \n",
       "  <style>\n",
       "    .colab-df-container {\n",
       "      display:flex;\n",
       "      flex-wrap:wrap;\n",
       "      gap: 12px;\n",
       "    }\n",
       "\n",
       "    .colab-df-convert {\n",
       "      background-color: #E8F0FE;\n",
       "      border: none;\n",
       "      border-radius: 50%;\n",
       "      cursor: pointer;\n",
       "      display: none;\n",
       "      fill: #1967D2;\n",
       "      height: 32px;\n",
       "      padding: 0 0 0 0;\n",
       "      width: 32px;\n",
       "    }\n",
       "\n",
       "    .colab-df-convert:hover {\n",
       "      background-color: #E2EBFA;\n",
       "      box-shadow: 0px 1px 2px rgba(60, 64, 67, 0.3), 0px 1px 3px 1px rgba(60, 64, 67, 0.15);\n",
       "      fill: #174EA6;\n",
       "    }\n",
       "\n",
       "    [theme=dark] .colab-df-convert {\n",
       "      background-color: #3B4455;\n",
       "      fill: #D2E3FC;\n",
       "    }\n",
       "\n",
       "    [theme=dark] .colab-df-convert:hover {\n",
       "      background-color: #434B5C;\n",
       "      box-shadow: 0px 1px 3px 1px rgba(0, 0, 0, 0.15);\n",
       "      filter: drop-shadow(0px 1px 2px rgba(0, 0, 0, 0.3));\n",
       "      fill: #FFFFFF;\n",
       "    }\n",
       "  </style>\n",
       "\n",
       "      <script>\n",
       "        const buttonEl =\n",
       "          document.querySelector('#df-b62e76ff-70cd-45a3-955b-b9bd39e30fa4 button.colab-df-convert');\n",
       "        buttonEl.style.display =\n",
       "          google.colab.kernel.accessAllowed ? 'block' : 'none';\n",
       "\n",
       "        async function convertToInteractive(key) {\n",
       "          const element = document.querySelector('#df-b62e76ff-70cd-45a3-955b-b9bd39e30fa4');\n",
       "          const dataTable =\n",
       "            await google.colab.kernel.invokeFunction('convertToInteractive',\n",
       "                                                     [key], {});\n",
       "          if (!dataTable) return;\n",
       "\n",
       "          const docLinkHtml = 'Like what you see? Visit the ' +\n",
       "            '<a target=\"_blank\" href=https://colab.research.google.com/notebooks/data_table.ipynb>data table notebook</a>'\n",
       "            + ' to learn more about interactive tables.';\n",
       "          element.innerHTML = '';\n",
       "          dataTable['output_type'] = 'display_data';\n",
       "          await google.colab.output.renderOutput(dataTable, element);\n",
       "          const docLink = document.createElement('div');\n",
       "          docLink.innerHTML = docLinkHtml;\n",
       "          element.appendChild(docLink);\n",
       "        }\n",
       "      </script>\n",
       "    </div>\n",
       "  </div>\n",
       "  "
      ],
      "text/plain": [
       "      books_id                                              title  \\\n",
       "0            1  Harry Potter and the Half-Blood Prince by J.K....   \n",
       "1            2  Harry Potter and the Order of the Phoenix by J...   \n",
       "2            3  \"Harry Potter and the Sorcerer's Stoneâ„¢\" -- ...   \n",
       "3            5  Harry Potter and the Prisoner of Azkaban (Nove...   \n",
       "4            6  Harry Potter and the Goblet of Fire by J.K. Ro...   \n",
       "...        ...                                                ...   \n",
       "6197  30008702             The 16 Personality Types in a Nutshell   \n",
       "6198  30253864  Talking as Fast as I Can: From Gilmore Girls t...   \n",
       "6200  30555488  The Underground Railroad: Winner of the Pulitz...   \n",
       "6203  31845516                             Love Warrior: A Memoir   \n",
       "6204  32075671             The Hate U Give: A Printz Honor Winner   \n",
       "\n",
       "                                           url_playbook  \\\n",
       "0     https://play.google.com/store/books/details/Br...   \n",
       "1     https://play.google.com/store/books/details/Br...   \n",
       "2     https://play.google.com/store/books/details/Jo...   \n",
       "3     https://play.google.com/store/books/details/Ke...   \n",
       "4     https://play.google.com/store/books/details/Br...   \n",
       "...                                                 ...   \n",
       "6197  https://play.google.com/store/books/details/Ja...   \n",
       "6198  https://play.google.com/store/books/details/La...   \n",
       "6200  https://play.google.com/store/books/details/Co...   \n",
       "6203  https://play.google.com/store/books/details/Gl...   \n",
       "6204  https://play.google.com/store/books/details/An...   \n",
       "\n",
       "                                              url_image  \\\n",
       "0     https://books.google.com/books/publisher/conte...   \n",
       "1     https://books.google.com/books/publisher/conte...   \n",
       "2     https://books.google.com/books/publisher/conte...   \n",
       "3     https://books.google.com/books/publisher/conte...   \n",
       "4     https://books.google.com/books/publisher/conte...   \n",
       "...                                                 ...   \n",
       "6197  https://books.google.com/books/publisher/conte...   \n",
       "6198  https://books.google.com/books/publisher/conte...   \n",
       "6200  https://books.google.com/books/publisher/conte...   \n",
       "6203  https://books.google.com/books/publisher/conte...   \n",
       "6204  https://books.google.com/books/publisher/conte...   \n",
       "\n",
       "                                               synopsis          idr  \\\n",
       "0     <b>Unlock the more straightforward side of <i>...   $81,056.00   \n",
       "1     <b>Unlock the more straightforward side of <i>...   $81,056.00   \n",
       "2     This instrumental series contains selected the...   $97,297.00   \n",
       "3     Harry Potter and the Prisoner of Azkaban is ab...  $145,126.00   \n",
       "4     <b>Unlock the more straightforward side of <i>...   $81,056.00   \n",
       "...                                                 ...          ...   \n",
       "6197  <b>Meet the self-sufficient and brilliant stra...        $0.00   \n",
       "6198  <b><i>NEW YORK TIMES</i> BESTSELLER â€¢ In thi...  $148,851.00   \n",
       "6200  <b>WINNER OF THE PULITZER PRIZE FOR FICTION 20...  $123,598.00   \n",
       "6203  <b>#1 <i>New York Times</i> Bestseller | </b><...  $178,651.00   \n",
       "6204  8 starred reviews Â· Goodreads Choice Awards B...  $208,451.00   \n",
       "\n",
       "            isbn                                    author avg_rating  \\\n",
       "0      439785960              J.K. Rowling, Mary GrandPrÃ©       4,54   \n",
       "1      439358078              J.K. Rowling, Mary GrandPrÃ©       4,46   \n",
       "2      439554934              J.K. Rowling, Mary GrandPrÃ©       4,44   \n",
       "3      439655480  J.K. Rowling, Mary GrandPrÃ©, Rufus Beck       4,53   \n",
       "4      439139600              J.K. Rowling, Mary GrandPrÃ©       4,53   \n",
       "...          ...                                       ...        ...   \n",
       "6197   385542070                                Ian McEwan       3,71   \n",
       "6198   425285170                             Lauren Graham       4,04   \n",
       "6200   385542364                          Colson Whitehead       4,04   \n",
       "6203  1250128544                      Glennon Doyle Melton        4,1   \n",
       "6204    62498533                              Angie Thomas       4,62   \n",
       "\n",
       "             tags1        tags2               tags3  \\\n",
       "0          fantasy      fiction         young-adult   \n",
       "1         children   children-s             fantasy   \n",
       "2          fantasy      fiction         young-adult   \n",
       "3          fantasy      fiction         young-adult   \n",
       "4          fantasy      fiction         young-adult   \n",
       "...            ...          ...                 ...   \n",
       "6197      thriller    book-club        contemporary   \n",
       "6198       fiction       memoir         non-fiction   \n",
       "6200     book-club      fiction  historical-fiction   \n",
       "6203        memoir  non-fiction          nonfiction   \n",
       "6204  contemporary      fiction         young-adult   \n",
       "\n",
       "                                       genre  \\\n",
       "0              fantasy, fiction, young-adult   \n",
       "1              children, children-s, fantasy   \n",
       "2              fantasy, fiction, young-adult   \n",
       "3              fantasy, fiction, young-adult   \n",
       "4              fantasy, fiction, young-adult   \n",
       "...                                      ...   \n",
       "6197       thriller, book-club, contemporary   \n",
       "6198            fiction, memoir, non-fiction   \n",
       "6200  book-club, fiction, historical-fiction   \n",
       "6203         memoir, non-fiction, nonfiction   \n",
       "6204      contemporary, fiction, young-adult   \n",
       "\n",
       "                                                    tag  \n",
       "0     <b>Unlock the more straightforward side of <i>...  \n",
       "1     <b>Unlock the more straightforward side of <i>...  \n",
       "2     This instrumental series contains selected the...  \n",
       "3     Harry Potter and the Prisoner of Azkaban is ab...  \n",
       "4     <b>Unlock the more straightforward side of <i>...  \n",
       "...                                                 ...  \n",
       "6197  <b>Meet the self-sufficient and brilliant stra...  \n",
       "6198  <b><i>NEW YORK TIMES</i> BESTSELLER â€¢ In thi...  \n",
       "6200  <b>WINNER OF THE PULITZER PRIZE FOR FICTION 20...  \n",
       "6203  <b>#1 <i>New York Times</i> Bestseller | </b><...  \n",
       "6204  8 starred reviews Â· Goodreads Choice Awards B...  \n",
       "\n",
       "[5797 rows x 14 columns]"
      ]
     },
     "execution_count": 16,
     "metadata": {},
     "output_type": "execute_result"
    }
   ],
   "source": [
    "df['tag'] = df['synopsis'] + df['author'] + df['genre']\n",
    "df"
   ]
  },
  {
   "cell_type": "code",
   "execution_count": 18,
   "metadata": {
    "colab": {
     "base_uri": "https://localhost:8080/"
    },
    "id": "16TU1vlsA3fn",
    "outputId": "755e370b-ab9f-483e-f8a4-86a016a7a9d0"
   },
   "outputs": [
    {
     "name": "stderr",
     "output_type": "stream",
     "text": [
      "[nltk_data] Downloading package stopwords to /root/nltk_data...\n",
      "[nltk_data]   Unzipping corpora/stopwords.zip.\n"
     ]
    }
   ],
   "source": [
    "import re\n",
    "import nltk\n",
    "nltk.download('stopwords')\n",
    "from nltk.tokenize import RegexpTokenizer\n",
    "# Function for removing NonAscii characters\n",
    "def _removeNonAscii(s):\n",
    "    return \"\".join(i for i in s if  ord(i)<128)\n",
    "# Function for converting into lower case\n",
    "def make_lower_case(text):\n",
    "    return text.lower()\n",
    "# Function for removing stop words\n",
    "def remove_stop_words(text):\n",
    "    text = text.split()\n",
    "    stops = set(stopwords.words(\"english\"))\n",
    "    text = [w for w in text if not w in stops]\n",
    "    text = \" \".join(text)\n",
    "    return text\n",
    "# Function for removing punctuation\n",
    "def remove_punctuation(text):\n",
    "    tokenizer = RegexpTokenizer(r'\\w+')\n",
    "    text = tokenizer.tokenize(text)\n",
    "    text = \" \".join(text)\n",
    "    return text\n",
    "#Function for removing the html tags\n",
    "def remove_html(text):\n",
    "    html_pattern = re.compile('<.*?>')\n",
    "    return html_pattern.sub(r'', text)\n",
    "# Applying all the functions in description and storing as a cleaned_desc\n",
    "df['tags'] = df['tag'].apply(_removeNonAscii)\n",
    "df['tags'] = df.tags.apply(func = make_lower_case)\n",
    "df['tags'] = df.tags.apply(func = remove_stop_words)\n",
    "df['tags'] = df.tags.apply(func=remove_punctuation)\n",
    "df['tags'] = df.tags.apply(func=remove_html)\n"
   ]
  },
  {
   "cell_type": "code",
   "execution_count": 19,
   "metadata": {
    "colab": {
     "base_uri": "https://localhost:8080/",
     "height": 1000
    },
    "id": "TLXVBbGx4Hi9",
    "outputId": "d337cd24-0086-4293-883e-5dd2088ec25b"
   },
   "outputs": [
    {
     "data": {
      "text/html": [
       "\n",
       "  <div id=\"df-b5b8b451-fa0d-429b-bda8-0846020c406c\">\n",
       "    <div class=\"colab-df-container\">\n",
       "      <div>\n",
       "<style scoped>\n",
       "    .dataframe tbody tr th:only-of-type {\n",
       "        vertical-align: middle;\n",
       "    }\n",
       "\n",
       "    .dataframe tbody tr th {\n",
       "        vertical-align: top;\n",
       "    }\n",
       "\n",
       "    .dataframe thead th {\n",
       "        text-align: right;\n",
       "    }\n",
       "</style>\n",
       "<table border=\"1\" class=\"dataframe\">\n",
       "  <thead>\n",
       "    <tr style=\"text-align: right;\">\n",
       "      <th></th>\n",
       "      <th>books_id</th>\n",
       "      <th>title</th>\n",
       "      <th>url_playbook</th>\n",
       "      <th>url_image</th>\n",
       "      <th>synopsis</th>\n",
       "      <th>idr</th>\n",
       "      <th>isbn</th>\n",
       "      <th>author</th>\n",
       "      <th>avg_rating</th>\n",
       "      <th>tags1</th>\n",
       "      <th>tags2</th>\n",
       "      <th>tags3</th>\n",
       "      <th>genre</th>\n",
       "      <th>tag</th>\n",
       "      <th>tags</th>\n",
       "    </tr>\n",
       "  </thead>\n",
       "  <tbody>\n",
       "    <tr>\n",
       "      <th>0</th>\n",
       "      <td>1</td>\n",
       "      <td>Harry Potter and the Half-Blood Prince by J.K....</td>\n",
       "      <td>https://play.google.com/store/books/details/Br...</td>\n",
       "      <td>https://books.google.com/books/publisher/conte...</td>\n",
       "      <td>&lt;b&gt;Unlock the more straightforward side of &lt;i&gt;...</td>\n",
       "      <td>$81,056.00</td>\n",
       "      <td>439785960</td>\n",
       "      <td>J.K. Rowling, Mary GrandPrÃ©</td>\n",
       "      <td>4,54</td>\n",
       "      <td>fantasy</td>\n",
       "      <td>fiction</td>\n",
       "      <td>young-adult</td>\n",
       "      <td>fantasy, fiction, young-adult</td>\n",
       "      <td>&lt;b&gt;Unlock the more straightforward side of &lt;i&gt;...</td>\n",
       "      <td>b unlock straightforward side i harry potter h...</td>\n",
       "    </tr>\n",
       "    <tr>\n",
       "      <th>1</th>\n",
       "      <td>2</td>\n",
       "      <td>Harry Potter and the Order of the Phoenix by J...</td>\n",
       "      <td>https://play.google.com/store/books/details/Br...</td>\n",
       "      <td>https://books.google.com/books/publisher/conte...</td>\n",
       "      <td>&lt;b&gt;Unlock the more straightforward side of &lt;i&gt;...</td>\n",
       "      <td>$81,056.00</td>\n",
       "      <td>439358078</td>\n",
       "      <td>J.K. Rowling, Mary GrandPrÃ©</td>\n",
       "      <td>4,46</td>\n",
       "      <td>children</td>\n",
       "      <td>children-s</td>\n",
       "      <td>fantasy</td>\n",
       "      <td>children, children-s, fantasy</td>\n",
       "      <td>&lt;b&gt;Unlock the more straightforward side of &lt;i&gt;...</td>\n",
       "      <td>b unlock straightforward side i harry potter o...</td>\n",
       "    </tr>\n",
       "    <tr>\n",
       "      <th>2</th>\n",
       "      <td>3</td>\n",
       "      <td>\"Harry Potter and the Sorcerer's Stoneâ„¢\" -- ...</td>\n",
       "      <td>https://play.google.com/store/books/details/Jo...</td>\n",
       "      <td>https://books.google.com/books/publisher/conte...</td>\n",
       "      <td>This instrumental series contains selected the...</td>\n",
       "      <td>$97,297.00</td>\n",
       "      <td>439554934</td>\n",
       "      <td>J.K. Rowling, Mary GrandPrÃ©</td>\n",
       "      <td>4,44</td>\n",
       "      <td>fantasy</td>\n",
       "      <td>fiction</td>\n",
       "      <td>young-adult</td>\n",
       "      <td>fantasy, fiction, young-adult</td>\n",
       "      <td>This instrumental series contains selected the...</td>\n",
       "      <td>instrumental series contains selected themes b...</td>\n",
       "    </tr>\n",
       "    <tr>\n",
       "      <th>3</th>\n",
       "      <td>5</td>\n",
       "      <td>Harry Potter and the Prisoner of Azkaban (Nove...</td>\n",
       "      <td>https://play.google.com/store/books/details/Ke...</td>\n",
       "      <td>https://books.google.com/books/publisher/conte...</td>\n",
       "      <td>Harry Potter and the Prisoner of Azkaban is ab...</td>\n",
       "      <td>$145,126.00</td>\n",
       "      <td>439655480</td>\n",
       "      <td>J.K. Rowling, Mary GrandPrÃ©, Rufus Beck</td>\n",
       "      <td>4,53</td>\n",
       "      <td>fantasy</td>\n",
       "      <td>fiction</td>\n",
       "      <td>young-adult</td>\n",
       "      <td>fantasy, fiction, young-adult</td>\n",
       "      <td>Harry Potter and the Prisoner of Azkaban is ab...</td>\n",
       "      <td>harry potter prisoner azkaban killer breaks pr...</td>\n",
       "    </tr>\n",
       "    <tr>\n",
       "      <th>4</th>\n",
       "      <td>6</td>\n",
       "      <td>Harry Potter and the Goblet of Fire by J.K. Ro...</td>\n",
       "      <td>https://play.google.com/store/books/details/Br...</td>\n",
       "      <td>https://books.google.com/books/publisher/conte...</td>\n",
       "      <td>&lt;b&gt;Unlock the more straightforward side of &lt;i&gt;...</td>\n",
       "      <td>$81,056.00</td>\n",
       "      <td>439139600</td>\n",
       "      <td>J.K. Rowling, Mary GrandPrÃ©</td>\n",
       "      <td>4,53</td>\n",
       "      <td>fantasy</td>\n",
       "      <td>fiction</td>\n",
       "      <td>young-adult</td>\n",
       "      <td>fantasy, fiction, young-adult</td>\n",
       "      <td>&lt;b&gt;Unlock the more straightforward side of &lt;i&gt;...</td>\n",
       "      <td>b unlock straightforward side i harry potter g...</td>\n",
       "    </tr>\n",
       "    <tr>\n",
       "      <th>...</th>\n",
       "      <td>...</td>\n",
       "      <td>...</td>\n",
       "      <td>...</td>\n",
       "      <td>...</td>\n",
       "      <td>...</td>\n",
       "      <td>...</td>\n",
       "      <td>...</td>\n",
       "      <td>...</td>\n",
       "      <td>...</td>\n",
       "      <td>...</td>\n",
       "      <td>...</td>\n",
       "      <td>...</td>\n",
       "      <td>...</td>\n",
       "      <td>...</td>\n",
       "      <td>...</td>\n",
       "    </tr>\n",
       "    <tr>\n",
       "      <th>6197</th>\n",
       "      <td>30008702</td>\n",
       "      <td>The 16 Personality Types in a Nutshell</td>\n",
       "      <td>https://play.google.com/store/books/details/Ja...</td>\n",
       "      <td>https://books.google.com/books/publisher/conte...</td>\n",
       "      <td>&lt;b&gt;Meet the self-sufficient and brilliant stra...</td>\n",
       "      <td>$0.00</td>\n",
       "      <td>385542070</td>\n",
       "      <td>Ian McEwan</td>\n",
       "      <td>3,71</td>\n",
       "      <td>thriller</td>\n",
       "      <td>book-club</td>\n",
       "      <td>contemporary</td>\n",
       "      <td>thriller, book-club, contemporary</td>\n",
       "      <td>&lt;b&gt;Meet the self-sufficient and brilliant stra...</td>\n",
       "      <td>b meet self sufficient brilliant strategist co...</td>\n",
       "    </tr>\n",
       "    <tr>\n",
       "      <th>6198</th>\n",
       "      <td>30253864</td>\n",
       "      <td>Talking as Fast as I Can: From Gilmore Girls t...</td>\n",
       "      <td>https://play.google.com/store/books/details/La...</td>\n",
       "      <td>https://books.google.com/books/publisher/conte...</td>\n",
       "      <td>&lt;b&gt;&lt;i&gt;NEW YORK TIMES&lt;/i&gt; BESTSELLER â€¢ In thi...</td>\n",
       "      <td>$148,851.00</td>\n",
       "      <td>425285170</td>\n",
       "      <td>Lauren Graham</td>\n",
       "      <td>4,04</td>\n",
       "      <td>fiction</td>\n",
       "      <td>memoir</td>\n",
       "      <td>non-fiction</td>\n",
       "      <td>fiction, memoir, non-fiction</td>\n",
       "      <td>&lt;b&gt;&lt;i&gt;NEW YORK TIMES&lt;/i&gt; BESTSELLER â€¢ In thi...</td>\n",
       "      <td>b i new york times i bestseller collection per...</td>\n",
       "    </tr>\n",
       "    <tr>\n",
       "      <th>6200</th>\n",
       "      <td>30555488</td>\n",
       "      <td>The Underground Railroad: Winner of the Pulitz...</td>\n",
       "      <td>https://play.google.com/store/books/details/Co...</td>\n",
       "      <td>https://books.google.com/books/publisher/conte...</td>\n",
       "      <td>&lt;b&gt;WINNER OF THE PULITZER PRIZE FOR FICTION 20...</td>\n",
       "      <td>$123,598.00</td>\n",
       "      <td>385542364</td>\n",
       "      <td>Colson Whitehead</td>\n",
       "      <td>4,04</td>\n",
       "      <td>book-club</td>\n",
       "      <td>fiction</td>\n",
       "      <td>historical-fiction</td>\n",
       "      <td>book-club, fiction, historical-fiction</td>\n",
       "      <td>&lt;b&gt;WINNER OF THE PULITZER PRIZE FOR FICTION 20...</td>\n",
       "      <td>b winner pulitzer prize fiction 2017 b br br b...</td>\n",
       "    </tr>\n",
       "    <tr>\n",
       "      <th>6203</th>\n",
       "      <td>31845516</td>\n",
       "      <td>Love Warrior: A Memoir</td>\n",
       "      <td>https://play.google.com/store/books/details/Gl...</td>\n",
       "      <td>https://books.google.com/books/publisher/conte...</td>\n",
       "      <td>&lt;b&gt;#1 &lt;i&gt;New York Times&lt;/i&gt; Bestseller | &lt;/b&gt;&lt;...</td>\n",
       "      <td>$178,651.00</td>\n",
       "      <td>1250128544</td>\n",
       "      <td>Glennon Doyle Melton</td>\n",
       "      <td>4,1</td>\n",
       "      <td>memoir</td>\n",
       "      <td>non-fiction</td>\n",
       "      <td>nonfiction</td>\n",
       "      <td>memoir, non-fiction, nonfiction</td>\n",
       "      <td>&lt;b&gt;#1 &lt;i&gt;New York Times&lt;/i&gt; Bestseller | &lt;/b&gt;&lt;...</td>\n",
       "      <td>b 1 i new york times i bestseller b b oprah s ...</td>\n",
       "    </tr>\n",
       "    <tr>\n",
       "      <th>6204</th>\n",
       "      <td>32075671</td>\n",
       "      <td>The Hate U Give: A Printz Honor Winner</td>\n",
       "      <td>https://play.google.com/store/books/details/An...</td>\n",
       "      <td>https://books.google.com/books/publisher/conte...</td>\n",
       "      <td>8 starred reviews Â· Goodreads Choice Awards B...</td>\n",
       "      <td>$208,451.00</td>\n",
       "      <td>62498533</td>\n",
       "      <td>Angie Thomas</td>\n",
       "      <td>4,62</td>\n",
       "      <td>contemporary</td>\n",
       "      <td>fiction</td>\n",
       "      <td>young-adult</td>\n",
       "      <td>contemporary, fiction, young-adult</td>\n",
       "      <td>8 starred reviews Â· Goodreads Choice Awards B...</td>\n",
       "      <td>8 starred reviews goodreads choice awards best...</td>\n",
       "    </tr>\n",
       "  </tbody>\n",
       "</table>\n",
       "<p>5797 rows × 15 columns</p>\n",
       "</div>\n",
       "      <button class=\"colab-df-convert\" onclick=\"convertToInteractive('df-b5b8b451-fa0d-429b-bda8-0846020c406c')\"\n",
       "              title=\"Convert this dataframe to an interactive table.\"\n",
       "              style=\"display:none;\">\n",
       "        \n",
       "  <svg xmlns=\"http://www.w3.org/2000/svg\" height=\"24px\"viewBox=\"0 0 24 24\"\n",
       "       width=\"24px\">\n",
       "    <path d=\"M0 0h24v24H0V0z\" fill=\"none\"/>\n",
       "    <path d=\"M18.56 5.44l.94 2.06.94-2.06 2.06-.94-2.06-.94-.94-2.06-.94 2.06-2.06.94zm-11 1L8.5 8.5l.94-2.06 2.06-.94-2.06-.94L8.5 2.5l-.94 2.06-2.06.94zm10 10l.94 2.06.94-2.06 2.06-.94-2.06-.94-.94-2.06-.94 2.06-2.06.94z\"/><path d=\"M17.41 7.96l-1.37-1.37c-.4-.4-.92-.59-1.43-.59-.52 0-1.04.2-1.43.59L10.3 9.45l-7.72 7.72c-.78.78-.78 2.05 0 2.83L4 21.41c.39.39.9.59 1.41.59.51 0 1.02-.2 1.41-.59l7.78-7.78 2.81-2.81c.8-.78.8-2.07 0-2.86zM5.41 20L4 18.59l7.72-7.72 1.47 1.35L5.41 20z\"/>\n",
       "  </svg>\n",
       "      </button>\n",
       "      \n",
       "  <style>\n",
       "    .colab-df-container {\n",
       "      display:flex;\n",
       "      flex-wrap:wrap;\n",
       "      gap: 12px;\n",
       "    }\n",
       "\n",
       "    .colab-df-convert {\n",
       "      background-color: #E8F0FE;\n",
       "      border: none;\n",
       "      border-radius: 50%;\n",
       "      cursor: pointer;\n",
       "      display: none;\n",
       "      fill: #1967D2;\n",
       "      height: 32px;\n",
       "      padding: 0 0 0 0;\n",
       "      width: 32px;\n",
       "    }\n",
       "\n",
       "    .colab-df-convert:hover {\n",
       "      background-color: #E2EBFA;\n",
       "      box-shadow: 0px 1px 2px rgba(60, 64, 67, 0.3), 0px 1px 3px 1px rgba(60, 64, 67, 0.15);\n",
       "      fill: #174EA6;\n",
       "    }\n",
       "\n",
       "    [theme=dark] .colab-df-convert {\n",
       "      background-color: #3B4455;\n",
       "      fill: #D2E3FC;\n",
       "    }\n",
       "\n",
       "    [theme=dark] .colab-df-convert:hover {\n",
       "      background-color: #434B5C;\n",
       "      box-shadow: 0px 1px 3px 1px rgba(0, 0, 0, 0.15);\n",
       "      filter: drop-shadow(0px 1px 2px rgba(0, 0, 0, 0.3));\n",
       "      fill: #FFFFFF;\n",
       "    }\n",
       "  </style>\n",
       "\n",
       "      <script>\n",
       "        const buttonEl =\n",
       "          document.querySelector('#df-b5b8b451-fa0d-429b-bda8-0846020c406c button.colab-df-convert');\n",
       "        buttonEl.style.display =\n",
       "          google.colab.kernel.accessAllowed ? 'block' : 'none';\n",
       "\n",
       "        async function convertToInteractive(key) {\n",
       "          const element = document.querySelector('#df-b5b8b451-fa0d-429b-bda8-0846020c406c');\n",
       "          const dataTable =\n",
       "            await google.colab.kernel.invokeFunction('convertToInteractive',\n",
       "                                                     [key], {});\n",
       "          if (!dataTable) return;\n",
       "\n",
       "          const docLinkHtml = 'Like what you see? Visit the ' +\n",
       "            '<a target=\"_blank\" href=https://colab.research.google.com/notebooks/data_table.ipynb>data table notebook</a>'\n",
       "            + ' to learn more about interactive tables.';\n",
       "          element.innerHTML = '';\n",
       "          dataTable['output_type'] = 'display_data';\n",
       "          await google.colab.output.renderOutput(dataTable, element);\n",
       "          const docLink = document.createElement('div');\n",
       "          docLink.innerHTML = docLinkHtml;\n",
       "          element.appendChild(docLink);\n",
       "        }\n",
       "      </script>\n",
       "    </div>\n",
       "  </div>\n",
       "  "
      ],
      "text/plain": [
       "      books_id                                              title  \\\n",
       "0            1  Harry Potter and the Half-Blood Prince by J.K....   \n",
       "1            2  Harry Potter and the Order of the Phoenix by J...   \n",
       "2            3  \"Harry Potter and the Sorcerer's Stoneâ„¢\" -- ...   \n",
       "3            5  Harry Potter and the Prisoner of Azkaban (Nove...   \n",
       "4            6  Harry Potter and the Goblet of Fire by J.K. Ro...   \n",
       "...        ...                                                ...   \n",
       "6197  30008702             The 16 Personality Types in a Nutshell   \n",
       "6198  30253864  Talking as Fast as I Can: From Gilmore Girls t...   \n",
       "6200  30555488  The Underground Railroad: Winner of the Pulitz...   \n",
       "6203  31845516                             Love Warrior: A Memoir   \n",
       "6204  32075671             The Hate U Give: A Printz Honor Winner   \n",
       "\n",
       "                                           url_playbook  \\\n",
       "0     https://play.google.com/store/books/details/Br...   \n",
       "1     https://play.google.com/store/books/details/Br...   \n",
       "2     https://play.google.com/store/books/details/Jo...   \n",
       "3     https://play.google.com/store/books/details/Ke...   \n",
       "4     https://play.google.com/store/books/details/Br...   \n",
       "...                                                 ...   \n",
       "6197  https://play.google.com/store/books/details/Ja...   \n",
       "6198  https://play.google.com/store/books/details/La...   \n",
       "6200  https://play.google.com/store/books/details/Co...   \n",
       "6203  https://play.google.com/store/books/details/Gl...   \n",
       "6204  https://play.google.com/store/books/details/An...   \n",
       "\n",
       "                                              url_image  \\\n",
       "0     https://books.google.com/books/publisher/conte...   \n",
       "1     https://books.google.com/books/publisher/conte...   \n",
       "2     https://books.google.com/books/publisher/conte...   \n",
       "3     https://books.google.com/books/publisher/conte...   \n",
       "4     https://books.google.com/books/publisher/conte...   \n",
       "...                                                 ...   \n",
       "6197  https://books.google.com/books/publisher/conte...   \n",
       "6198  https://books.google.com/books/publisher/conte...   \n",
       "6200  https://books.google.com/books/publisher/conte...   \n",
       "6203  https://books.google.com/books/publisher/conte...   \n",
       "6204  https://books.google.com/books/publisher/conte...   \n",
       "\n",
       "                                               synopsis          idr  \\\n",
       "0     <b>Unlock the more straightforward side of <i>...   $81,056.00   \n",
       "1     <b>Unlock the more straightforward side of <i>...   $81,056.00   \n",
       "2     This instrumental series contains selected the...   $97,297.00   \n",
       "3     Harry Potter and the Prisoner of Azkaban is ab...  $145,126.00   \n",
       "4     <b>Unlock the more straightforward side of <i>...   $81,056.00   \n",
       "...                                                 ...          ...   \n",
       "6197  <b>Meet the self-sufficient and brilliant stra...        $0.00   \n",
       "6198  <b><i>NEW YORK TIMES</i> BESTSELLER â€¢ In thi...  $148,851.00   \n",
       "6200  <b>WINNER OF THE PULITZER PRIZE FOR FICTION 20...  $123,598.00   \n",
       "6203  <b>#1 <i>New York Times</i> Bestseller | </b><...  $178,651.00   \n",
       "6204  8 starred reviews Â· Goodreads Choice Awards B...  $208,451.00   \n",
       "\n",
       "            isbn                                    author avg_rating  \\\n",
       "0      439785960              J.K. Rowling, Mary GrandPrÃ©       4,54   \n",
       "1      439358078              J.K. Rowling, Mary GrandPrÃ©       4,46   \n",
       "2      439554934              J.K. Rowling, Mary GrandPrÃ©       4,44   \n",
       "3      439655480  J.K. Rowling, Mary GrandPrÃ©, Rufus Beck       4,53   \n",
       "4      439139600              J.K. Rowling, Mary GrandPrÃ©       4,53   \n",
       "...          ...                                       ...        ...   \n",
       "6197   385542070                                Ian McEwan       3,71   \n",
       "6198   425285170                             Lauren Graham       4,04   \n",
       "6200   385542364                          Colson Whitehead       4,04   \n",
       "6203  1250128544                      Glennon Doyle Melton        4,1   \n",
       "6204    62498533                              Angie Thomas       4,62   \n",
       "\n",
       "             tags1        tags2               tags3  \\\n",
       "0          fantasy      fiction         young-adult   \n",
       "1         children   children-s             fantasy   \n",
       "2          fantasy      fiction         young-adult   \n",
       "3          fantasy      fiction         young-adult   \n",
       "4          fantasy      fiction         young-adult   \n",
       "...            ...          ...                 ...   \n",
       "6197      thriller    book-club        contemporary   \n",
       "6198       fiction       memoir         non-fiction   \n",
       "6200     book-club      fiction  historical-fiction   \n",
       "6203        memoir  non-fiction          nonfiction   \n",
       "6204  contemporary      fiction         young-adult   \n",
       "\n",
       "                                       genre  \\\n",
       "0              fantasy, fiction, young-adult   \n",
       "1              children, children-s, fantasy   \n",
       "2              fantasy, fiction, young-adult   \n",
       "3              fantasy, fiction, young-adult   \n",
       "4              fantasy, fiction, young-adult   \n",
       "...                                      ...   \n",
       "6197       thriller, book-club, contemporary   \n",
       "6198            fiction, memoir, non-fiction   \n",
       "6200  book-club, fiction, historical-fiction   \n",
       "6203         memoir, non-fiction, nonfiction   \n",
       "6204      contemporary, fiction, young-adult   \n",
       "\n",
       "                                                    tag  \\\n",
       "0     <b>Unlock the more straightforward side of <i>...   \n",
       "1     <b>Unlock the more straightforward side of <i>...   \n",
       "2     This instrumental series contains selected the...   \n",
       "3     Harry Potter and the Prisoner of Azkaban is ab...   \n",
       "4     <b>Unlock the more straightforward side of <i>...   \n",
       "...                                                 ...   \n",
       "6197  <b>Meet the self-sufficient and brilliant stra...   \n",
       "6198  <b><i>NEW YORK TIMES</i> BESTSELLER â€¢ In thi...   \n",
       "6200  <b>WINNER OF THE PULITZER PRIZE FOR FICTION 20...   \n",
       "6203  <b>#1 <i>New York Times</i> Bestseller | </b><...   \n",
       "6204  8 starred reviews Â· Goodreads Choice Awards B...   \n",
       "\n",
       "                                                   tags  \n",
       "0     b unlock straightforward side i harry potter h...  \n",
       "1     b unlock straightforward side i harry potter o...  \n",
       "2     instrumental series contains selected themes b...  \n",
       "3     harry potter prisoner azkaban killer breaks pr...  \n",
       "4     b unlock straightforward side i harry potter g...  \n",
       "...                                                 ...  \n",
       "6197  b meet self sufficient brilliant strategist co...  \n",
       "6198  b i new york times i bestseller collection per...  \n",
       "6200  b winner pulitzer prize fiction 2017 b br br b...  \n",
       "6203  b 1 i new york times i bestseller b b oprah s ...  \n",
       "6204  8 starred reviews goodreads choice awards best...  \n",
       "\n",
       "[5797 rows x 15 columns]"
      ]
     },
     "execution_count": 19,
     "metadata": {},
     "output_type": "execute_result"
    }
   ],
   "source": [
    "df"
   ]
  },
  {
   "cell_type": "code",
   "execution_count": 83,
   "metadata": {
    "id": "IA3RMCytKEUJ"
   },
   "outputs": [],
   "source": [
    "df_fix = df[['books_id', 'title', 'tags']]"
   ]
  },
  {
   "cell_type": "code",
   "execution_count": 84,
   "metadata": {
    "colab": {
     "base_uri": "https://localhost:8080/",
     "height": 206
    },
    "id": "mlL8iRMOKQ7j",
    "outputId": "a729dcdf-e915-4a4b-9dd7-9c41dbe694d9"
   },
   "outputs": [
    {
     "data": {
      "text/html": [
       "\n",
       "  <div id=\"df-e79a3031-6ccb-4ecd-8d39-5026fd48c2a4\">\n",
       "    <div class=\"colab-df-container\">\n",
       "      <div>\n",
       "<style scoped>\n",
       "    .dataframe tbody tr th:only-of-type {\n",
       "        vertical-align: middle;\n",
       "    }\n",
       "\n",
       "    .dataframe tbody tr th {\n",
       "        vertical-align: top;\n",
       "    }\n",
       "\n",
       "    .dataframe thead th {\n",
       "        text-align: right;\n",
       "    }\n",
       "</style>\n",
       "<table border=\"1\" class=\"dataframe\">\n",
       "  <thead>\n",
       "    <tr style=\"text-align: right;\">\n",
       "      <th></th>\n",
       "      <th>books_id</th>\n",
       "      <th>title</th>\n",
       "      <th>tags</th>\n",
       "    </tr>\n",
       "  </thead>\n",
       "  <tbody>\n",
       "    <tr>\n",
       "      <th>0</th>\n",
       "      <td>1</td>\n",
       "      <td>Harry Potter and the Half-Blood Prince by J.K....</td>\n",
       "      <td>b unlock straightforward side i harry potter h...</td>\n",
       "    </tr>\n",
       "    <tr>\n",
       "      <th>1</th>\n",
       "      <td>2</td>\n",
       "      <td>Harry Potter and the Order of the Phoenix by J...</td>\n",
       "      <td>b unlock straightforward side i harry potter o...</td>\n",
       "    </tr>\n",
       "    <tr>\n",
       "      <th>2</th>\n",
       "      <td>3</td>\n",
       "      <td>\"Harry Potter and the Sorcerer's Stoneâ„¢\" -- ...</td>\n",
       "      <td>instrumental series contains selected themes b...</td>\n",
       "    </tr>\n",
       "    <tr>\n",
       "      <th>3</th>\n",
       "      <td>5</td>\n",
       "      <td>Harry Potter and the Prisoner of Azkaban (Nove...</td>\n",
       "      <td>harry potter prisoner azkaban killer breaks pr...</td>\n",
       "    </tr>\n",
       "    <tr>\n",
       "      <th>4</th>\n",
       "      <td>6</td>\n",
       "      <td>Harry Potter and the Goblet of Fire by J.K. Ro...</td>\n",
       "      <td>b unlock straightforward side i harry potter g...</td>\n",
       "    </tr>\n",
       "  </tbody>\n",
       "</table>\n",
       "</div>\n",
       "      <button class=\"colab-df-convert\" onclick=\"convertToInteractive('df-e79a3031-6ccb-4ecd-8d39-5026fd48c2a4')\"\n",
       "              title=\"Convert this dataframe to an interactive table.\"\n",
       "              style=\"display:none;\">\n",
       "        \n",
       "  <svg xmlns=\"http://www.w3.org/2000/svg\" height=\"24px\"viewBox=\"0 0 24 24\"\n",
       "       width=\"24px\">\n",
       "    <path d=\"M0 0h24v24H0V0z\" fill=\"none\"/>\n",
       "    <path d=\"M18.56 5.44l.94 2.06.94-2.06 2.06-.94-2.06-.94-.94-2.06-.94 2.06-2.06.94zm-11 1L8.5 8.5l.94-2.06 2.06-.94-2.06-.94L8.5 2.5l-.94 2.06-2.06.94zm10 10l.94 2.06.94-2.06 2.06-.94-2.06-.94-.94-2.06-.94 2.06-2.06.94z\"/><path d=\"M17.41 7.96l-1.37-1.37c-.4-.4-.92-.59-1.43-.59-.52 0-1.04.2-1.43.59L10.3 9.45l-7.72 7.72c-.78.78-.78 2.05 0 2.83L4 21.41c.39.39.9.59 1.41.59.51 0 1.02-.2 1.41-.59l7.78-7.78 2.81-2.81c.8-.78.8-2.07 0-2.86zM5.41 20L4 18.59l7.72-7.72 1.47 1.35L5.41 20z\"/>\n",
       "  </svg>\n",
       "      </button>\n",
       "      \n",
       "  <style>\n",
       "    .colab-df-container {\n",
       "      display:flex;\n",
       "      flex-wrap:wrap;\n",
       "      gap: 12px;\n",
       "    }\n",
       "\n",
       "    .colab-df-convert {\n",
       "      background-color: #E8F0FE;\n",
       "      border: none;\n",
       "      border-radius: 50%;\n",
       "      cursor: pointer;\n",
       "      display: none;\n",
       "      fill: #1967D2;\n",
       "      height: 32px;\n",
       "      padding: 0 0 0 0;\n",
       "      width: 32px;\n",
       "    }\n",
       "\n",
       "    .colab-df-convert:hover {\n",
       "      background-color: #E2EBFA;\n",
       "      box-shadow: 0px 1px 2px rgba(60, 64, 67, 0.3), 0px 1px 3px 1px rgba(60, 64, 67, 0.15);\n",
       "      fill: #174EA6;\n",
       "    }\n",
       "\n",
       "    [theme=dark] .colab-df-convert {\n",
       "      background-color: #3B4455;\n",
       "      fill: #D2E3FC;\n",
       "    }\n",
       "\n",
       "    [theme=dark] .colab-df-convert:hover {\n",
       "      background-color: #434B5C;\n",
       "      box-shadow: 0px 1px 3px 1px rgba(0, 0, 0, 0.15);\n",
       "      filter: drop-shadow(0px 1px 2px rgba(0, 0, 0, 0.3));\n",
       "      fill: #FFFFFF;\n",
       "    }\n",
       "  </style>\n",
       "\n",
       "      <script>\n",
       "        const buttonEl =\n",
       "          document.querySelector('#df-e79a3031-6ccb-4ecd-8d39-5026fd48c2a4 button.colab-df-convert');\n",
       "        buttonEl.style.display =\n",
       "          google.colab.kernel.accessAllowed ? 'block' : 'none';\n",
       "\n",
       "        async function convertToInteractive(key) {\n",
       "          const element = document.querySelector('#df-e79a3031-6ccb-4ecd-8d39-5026fd48c2a4');\n",
       "          const dataTable =\n",
       "            await google.colab.kernel.invokeFunction('convertToInteractive',\n",
       "                                                     [key], {});\n",
       "          if (!dataTable) return;\n",
       "\n",
       "          const docLinkHtml = 'Like what you see? Visit the ' +\n",
       "            '<a target=\"_blank\" href=https://colab.research.google.com/notebooks/data_table.ipynb>data table notebook</a>'\n",
       "            + ' to learn more about interactive tables.';\n",
       "          element.innerHTML = '';\n",
       "          dataTable['output_type'] = 'display_data';\n",
       "          await google.colab.output.renderOutput(dataTable, element);\n",
       "          const docLink = document.createElement('div');\n",
       "          docLink.innerHTML = docLinkHtml;\n",
       "          element.appendChild(docLink);\n",
       "        }\n",
       "      </script>\n",
       "    </div>\n",
       "  </div>\n",
       "  "
      ],
      "text/plain": [
       "   books_id                                              title  \\\n",
       "0         1  Harry Potter and the Half-Blood Prince by J.K....   \n",
       "1         2  Harry Potter and the Order of the Phoenix by J...   \n",
       "2         3  \"Harry Potter and the Sorcerer's Stoneâ„¢\" -- ...   \n",
       "3         5  Harry Potter and the Prisoner of Azkaban (Nove...   \n",
       "4         6  Harry Potter and the Goblet of Fire by J.K. Ro...   \n",
       "\n",
       "                                                tags  \n",
       "0  b unlock straightforward side i harry potter h...  \n",
       "1  b unlock straightforward side i harry potter o...  \n",
       "2  instrumental series contains selected themes b...  \n",
       "3  harry potter prisoner azkaban killer breaks pr...  \n",
       "4  b unlock straightforward side i harry potter g...  "
      ]
     },
     "execution_count": 84,
     "metadata": {},
     "output_type": "execute_result"
    }
   ],
   "source": [
    "df_fix.head(5)"
   ]
  },
  {
   "cell_type": "code",
   "execution_count": 85,
   "metadata": {
    "colab": {
     "base_uri": "https://localhost:8080/"
    },
    "id": "eW3xnTE2FjV1",
    "outputId": "818c99e4-b562-46e4-8f73-74a3469b2f38"
   },
   "outputs": [
    {
     "data": {
      "text/plain": [
       "array([[0, 0, 0, ..., 0, 0, 0],\n",
       "       [0, 0, 0, ..., 0, 0, 0],\n",
       "       [0, 0, 0, ..., 0, 0, 0],\n",
       "       ...,\n",
       "       [0, 0, 0, ..., 0, 0, 0],\n",
       "       [0, 0, 0, ..., 0, 0, 0],\n",
       "       [0, 0, 0, ..., 0, 0, 0]])"
      ]
     },
     "execution_count": 85,
     "metadata": {},
     "output_type": "execute_result"
    }
   ],
   "source": [
    "from sklearn.feature_extraction.text import CountVectorizer\n",
    "cv  = CountVectorizer(max_features=5000 , stop_words= 'english')\n",
    "\n",
    "cv.fit_transform(df_fix['tags']).toarray()"
   ]
  },
  {
   "cell_type": "code",
   "execution_count": 86,
   "metadata": {
    "id": "nami06IbBTqE"
   },
   "outputs": [],
   "source": [
    "vectors = cv.fit_transform(df_fix['tags']).toarray()"
   ]
  },
  {
   "cell_type": "code",
   "execution_count": 87,
   "metadata": {
    "colab": {
     "base_uri": "https://localhost:8080/"
    },
    "id": "zPUR2i-8FS9u",
    "outputId": "06753ba2-491e-40d5-c3e7-46bfe8d7e0c3"
   },
   "outputs": [
    {
     "data": {
      "text/plain": [
       "array(['000', '10', '100', ..., 'zombie', 'zone', 'zoo'], dtype=object)"
      ]
     },
     "execution_count": 87,
     "metadata": {},
     "output_type": "execute_result"
    }
   ],
   "source": [
    "cv.get_feature_names_out()"
   ]
  },
  {
   "cell_type": "code",
   "execution_count": 88,
   "metadata": {
    "id": "E7OTCYbPBxDk"
   },
   "outputs": [],
   "source": [
    "import nltk\n",
    "from nltk.stem import PorterStemmer\n",
    "ps = PorterStemmer()"
   ]
  },
  {
   "cell_type": "code",
   "execution_count": 89,
   "metadata": {
    "id": "C_E3hZOtHUAL"
   },
   "outputs": [],
   "source": [
    "def stem(text):\n",
    "    y = []\n",
    "    \n",
    "    for i in text.split():\n",
    "        y.append(ps.stem(i))\n",
    "    return ' '.join(y)"
   ]
  },
  {
   "cell_type": "code",
   "execution_count": 90,
   "metadata": {
    "colab": {
     "base_uri": "https://localhost:8080/"
    },
    "id": "7uIZdfIxCPlR",
    "outputId": "02cd9eaa-20de-4566-c6f6-19399b45641b"
   },
   "outputs": [
    {
     "data": {
      "text/plain": [
       "('action', 'action', 'action', 'histor', 'histor')"
      ]
     },
     "execution_count": 90,
     "metadata": {},
     "output_type": "execute_result"
    }
   ],
   "source": [
    "stem('action') , stem('actionable'), stem('actioning') , stem('historical') , stem('historically')"
   ]
  },
  {
   "cell_type": "code",
   "execution_count": 91,
   "metadata": {
    "colab": {
     "base_uri": "https://localhost:8080/",
     "height": 140
    },
    "id": "4D7TzwIPCdTu",
    "outputId": "0d200357-32b4-4a9c-e26c-5468d9303cbb"
   },
   "outputs": [
    {
     "data": {
      "application/vnd.google.colaboratory.intrinsic+json": {
       "type": "string"
      },
      "text/plain": [
       "'b unlock straightforward side i harry potter half blood prince i concise insightful summary analysis b br br this engaging summary presents analysis i harry potter half blood prince i j k rowling follows harry tries learn much possible lord voldemorts powers weaknesses still keeping schoolwork dealing teenage drama trying keep eye rival draco malfoy behaving oddly ever since return hogwarts i harry potter half blood prince i sixth novel j k rowlings bestselling seven book series inspired films video games board games even theme park rowling household name around world books include i the casual vacancy i 2012 i the cuckoos calling i 2013 published pseudonym robert galbraith br br find everything need know i harry potter half blood prince i in fraction time br br b i this in depth informative reading guide brings you i b br br complete plot summary br character studies br key themes symbols br questions reflection br br i why choose brightsummaries com i br br available print digital format publications designed accompany reading journey clear concise style makes easy understanding providing perfect opportunity improve literary knowledge time br br b see best literature whole new light brightsummaries com b j k rowling mary grandprfantasy fiction young adult'"
      ]
     },
     "execution_count": 91,
     "metadata": {},
     "output_type": "execute_result"
    }
   ],
   "source": [
    "df_fix['tags'][0]"
   ]
  },
  {
   "cell_type": "code",
   "execution_count": 92,
   "metadata": {
    "colab": {
     "base_uri": "https://localhost:8080/",
     "height": 140
    },
    "id": "PWYhcbppL_gT",
    "outputId": "79ee1693-f258-46fc-de3d-8f015e1dcdb4"
   },
   "outputs": [
    {
     "data": {
      "application/vnd.google.colaboratory.intrinsic+json": {
       "type": "string"
      },
      "text/plain": [
       "'b unlock straightforward side i harri potter half blood princ i concis insight summari analysi b br br thi engag summari present analysi i harri potter half blood princ i j k rowl follow harri tri learn much possibl lord voldemort power weak still keep schoolwork deal teenag drama tri keep eye rival draco malfoy behav oddli ever sinc return hogwart i harri potter half blood princ i sixth novel j k rowl bestsel seven book seri inspir film video game board game even theme park rowl household name around world book includ i the casual vacanc i 2012 i the cuckoo call i 2013 publish pseudonym robert galbraith br br find everyth need know i harri potter half blood princ i in fraction time br br b i thi in depth inform read guid bring you i b br br complet plot summari br charact studi br key theme symbol br question reflect br br i whi choos brightsummari com i br br avail print digit format public design accompani read journey clear concis style make easi understand provid perfect opportun improv literari knowledg time br br b see best literatur whole new light brightsummari com b j k rowl mari grandprfantasi fiction young adult'"
      ]
     },
     "execution_count": 92,
     "metadata": {},
     "output_type": "execute_result"
    }
   ],
   "source": [
    "stem('b unlock straightforward side i harry potter half blood prince i concise insightful summary analysis b br br this engaging summary presents analysis i harry potter half blood prince i j k rowling follows harry tries learn much possible lord voldemorts powers weaknesses still keeping schoolwork dealing teenage drama trying keep eye rival draco malfoy behaving oddly ever since return hogwarts i harry potter half blood prince i sixth novel j k rowlings bestselling seven book series inspired films video games board games even theme park rowling household name around world books include i the casual vacancy i 2012 i the cuckoos calling i 2013 published pseudonym robert galbraith br br find everything need know i harry potter half blood prince i in fraction time br br b i this in depth informative reading guide brings you i b br br complete plot summary br character studies br key themes symbols br questions reflection br br i why choose brightsummaries com i br br available print digital format publications designed accompany reading journey clear concise style makes easy understanding providing perfect opportunity improve literary knowledge time br br b see best literature whole new light brightsummaries com b j k rowling mary grandprfantasy fiction young adult')"
   ]
  },
  {
   "cell_type": "code",
   "execution_count": 93,
   "metadata": {
    "colab": {
     "base_uri": "https://localhost:8080/"
    },
    "id": "K3waizmVMCoE",
    "outputId": "794a6588-38c1-4dc4-d040-955de3d4cdbd"
   },
   "outputs": [
    {
     "data": {
      "text/plain": [
       "0       b unlock straightforward side i harri potter h...\n",
       "1       b unlock straightforward side i harri potter o...\n",
       "2       instrument seri contain select theme box offic...\n",
       "3       harri potter prison azkaban killer break priso...\n",
       "4       b unlock straightforward side i harri potter g...\n",
       "                              ...                        \n",
       "6197    b meet self suffici brilliant strategist const...\n",
       "6198    b i new york time i bestsel collect person ess...\n",
       "6200    b winner pulitz prize fiction 2017 b br br b w...\n",
       "6203    b 1 i new york time i bestsel b b oprah s book...\n",
       "6204    8 star review goodread choic award best best w...\n",
       "Name: tags, Length: 5797, dtype: object"
      ]
     },
     "execution_count": 93,
     "metadata": {},
     "output_type": "execute_result"
    }
   ],
   "source": [
    "df_fix['tags'].apply(stem)"
   ]
  },
  {
   "cell_type": "code",
   "execution_count": 94,
   "metadata": {
    "colab": {
     "base_uri": "https://localhost:8080/"
    },
    "id": "7qIgeMeTMF6h",
    "outputId": "f30aefca-7b39-4c0c-ad37-6fcb2a041e7f"
   },
   "outputs": [
    {
     "name": "stderr",
     "output_type": "stream",
     "text": [
      "<ipython-input-94-f3c16866a5ec>:1: SettingWithCopyWarning: \n",
      "A value is trying to be set on a copy of a slice from a DataFrame.\n",
      "Try using .loc[row_indexer,col_indexer] = value instead\n",
      "\n",
      "See the caveats in the documentation: https://pandas.pydata.org/pandas-docs/stable/user_guide/indexing.html#returning-a-view-versus-a-copy\n",
      "  df_fix['tags'] = df_fix['tags'].apply(stem)\n"
     ]
    }
   ],
   "source": [
    "df_fix['tags'] = df_fix['tags'].apply(stem)"
   ]
  },
  {
   "cell_type": "code",
   "execution_count": 95,
   "metadata": {
    "colab": {
     "base_uri": "https://localhost:8080/"
    },
    "id": "gT2-LC4fMJTh",
    "outputId": "0e410072-faf2-45db-fd1f-becd9cb3e725"
   },
   "outputs": [
    {
     "data": {
      "text/plain": [
       "array([[0, 0, 0, ..., 0, 0, 0],\n",
       "       [0, 0, 0, ..., 0, 0, 0],\n",
       "       [0, 0, 0, ..., 0, 0, 0],\n",
       "       ...,\n",
       "       [0, 0, 0, ..., 0, 0, 0],\n",
       "       [0, 0, 0, ..., 0, 0, 0],\n",
       "       [0, 0, 0, ..., 0, 0, 0]])"
      ]
     },
     "execution_count": 95,
     "metadata": {},
     "output_type": "execute_result"
    }
   ],
   "source": [
    "from sklearn.feature_extraction.text import CountVectorizer\n",
    "cv  = CountVectorizer(max_features=6000 , stop_words= 'english')\n",
    "\n",
    "cv.fit_transform(df_fix['tags']).toarray()"
   ]
  },
  {
   "cell_type": "code",
   "execution_count": 96,
   "metadata": {
    "id": "UDAMEzFKMO3D"
   },
   "outputs": [],
   "source": [
    "vectors = cv.fit_transform(df_fix['tags']).toarray()"
   ]
  },
  {
   "cell_type": "code",
   "execution_count": 97,
   "metadata": {
    "colab": {
     "base_uri": "https://localhost:8080/"
    },
    "id": "ZoImRyuXMRhF",
    "outputId": "f278ae92-651b-4bb6-da44-b6db03c3a0a4"
   },
   "outputs": [
    {
     "data": {
      "text/plain": [
       "array(['000', '10', '100', ..., 'zombi', 'zone', 'zoo'], dtype=object)"
      ]
     },
     "execution_count": 97,
     "metadata": {},
     "output_type": "execute_result"
    }
   ],
   "source": [
    "cv.get_feature_names_out()"
   ]
  },
  {
   "cell_type": "code",
   "execution_count": 98,
   "metadata": {
    "colab": {
     "base_uri": "https://localhost:8080/"
    },
    "id": "AILMnVqdMTdV",
    "outputId": "f230074f-76aa-46e1-f793-34b4267c6ff5"
   },
   "outputs": [
    {
     "data": {
      "text/plain": [
       "(5797, 6000)"
      ]
     },
     "execution_count": 98,
     "metadata": {},
     "output_type": "execute_result"
    }
   ],
   "source": [
    "vectors.shape"
   ]
  },
  {
   "cell_type": "code",
   "execution_count": 99,
   "metadata": {
    "colab": {
     "base_uri": "https://localhost:8080/"
    },
    "id": "V3RpJ6ZhMcJo",
    "outputId": "960bec5e-24ef-4899-d5f9-9773bfd1d3ff"
   },
   "outputs": [
    {
     "data": {
      "text/plain": [
       "array([[1.        , 0.88294738, 0.67963415, ..., 0.63794908, 0.54463445,\n",
       "        0.14408568],\n",
       "       [0.88294738, 1.        , 0.67788022, ..., 0.64848033, 0.56584381,\n",
       "        0.13786502],\n",
       "       [0.67963415, 0.67788022, 1.        , ..., 0.62045126, 0.51115655,\n",
       "        0.07878556],\n",
       "       ...,\n",
       "       [0.63794908, 0.64848033, 0.62045126, ..., 1.        , 0.63023985,\n",
       "        0.231197  ],\n",
       "       [0.54463445, 0.56584381, 0.51115655, ..., 0.63023985, 1.        ,\n",
       "        0.20731198],\n",
       "       [0.14408568, 0.13786502, 0.07878556, ..., 0.231197  , 0.20731198,\n",
       "        1.        ]])"
      ]
     },
     "execution_count": 99,
     "metadata": {},
     "output_type": "execute_result"
    }
   ],
   "source": [
    "from sklearn.metrics.pairwise import cosine_similarity\n",
    "cosine_similarity(vectors)"
   ]
  },
  {
   "cell_type": "code",
   "execution_count": 100,
   "metadata": {
    "id": "yQ6AkP9aSi7r"
   },
   "outputs": [],
   "source": [
    "similarity =  cosine_similarity(vectors)"
   ]
  },
  {
   "cell_type": "code",
   "execution_count": 101,
   "metadata": {
    "colab": {
     "base_uri": "https://localhost:8080/"
    },
    "id": "5U2mr5caSmpZ",
    "outputId": "5a5d99c8-a2bb-493b-8570-fefd74db5c15"
   },
   "outputs": [
    {
     "data": {
      "text/plain": [
       "array([[1.        , 0.88294738, 0.67963415, ..., 0.63794908, 0.54463445,\n",
       "        0.14408568],\n",
       "       [0.88294738, 1.        , 0.67788022, ..., 0.64848033, 0.56584381,\n",
       "        0.13786502],\n",
       "       [0.67963415, 0.67788022, 1.        , ..., 0.62045126, 0.51115655,\n",
       "        0.07878556],\n",
       "       ...,\n",
       "       [0.63794908, 0.64848033, 0.62045126, ..., 1.        , 0.63023985,\n",
       "        0.231197  ],\n",
       "       [0.54463445, 0.56584381, 0.51115655, ..., 0.63023985, 1.        ,\n",
       "        0.20731198],\n",
       "       [0.14408568, 0.13786502, 0.07878556, ..., 0.231197  , 0.20731198,\n",
       "        1.        ]])"
      ]
     },
     "execution_count": 101,
     "metadata": {},
     "output_type": "execute_result"
    }
   ],
   "source": [
    "similarity"
   ]
  },
  {
   "cell_type": "code",
   "execution_count": 102,
   "metadata": {
    "colab": {
     "base_uri": "https://localhost:8080/"
    },
    "id": "UZPuFA1ASq05",
    "outputId": "e9a3977e-26ba-495b-a6dc-1b80878f9712"
   },
   "outputs": [
    {
     "data": {
      "text/plain": [
       "(5797, 5797)"
      ]
     },
     "execution_count": 102,
     "metadata": {},
     "output_type": "execute_result"
    }
   ],
   "source": [
    "similarity.shape"
   ]
  },
  {
   "cell_type": "code",
   "execution_count": 103,
   "metadata": {
    "colab": {
     "base_uri": "https://localhost:8080/"
    },
    "id": "ABYQ9qVzSs5T",
    "outputId": "26621b8c-36d5-41c8-95d5-f09c76e66a3e"
   },
   "outputs": [
    {
     "data": {
      "text/plain": [
       "array([1.        , 0.88294738, 0.67963415, ..., 0.63794908, 0.54463445,\n",
       "       0.14408568])"
      ]
     },
     "execution_count": 103,
     "metadata": {},
     "output_type": "execute_result"
    }
   ],
   "source": [
    "similarity[0]"
   ]
  },
  {
   "cell_type": "code",
   "execution_count": 104,
   "metadata": {
    "colab": {
     "base_uri": "https://localhost:8080/"
    },
    "id": "ov1Mm3zCS59A",
    "outputId": "e1229dfe-7285-4e5d-826b-b11aef1247b8"
   },
   "outputs": [
    {
     "data": {
      "text/plain": [
       "array([0.88294738, 1.        , 0.67788022, ..., 0.64848033, 0.56584381,\n",
       "       0.13786502])"
      ]
     },
     "execution_count": 104,
     "metadata": {},
     "output_type": "execute_result"
    }
   ],
   "source": [
    "similarity[1]"
   ]
  },
  {
   "cell_type": "code",
   "execution_count": 108,
   "metadata": {
    "id": "vRqUTjGXS8k8"
   },
   "outputs": [],
   "source": [
    "def recommend(book):\n",
    "    index = np.where(df_fix['books_id'] == book)[0][0]\n",
    "    similar_books = sorted(enumerate(similarity[index]) , key=lambda x:x[1]   , reverse=True)[1:11]\n",
    "    \n",
    "    for i in similar_books:\n",
    "        print (df_fix['books_id'][i[0]])"
   ]
  },
  {
   "cell_type": "code",
   "execution_count": 109,
   "metadata": {
    "colab": {
     "base_uri": "https://localhost:8080/"
    },
    "id": "ep5csLvCTBFI",
    "outputId": "e329d688-1a29-4e65-fb1e-a29944af0dec"
   },
   "outputs": [
    {
     "name": "stdout",
     "output_type": "stream",
     "text": [
      "15622\n",
      "11942639\n",
      "17726978\n",
      "12959086\n",
      "6314763\n",
      "319644\n",
      "13450339\n",
      "99955\n",
      "102955\n",
      "17838528\n"
     ]
    }
   ],
   "source": [
    "recommend(5171)"
   ]
  },
  {
   "cell_type": "code",
   "execution_count": 110,
   "metadata": {
    "colab": {
     "base_uri": "https://localhost:8080/"
    },
    "id": "UfwMY2lxTWbg",
    "outputId": "6fe58d4d-9f30-4507-d59b-af8d0b2ef6d8"
   },
   "outputs": [
    {
     "name": "stdout",
     "output_type": "stream",
     "text": [
      "61539\n",
      "153193\n",
      "11574\n",
      "16256798\n",
      "8765461\n",
      "11607\n",
      "472331\n",
      "886066\n",
      "17061\n",
      "17910054\n"
     ]
    }
   ],
   "source": [
    "recommend(6670)"
   ]
  },
  {
   "cell_type": "code",
   "execution_count": 111,
   "metadata": {
    "colab": {
     "base_uri": "https://localhost:8080/"
    },
    "id": "iwRZBBpjkWtB",
    "outputId": "51d3ae98-cea7-43d1-ddd0-d3522d3a82ea"
   },
   "outputs": [
    {
     "name": "stdout",
     "output_type": "stream",
     "text": [
      "7402393\n",
      "61539\n",
      "16256798\n",
      "7747263\n",
      "19543\n",
      "886066\n",
      "11076177\n",
      "95643\n",
      "11574\n",
      "5212771\n"
     ]
    }
   ],
   "source": [
    "recommend(7926)"
   ]
  },
  {
   "cell_type": "code",
   "execution_count": 165,
   "metadata": {
    "id": "XNATpqPC9Hmr"
   },
   "outputs": [],
   "source": [
    "import pickle\n",
    "pickle.dump(df_fix, open('books.pkl' , 'wb'))"
   ]
  },
  {
   "cell_type": "code",
   "execution_count": 166,
   "metadata": {
    "id": "qeDSWXq9U18C"
   },
   "outputs": [],
   "source": [
    "pickle.dump(similarity , open('similarity.pkl' , 'wb'))"
   ]
  },
  {
   "cell_type": "code",
   "execution_count": null,
   "metadata": {
    "id": "uNGwjFErkwUT"
   },
   "outputs": [],
   "source": []
  }
 ],
 "metadata": {
  "colab": {
   "provenance": []
  },
  "kernelspec": {
   "display_name": "Python 3",
   "language": "python",
   "name": "python3"
  },
  "language_info": {
   "codemirror_mode": {
    "name": "ipython",
    "version": 3
   },
   "file_extension": ".py",
   "mimetype": "text/x-python",
   "name": "python",
   "nbconvert_exporter": "python",
   "pygments_lexer": "ipython3",
   "version": "3.8.8"
  }
 },
 "nbformat": 4,
 "nbformat_minor": 1
}
