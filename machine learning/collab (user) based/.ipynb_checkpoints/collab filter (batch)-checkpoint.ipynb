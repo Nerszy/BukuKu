{
 "cells": [
  {
   "cell_type": "markdown",
   "id": "f48f00a1",
   "metadata": {},
   "source": [
    "import library"
   ]
  },
  {
   "cell_type": "code",
   "execution_count": 1,
   "id": "bda8c5df",
   "metadata": {},
   "outputs": [],
   "source": [
    "import pandas as pd\n",
    "import numpy as np\n",
    "\n",
    "import tensorflow as tf\n",
    "from tensorflow import keras\n",
    "\n",
    "import h5py\n",
    "\n",
    "import random"
   ]
  },
  {
   "cell_type": "markdown",
   "id": "addee773",
   "metadata": {},
   "source": [
    "load data from h5\n",
    "- model.h5 link = https://drive.google.com/drive/folders/1VquNOLLXzaBVts21QKkU8TFLH2sq20Xm?usp=sharing"
   ]
  },
  {
   "cell_type": "code",
   "execution_count": 2,
   "id": "79493777",
   "metadata": {},
   "outputs": [],
   "source": [
    "with h5py.File('./'file path'/model.h5', 'r') as hdf:\n",
    "    R = np.array(hdf.get('R'))\n",
    "    W = np.array(hdf.get('W'))\n",
    "    X = np.array(hdf.get('X'))\n",
    "    index_book = np.array(hdf.get('index_book'))"
   ]
  },
  {
   "cell_type": "markdown",
   "id": "cd7f64a1",
   "metadata": {},
   "source": [
    "initialize variable"
   ]
  },
  {
   "cell_type": "code",
   "execution_count": 13,
   "id": "41e41f14",
   "metadata": {},
   "outputs": [],
   "source": [
    "rows = 2\n",
    "cols = R.shape[0] # 6k row\n",
    "size = rows*cols\n",
    "amount = 5000\n",
    "\n",
    "R_user = np.zeros([rows, cols])\n",
    "R_target = np.zeros([rows, cols])\n",
    "rate_index = np.zeros([cols, rows]) \n",
    "    #row 0 = goodread index (float, hrs jadi int)\n",
    "    #row 1 = feature vector-calculated rating\n",
    "similarity_batch = np.zeros(amount)\n",
    "    \n",
    "for i in range(cols):\n",
    "    R_user[0][i], R_target[0][i] = i, i #index x-axis\n",
    "    \n",
    "    rate_index[i][0] = index_book[i][0]\n",
    "\n",
    "# initialize cosine similarity function\n",
    "cosine_loss = tf.keras.losses.CosineSimilarity(axis=1)\n",
    "\n",
    "# initialize dictionary books_id & index matrix\n",
    "dict_buku = {}\n",
    "for key in index_book:\n",
    "    dict_buku[key[0]] = key[2]\n",
    "\n",
    "x = np.array(range(0,R.shape[1]+1))\n",
    "x = x.tolist()\n",
    "idx_batch = random.sample(x, amount)"
   ]
  },
  {
   "cell_type": "markdown",
   "id": "1dff75c9",
   "metadata": {},
   "source": [
    "functions"
   ]
  },
  {
   "cell_type": "code",
   "execution_count": 14,
   "id": "cec69b5b",
   "metadata": {},
   "outputs": [],
   "source": [
    "def random_batch():\n",
    "    x = np.array(range(0,R.shape[1]+1))\n",
    "    x = x.tolist()\n",
    "    idx_batch = random.sample(x, amount)"
   ]
  },
  {
   "cell_type": "code",
   "execution_count": 15,
   "id": "d57eec6b",
   "metadata": {},
   "outputs": [],
   "source": [
    "# user_books = array\n",
    "\n",
    "def predict_batch (user_books):\n",
    "    \n",
    "    global R_user, R_target, rate_index, similarity, idx_batch\n",
    "    \n",
    "    random_batch()\n",
    "    \n",
    "    # convert user_books to user sparse array\n",
    "    for item in user_books:\n",
    "        index = dict_buku[item]\n",
    "        R_user[1][index] = 1 # 1 for marked books index\n",
    "    \n",
    "    # compare and calculate cosine similarity between user rating\n",
    "    #     and all other user, then pick the least value (very \n",
    "    #     similar) with the user rating\n",
    "    #          - -1 = mirip bgt\n",
    "    #          - +1 = beda bgt\n",
    "    for i in range(len(idx_batch)): #loop through all batched user vector\n",
    "        idx = idx_batch[i]\n",
    "        R_target[1] = R[:, idx]\n",
    "        similarity_batch[i] = cosine_loss(R_target, R_user).numpy()    \n",
    "    \n",
    "    #index of the most similar vector\n",
    "    idx_user = similarity_batch.argmin()\n",
    "    idx_user = idx_batch[idx_user]\n",
    "    \n",
    "    # calculate feature vector of the very similar user with all the books.\n",
    "    for i in range(R.shape[0]): # loop all books\n",
    "        rate_index[i][1] = np.dot(W[idx_user], X[i])\n",
    "    \n",
    "    # sort the calculated rating array descendingly based on the second column (rating)\n",
    "    index_kolom = 1 #second column\n",
    "    rate_index = sorted(rate_index, key=lambda a_entry: a_entry[index_kolom], reverse=True) \n",
    "    rate_index = np.array(rate_index)\n",
    "    \n",
    "    # cast float to int, 1st column only\n",
    "    sorted_rec = rate_index.astype(int)\n",
    "    \n",
    "    #reset R_user[1,:] to zeros\n",
    "    R_user[1] = [0]*cols\n",
    "    \n",
    "    # reset index\n",
    "    for i in range(cols):\n",
    "        rate_index[i][0] = index_book[i][0]\n",
    "\n",
    "    return sorted_rec[:,0]"
   ]
  },
  {
   "cell_type": "markdown",
   "id": "9031a296",
   "metadata": {},
   "source": [
    "execute"
   ]
  },
  {
   "cell_type": "code",
   "execution_count": 16,
   "id": "e19a5805",
   "metadata": {},
   "outputs": [
    {
     "data": {
      "text/plain": [
       "array([22504701, 24019187, 18687079, ..., 13151637, 13151283, 18363068])"
      ]
     },
     "execution_count": 16,
     "metadata": {},
     "output_type": "execute_result"
    }
   ],
   "source": [
    "arr = [2983562, 11870085,219919, 3049, 5107]\n",
    "result = predict_batch(arr)\n",
    "result #recommended books id"
   ]
  },
  {
   "cell_type": "code",
   "execution_count": null,
   "id": "8e05d4bc",
   "metadata": {},
   "outputs": [],
   "source": [
    "books_id = request.json['book']\n",
    "print(books_id)"
   ]
  },
  {
   "cell_type": "markdown",
   "id": "f6150808",
   "metadata": {},
   "source": [
    "## merging 2 array & remove duplicates"
   ]
  },
  {
   "cell_type": "code",
   "execution_count": 2,
   "id": "7348d31b",
   "metadata": {},
   "outputs": [
    {
     "name": "stdout",
     "output_type": "stream",
     "text": [
      "List after removing duplicate elements:  [1, 'a', 2, 'b', 3, 'c', 4, 5]\n"
     ]
    }
   ],
   "source": [
    "def merge_alternatively(lst1, lst2):\n",
    "    if not lst1:\n",
    "        return lst2\n",
    "    if not lst2:\n",
    "        return lst1\n",
    "    return [lst1[0], lst2[0]] + merge_alternatively(lst1[1:], lst2[1:])\n",
    "\n",
    "lst1 = [1, 2, 3, 4, 5] #array \"collab\"\n",
    "lst2 = ['a', 'b', 'c', 4, 5] #array \"content\"\n",
    "\n",
    "merged = merge_alternatively(lst1, lst2)\n",
    "\n",
    "# merge duplicate while maintaining order\n",
    "res = [i for n, i in enumerate(merged) if i not in merged[:n]]\n",
    "print(\"List after removing duplicate elements: \", res)\n",
    "\n"
   ]
  }
 ],
 "metadata": {
  "kernelspec": {
   "display_name": "Python 3",
   "language": "python",
   "name": "python3"
  },
  "language_info": {
   "codemirror_mode": {
    "name": "ipython",
    "version": 3
   },
   "file_extension": ".py",
   "mimetype": "text/x-python",
   "name": "python",
   "nbconvert_exporter": "python",
   "pygments_lexer": "ipython3",
   "version": "3.8.8"
  }
 },
 "nbformat": 4,
 "nbformat_minor": 5
}
