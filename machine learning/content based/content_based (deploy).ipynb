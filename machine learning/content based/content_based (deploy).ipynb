{
 "cells": [
  {
   "cell_type": "markdown",
   "id": "fca64c73",
   "metadata": {},
   "source": [
    "library"
   ]
  },
  {
   "cell_type": "code",
   "execution_count": 1,
   "id": "b5248c27",
   "metadata": {},
   "outputs": [],
   "source": [
    "import numpy as np\n",
    "import pickle"
   ]
  },
  {
   "cell_type": "markdown",
   "id": "0093d7de",
   "metadata": {},
   "source": [
    "load pickle 🥒"
   ]
  },
  {
   "cell_type": "code",
   "execution_count": 2,
   "id": "abd50623",
   "metadata": {},
   "outputs": [
    {
     "name": "stdout",
     "output_type": "stream",
     "text": [
      "      books_id                                               tags\n",
      "0            1  harri potter half blood princ j k rowl book an...\n",
      "1            2  harri potter order phoenix j k rowl book analy...\n",
      "2            3  harri potter sorcer s stone select theme motio...\n",
      "3            5  harri potter prison azkaban novel studi gr 4 8...\n",
      "4            6  harri potter goblet fire j k rowl book analysi...\n",
      "...        ...                                                ...\n",
      "6197  30008702  16 person type nutshel b meet self suffici bri...\n",
      "6198  30253864  talk fast can gilmor girl gilmor girl and ever...\n",
      "6200  30555488  underground railroad winner pulitz prize ficti...\n",
      "6203  31845516  love warrior memoir b 1 i new york time i best...\n",
      "6204  32075671  hate u give printz honor winner8 star review g...\n",
      "\n",
      "[5797 rows x 2 columns] [[1.         0.89193547 0.29354838 ... 0.816129   0.43709677 0.08387097]\n",
      " [0.8366111  0.9999999  0.28744325 ... 0.8108925  0.4447806  0.07866868]\n",
      " [1.2999998  1.3571427  0.9999999  ... 1.5857141  0.8285713  0.08571427]\n",
      " ...\n",
      " [0.4223706  0.44741234 0.18530884 ... 1.         0.3806344  0.09599333]\n",
      " [0.5634095  0.61122656 0.24116422 ... 0.94802487 0.99999994 0.13305612]\n",
      " [0.23636365 0.23636365 0.05454546 ... 0.5227273  0.2909091  1.0000001 ]]\n"
     ]
    }
   ],
   "source": [
    "with open('./model.pkl', 'rb') as f:\n",
    "    df_fix = pickle.load(f)\n",
    "    similarity = pickle.load(f)\n",
    "    \n",
    "print(df_fix, similarity)"
   ]
  },
  {
   "cell_type": "markdown",
   "id": "8ac55c62",
   "metadata": {},
   "source": [
    "function"
   ]
  },
  {
   "cell_type": "code",
   "execution_count": 5,
   "id": "ff1ab6f7",
   "metadata": {},
   "outputs": [],
   "source": [
    "df_fix = df_fix[['books_id', 'tags']]\n",
    "\n",
    "def recommend(books):\n",
    "    similarity_combined = np.zeros(len(df_fix))  # Inisialisasi similarity_combined dengan array nol\n",
    "\n",
    "    for book in books:\n",
    "        index = np.where(df_fix['books_id'] == book)[0]\n",
    "        if len(index) > 0:\n",
    "            index = index[0]\n",
    "            similarity_combined += similarity[index]  # Menambahkan similarity dari setiap buku\n",
    "\n",
    "    similar_books = sorted(enumerate(similarity_combined), key=lambda x: x[1], reverse=True)[1:11]\n",
    "    \n",
    "    qty = len(similar_books)\n",
    "    output = [0] * qty\n",
    "    \n",
    "    for i in range(qty):\n",
    "        output[i] = df_fix['books_id'][similar_books[i][0]]\n",
    "\n",
    "    return output"
   ]
  },
  {
   "cell_type": "markdown",
   "id": "6c03160f",
   "metadata": {},
   "source": [
    "execute"
   ]
  },
  {
   "cell_type": "code",
   "execution_count": 6,
   "id": "f037ca66",
   "metadata": {},
   "outputs": [
    {
     "data": {
      "text/plain": [
       "[11574, 7257982, 49465, 49251, 8765461, 61329, 11275, 119, 1914973, 7039218]"
      ]
     },
     "execution_count": 6,
     "metadata": {},
     "output_type": "execute_result"
    }
   ],
   "source": [
    "arr = [1, 6670, 7926]\n",
    "\n",
    "hasil = recommend(arr)\n",
    "hasil"
   ]
  },
  {
   "cell_type": "code",
   "execution_count": 7,
   "id": "93493d25",
   "metadata": {},
   "outputs": [],
   "source": []
  },
  {
   "cell_type": "code",
   "execution_count": null,
   "id": "4f87b48e",
   "metadata": {},
   "outputs": [],
   "source": []
  }
 ],
 "metadata": {
  "kernelspec": {
   "display_name": "Python 3 (ipykernel)",
   "language": "python",
   "name": "python3"
  },
  "language_info": {
   "codemirror_mode": {
    "name": "ipython",
    "version": 3
   },
   "file_extension": ".py",
   "mimetype": "text/x-python",
   "name": "python",
   "nbconvert_exporter": "python",
   "pygments_lexer": "ipython3",
   "version": "3.9.13"
  }
 },
 "nbformat": 4,
 "nbformat_minor": 5
}
