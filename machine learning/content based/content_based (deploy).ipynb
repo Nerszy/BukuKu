{
 "cells": [
  {
   "cell_type": "markdown",
   "id": "fca64c73",
   "metadata": {},
   "source": [
    "library"
   ]
  },
  {
   "cell_type": "code",
   "execution_count": null,
   "id": "b5248c27",
   "metadata": {},
   "outputs": [],
   "source": [
    "import numpy as np\n",
    "import pickle"
   ]
  },
  {
   "cell_type": "markdown",
   "id": "0093d7de",
   "metadata": {},
   "source": [
    "load pickle 🥒"
   ]
  },
  {
   "cell_type": "code",
   "execution_count": null,
   "id": "abd50623",
   "metadata": {},
   "outputs": [],
   "source": [
    "with open('./model_content.pkl', 'rb') as f:\n",
    "    df_fix = pickle.load(f)\n",
    "    similarity = pickle.load(f)\n",
    "    \n",
    "print(df_fix, similarity)"
   ]
  },
  {
   "cell_type": "markdown",
   "id": "8ac55c62",
   "metadata": {},
   "source": [
    "function"
   ]
  },
  {
   "cell_type": "code",
   "execution_count": null,
   "id": "ff1ab6f7",
   "metadata": {},
   "outputs": [],
   "source": [
    "df_fix = df_fix[['books_id', 'tags']]\n",
    "\n",
    "def recommend(book1, book2, book3):\n",
    "    books = [book1, book2, book3]\n",
    "    similarity_combined = np.zeros(len(df_fix))  # Inisialisasi similarity_combined dengan array nol\n",
    "\n",
    "    for book in books:\n",
    "        index = np.where(df_fix['books_id'] == book)[0]\n",
    "        if len(index) > 0:\n",
    "            index = index[0]\n",
    "            similarity_combined += similarity[index]  # Menambahkan similarity dari setiap buku\n",
    "\n",
    "    similar_books = sorted(enumerate(similarity_combined), key=lambda x: x[1], reverse=True)[1:11]\n",
    "    \n",
    "    qty = len(similar_books)\n",
    "    output = [0]*qty\n",
    "    \n",
    "    for i in range(qty):\n",
    "        output[i] = df_fix['books_id'][book[0]]\n",
    "\n",
    "    return output"
   ]
  },
  {
   "cell_type": "markdown",
   "id": "6c03160f",
   "metadata": {},
   "source": [
    "execute"
   ]
  },
  {
   "cell_type": "code",
   "execution_count": null,
   "id": "f037ca66",
   "metadata": {},
   "outputs": [],
   "source": [
    "var1 = 1\n",
    "var2 = 6670\n",
    "var3 = 7926\n",
    "\n",
    "hasil = recommend(var1, var2, var3)\n",
    "hasil"
   ]
  }
 ],
 "metadata": {
  "kernelspec": {
   "display_name": "Python 3",
   "language": "python",
   "name": "python3"
  },
  "language_info": {
   "codemirror_mode": {
    "name": "ipython",
    "version": 3
   },
   "file_extension": ".py",
   "mimetype": "text/x-python",
   "name": "python",
   "nbconvert_exporter": "python",
   "pygments_lexer": "ipython3",
   "version": "3.8.8"
  }
 },
 "nbformat": 4,
 "nbformat_minor": 5
}
