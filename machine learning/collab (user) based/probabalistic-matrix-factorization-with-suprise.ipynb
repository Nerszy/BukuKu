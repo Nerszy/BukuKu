{
 "cells": [
  {
   "cell_type": "code",
   "execution_count": null,
   "metadata": {
    "_cell_guid": "b1076dfc-b9ad-4769-8c92-a6c4dae69d19",
    "_uuid": "8f2839f25d086af736a60e9eeb907d3b93b6e0e5"
   },
   "outputs": [],
   "source": [
    "import numpy as np # linear algebra\n",
    "import pandas as pd # data processing, CSV file I/O (e.g. pd.read_csv)\n",
    "\n",
    "# Input data files are available in the \"../input/\" directory.\n",
    "# For example, running this (by clicking run or pressing Shift+Enter) will list the files in the input directory\n",
    "import os\n",
    "# print(os.listdir(\"../input\"))\n",
    "\n",
    "import surprise  #Scikit-Learn library for recommender systems. \n"
   ]
  },
  {
   "cell_type": "markdown",
   "metadata": {
    "_cell_guid": "79c7e3d0-c299-4dcb-8224-4455121ee9b0",
    "_uuid": "d629ff2d2480ee46fbb7e2d37f6b5fab8052498a",
    "collapsed": true
   },
   "source": [
    "Creating an Explicit Latent Matrix Factorization Recommender System for Books10k Dataset.\n",
    "We're basing this off of this paper: https://papers.nips.cc/paper/3208-probabilistic-matrix-factorization.pdf "
   ]
  },
  {
   "cell_type": "markdown",
   "metadata": {},
   "source": [
    "With Surprise, Data Wrangling is almost automated. We'll load the dataset into Pandas, then leverage the surprise package "
   ]
  },
  {
   "cell_type": "markdown",
   "metadata": {},
   "source": [
    "Probabilistic Matrix Factorization is a prediction method where you estimate the best factorization for the Ratings Matrix. Taking an example, lets say there's a rating matrix of 100k users and 10k items. We'll try to factor this dataset into its latent factors. Think of PCA or Singular Value Decompisition. That would be great to perform, but we have a huge issue. Our dataset is FILLED with NANs. This means that SVD and PCA is undefined, and so instead, we'll have to factor this differently. Primarily, we'll initialize two random matrices, one which estimates the altent factors for the user, and one which estimates the latent factors for the items. \n",
    "\n",
    "In our example, we initialize a 100k by 40 matrix, to get 40 latent factors out of the 100k users we have, and a 40 by 10k matrix, which estimates the latent factors of our matrix. "
   ]
  },
  {
   "cell_type": "code",
   "execution_count": null,
   "metadata": {},
   "outputs": [],
   "source": [
    "raw=pd.read_csv('./temp_data/rating.csv')\n",
    "# raw.drop_duplicates(inplace=True)\n",
    "print('we have',raw.shape[0], 'ratings')\n",
    "print('the number of unique users we have is:', len(raw.user_id.unique()))\n",
    "print('the number of unique books we have is:', len(raw.book_id.unique()))\n",
    "print(\"The median user rated %d books.\"%raw.user_id.value_counts().median())\n",
    "print('The max rating is: %d'%raw.rating.max(),\"the min rating is: %d\"%raw.rating.min())\n",
    "raw.head()"
   ]
  },
  {
   "cell_type": "markdown",
   "metadata": {},
   "source": [
    "Loading dataset into Surprise:\n",
    "For a dataset to be loaded into surprise from a pandas dataframe, you have to specify a reader object and ensure that the columns the dataset are in the order: user,item, rating. "
   ]
  },
  {
   "cell_type": "code",
   "execution_count": null,
   "metadata": {},
   "outputs": [],
   "source": [
    "#swapping columns\n",
    "raw=raw[['user_id','book_id','rating']] \n",
    "# when importing from a DF, you only need to specify the scale of the ratings.\n",
    "reader = surprise.Reader(rating_scale=(1,5)) \n",
    "#into surprise:\n",
    "data = surprise.Dataset.load_from_df(raw,reader)"
   ]
  },
  {
   "cell_type": "markdown",
   "metadata": {},
   "source": [
    "Surprise lets you implement your own algorithm while still being able to use its very powerful tools for measuring error and choosing hyperparameters. \n",
    "To do so, we have to make a class inheriting from the AlgoBase class. We'll define it along with a fit and estimate method.\n",
    "The fit method uses Stochastic Gradient Descent to be able to estimate the best probabilistic matrix factors."
   ]
  },
  {
   "cell_type": "code",
   "execution_count": null,
   "metadata": {},
   "outputs": [],
   "source": [
    "class ProbabilisticMatrixFactorization(surprise.AlgoBase):\n",
    "# Randomly initializes two Matrices, Stochastic Gradient Descent to be able to optimize the best factorization for ratings.\n",
    "    def __init__(self,learning_rate,num_epochs,num_factors):\n",
    "       # super(surprise.AlgoBase)\n",
    "        self.alpha = learning_rate #learning rate for Stochastic Gradient Descent\n",
    "        self.num_epochs = num_epochs\n",
    "        self.num_factors = num_factors\n",
    "    def fit(self,train):\n",
    "        #randomly initialize user/item factors from a Gaussian\n",
    "        P = np.random.normal(0,.1,(train.n_users,self.num_factors))\n",
    "        Q = np.random.normal(0,.1,(train.n_items,self.num_factors))\n",
    "        #print('fit')\n",
    "\n",
    "        for epoch in range(self.num_epochs):\n",
    "            for u,i,r_ui in train.all_ratings():\n",
    "                residual = r_ui - np.dot(P[u],Q[i])\n",
    "                temp = P[u,:] # we want to update them at the same time, so we make a temporary variable. \n",
    "                P[u,:] +=  self.alpha * residual * Q[i]\n",
    "                Q[i,:] +=  self.alpha * residual * temp \n",
    "\n",
    "                \n",
    "        self.P = P\n",
    "        self.Q = Q\n",
    "\n",
    "        self.trainset = train\n",
    "    \n",
    "    \n",
    "    def estimate(self,u,i):\n",
    "        #returns estimated rating for user u and item i. Prerequisite: Algorithm must be fit to training set.\n",
    "        #check to see if u and i are in the train set:\n",
    "        #print('gahh')\n",
    "\n",
    "        if self.trainset.knows_user(u) and self.trainset.knows_item(i):\n",
    "            print(u,i, '\\n','yep:', self.P[u],self.Q[i])\n",
    "            #return scalar product of P[u] and Q[i]\n",
    "            nanCheck = np.dot(self.P[u],self.Q[i])\n",
    "            \n",
    "            if np.isnan(nanCheck): #kalo hasil dot product-nya Nan\n",
    "                print(nanCheck)\n",
    "                return self.trainset.global_mean\n",
    "            else:\n",
    "                print(\"tidak\")\n",
    "                return np.dot(self.P[u,:],self.Q[i,:])\n",
    "        else:# if its not known we'll return the general average. \n",
    "            print('global mean')\n",
    "            return self.trainset.global_mean"
   ]
  },
  {
   "cell_type": "markdown",
   "metadata": {},
   "source": [
    "Now, lets train the data on the whole dataset, just to gauge the effectiveness of the model we just made."
   ]
  },
  {
   "cell_type": "code",
   "execution_count": null,
   "metadata": {},
   "outputs": [],
   "source": [
    "Alg1 = ProbabilisticMatrixFactorization(learning_rate=0.05,num_epochs=4,num_factors=10)\n",
    "data1 = data.build_full_trainset()\n",
    "Alg1.fit(data1)\n",
    "print(raw.user_id.iloc[4],raw.book_id.iloc[4])\n",
    "Alg1.estimate(raw.user_id.iloc[0],raw.book_id.iloc[4])"
   ]
  },
  {
   "cell_type": "code",
   "execution_count": null,
   "metadata": {},
   "outputs": [],
   "source": [
    "# print(raw.user_id[0], raw.book_id[0])\n",
    "# Alg1.estimate(raw.user_id.iloc[0],raw.book_id.iloc[400])\n"
   ]
  },
  {
   "cell_type": "markdown",
   "metadata": {},
   "source": [
    "Another cool thing about Suprise is it allows you to use their built in GridSearch, which is inspired by sk-learn's GridSearchCV. Its a handy tool that allows us to put in a whole range of hyper-parameters, and picks the best one. \n",
    "\n",
    "Lets use it!"
   ]
  },
  {
   "cell_type": "code",
   "execution_count": null,
   "metadata": {},
   "outputs": [],
   "source": [
    "gs = surprise.model_selection.GridSearchCV(ProbabilisticMatrixFactorization, param_grid={'learning_rate':[0.005,0.01],\n",
    "                                                                            'num_epochs':[5,10],\n",
    "                                                                            'num_factors':[10,20]},measures=['rmse', 'mae'], cv=2)\n",
    "gs.fit(data)"
   ]
  },
  {
   "cell_type": "code",
   "execution_count": null,
   "metadata": {},
   "outputs": [],
   "source": [
    "print('rsme: ',gs.best_score['rmse'],'mae: ',gs.best_score['mae'])\n",
    "best_params = gs.best_params['rmse']\n",
    "print('rsme: ',gs.best_params['rmse'],'mae: ',gs.best_params['mae'])"
   ]
  },
  {
   "cell_type": "code",
   "execution_count": null,
   "metadata": {},
   "outputs": [],
   "source": [
    "bestVersion = ProbabilisticMatrixFactorization(learning_rate=best_params['learning_rate'],num_epochs=best_params['num_epochs'],num_factors=best_params['num_factors'])"
   ]
  },
  {
   "cell_type": "code",
   "execution_count": null,
   "metadata": {},
   "outputs": [],
   "source": [
    "#we can use k-fold cross validation to evaluate the best model. \n",
    "# let the model train\n",
    "kSplit = surprise.model_selection.KFold(n_splits=10,shuffle=True)\n",
    "for train,test in kSplit.split(data):\n",
    "    bestVersion.fit(train)\n",
    "    prediction = bestVersion.test(test)\n",
    "    surprise.accuracy.rmse(prediction,verbose=True)"
   ]
  },
  {
   "cell_type": "markdown",
   "metadata": {},
   "source": [
    "Which performed even better than in Grid Search Above, with even 0.2 less Root Means Squared error. Probabalistic Matrix Factorization is powerful tool to use, and Surprise allows us to alleviate some of the pain of data wrangling. "
   ]
  },
  {
   "cell_type": "code",
   "execution_count": null,
   "metadata": {},
   "outputs": [],
   "source": [
    "# hasil = np.zeros([136])\n",
    "for i in range(136):\n",
    "    for j in range(9108):\n",
    "#     hasil[i] = \n",
    "        hasil = np.dot(bestVersion.P[j], bestVersion.Q[i])\n",
    "        if(hasil >= 5.0):\n",
    "            print(i, j, hasil)"
   ]
  },
  {
   "cell_type": "code",
   "execution_count": null,
   "metadata": {},
   "outputs": [],
   "source": [
    "print(bestVersion.P.shape, bestVersion.Q.shape)"
   ]
  },
  {
   "cell_type": "code",
   "execution_count": null,
   "metadata": {},
   "outputs": [],
   "source": [
    "bestVersion.fit(data1)"
   ]
  },
  {
   "cell_type": "code",
   "execution_count": null,
   "metadata": {},
   "outputs": [],
   "source": [
    "hasil = np.dot(bestVersion.P[8], bestVersion.Q[4])\n",
    "print(hasil)"
   ]
  },
  {
   "cell_type": "code",
   "execution_count": null,
   "metadata": {},
   "outputs": [],
   "source": [
    "type(bestVersion.P)"
   ]
  },
  {
   "cell_type": "code",
   "execution_count": null,
   "metadata": {},
   "outputs": [],
   "source": [
    "import csv\n",
    "\n",
    "# W (weight) = user rate feature vector\n",
    "with open('./data_result/W.csv', 'w', encoding=\"utf-8\") as f:\n",
    "\n",
    "    # using csv.writer method from CSV package\n",
    "    write = csv.writer(f)\n",
    "    write.writerows(bestVersion.P)\n",
    "\n",
    "# X = movie rate feature vector\n",
    "with open('./data_result/X.csv', 'w', encoding=\"utf-8\") as f:\n",
    "\n",
    "    # using csv.writer method from CSV package\n",
    "    write = csv.writer(f)\n",
    "    write.writerows(bestVersion.Q)"
   ]
  }
 ],
 "metadata": {
  "kernelspec": {
   "display_name": "Python 3",
   "language": "python",
   "name": "python3"
  },
  "language_info": {
   "codemirror_mode": {
    "name": "ipython",
    "version": 3
   },
   "file_extension": ".py",
   "mimetype": "text/x-python",
   "name": "python",
   "nbconvert_exporter": "python",
   "pygments_lexer": "ipython3",
   "version": "3.8.8"
  }
 },
 "nbformat": 4,
 "nbformat_minor": 1
}
