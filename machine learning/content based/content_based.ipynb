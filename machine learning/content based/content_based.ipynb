{
  "nbformat": 4,
  "nbformat_minor": 0,
  "metadata": {
    "colab": {
      "provenance": []
    },
    "kernelspec": {
      "name": "python3",
      "display_name": "Python 3"
    },
    "language_info": {
      "name": "python"
    }
  },
  "cells": [
    {
      "cell_type": "markdown",
      "source": [
        "URL file model pickle : https://drive.google.com/file/d/14DimK9_p5FE_X-4ujvB-xHgchmX0P9ag/view?usp=sharing"
      ],
      "metadata": {
        "id": "OxYLOoaYLTNP"
      }
    },
    {
      "cell_type": "markdown",
      "source": [
        "## **Preprocesing**"
      ],
      "metadata": {
        "id": "ZiPIQHVa1JYV"
      }
    },
    {
      "cell_type": "code",
      "execution_count": 115,
      "metadata": {
        "id": "mSHxKMpk4p3t"
      },
      "outputs": [],
      "source": [
        "import pandas as pd\n",
        "import numpy as np\n",
        "import re\n",
        "import nltk\n",
        "from nltk.corpus import stopwords\n",
        "from nltk.tokenize import RegexpTokenizer\n",
        "import nltk\n",
        "from nltk.stem import PorterStemmer\n",
        "import tensorflow as tf\n",
        "from sklearn.feature_extraction.text import CountVectorizer\n",
        "from sklearn.preprocessing import LabelEncoder\n",
        "from sklearn.preprocessing import StandardScaler\n",
        "import pickle\n",
        "#import h5py"
      ]
    },
    {
      "cell_type": "code",
      "source": [
        "df = pd.read_csv('(main) book_data.csv')"
      ],
      "metadata": {
        "id": "MjU2rQFy46bs"
      },
      "execution_count": 116,
      "outputs": []
    },
    {
      "cell_type": "markdown",
      "source": [
        "**Cleaning Data**"
      ],
      "metadata": {
        "id": "9kEBCnj61Tke"
      }
    },
    {
      "cell_type": "code",
      "source": [
        "df.isnull().sum()"
      ],
      "metadata": {
        "colab": {
          "base_uri": "https://localhost:8080/"
        },
        "id": "Rmhgb2p35nEw",
        "outputId": "1ce515a8-2ac1-4eb9-98f3-a40f0c06e100"
      },
      "execution_count": 117,
      "outputs": [
        {
          "output_type": "execute_result",
          "data": {
            "text/plain": [
              "books_id          0\n",
              "title             0\n",
              "url_playbook      0\n",
              "url_image         0\n",
              "synopsis         75\n",
              "idr               0\n",
              "isbn              0\n",
              "author          339\n",
              "avg_rating        0\n",
              "tags1             0\n",
              "tags2             0\n",
              "tags3             0\n",
              "dtype: int64"
            ]
          },
          "metadata": {},
          "execution_count": 117
        }
      ]
    },
    {
      "cell_type": "code",
      "source": [
        "df= df.dropna()"
      ],
      "metadata": {
        "id": "Kd81R3Iz6oVP"
      },
      "execution_count": 118,
      "outputs": []
    },
    {
      "cell_type": "code",
      "source": [
        "df.isnull().sum()"
      ],
      "metadata": {
        "id": "vcwxIyJT6xo1",
        "colab": {
          "base_uri": "https://localhost:8080/"
        },
        "outputId": "8c5fe3b3-f1c8-47fb-b7dc-ea98cabdfe2f"
      },
      "execution_count": 119,
      "outputs": [
        {
          "output_type": "execute_result",
          "data": {
            "text/plain": [
              "books_id        0\n",
              "title           0\n",
              "url_playbook    0\n",
              "url_image       0\n",
              "synopsis        0\n",
              "idr             0\n",
              "isbn            0\n",
              "author          0\n",
              "avg_rating      0\n",
              "tags1           0\n",
              "tags2           0\n",
              "tags3           0\n",
              "dtype: int64"
            ]
          },
          "metadata": {},
          "execution_count": 119
        }
      ]
    },
    {
      "cell_type": "code",
      "source": [
        "df.duplicated().sum()"
      ],
      "metadata": {
        "colab": {
          "base_uri": "https://localhost:8080/"
        },
        "id": "k6-VSC4s69ES",
        "outputId": "07427e84-3dfb-4bf5-d04a-c9ea9371456d"
      },
      "execution_count": 120,
      "outputs": [
        {
          "output_type": "execute_result",
          "data": {
            "text/plain": [
              "0"
            ]
          },
          "metadata": {},
          "execution_count": 120
        }
      ]
    },
    {
      "cell_type": "markdown",
      "source": [
        "**Penggabungan Columns Genre dan Tags**"
      ],
      "metadata": {
        "id": "pQ21CUnV1sJ2"
      }
    },
    {
      "cell_type": "code",
      "source": [
        "df[\"genre\"] = df[\"tags1\"].astype(str) + \", \" + df[\"tags2\"].astype(str) + \", \" + df[\"tags3\"].astype(str)"
      ],
      "metadata": {
        "id": "Pw6x979N-7xe"
      },
      "execution_count": 121,
      "outputs": []
    },
    {
      "cell_type": "code",
      "source": [
        "df['tag'] = df['title'] + df['synopsis'] + df['author'] + df['genre']"
      ],
      "metadata": {
        "id": "GSEYtgf6Gsvx"
      },
      "execution_count": 122,
      "outputs": []
    },
    {
      "cell_type": "markdown",
      "source": [
        "**Mengubah Column Tags menjadi Kata Dasar**"
      ],
      "metadata": {
        "id": "JCJZFuUY13rz"
      }
    },
    {
      "cell_type": "code",
      "source": [
        "# Function for removing NonAscii characters\n",
        "def _removeNonAscii(s):\n",
        "    return \"\".join(i for i in s if  ord(i)<128)\n",
        "# Function for converting into lower case\n",
        "def make_lower_case(text):\n",
        "    return text.lower()\n",
        "# Function for removing stop words\n",
        "def remove_stop_words(text):\n",
        "    text = text.split()\n",
        "    stops = set(stopwords.words(\"english\"))\n",
        "    text = [w for w in text if not w in stops]\n",
        "    text = \" \".join(text)\n",
        "    return text\n",
        "# Function for removing punctuation\n",
        "def remove_punctuation(text):\n",
        "    tokenizer = RegexpTokenizer(r'\\w+')\n",
        "    text = tokenizer.tokenize(text)\n",
        "    text = \" \".join(text)\n",
        "    return text\n",
        "#Function for removing the html tags\n",
        "def remove_html(text):\n",
        "    html_pattern = re.compile('<.*?>')\n",
        "    return html_pattern.sub(r'', text)\n",
        "# Applying all the functions in description and storing as a cleaned_desc\n",
        "df['tags'] = df['tag'].apply(_removeNonAscii)\n",
        "df['tags'] = df.tags.apply(func = make_lower_case)\n",
        "df['tags'] = df.tags.apply(func = remove_stop_words)\n",
        "df['tags'] = df.tags.apply(func=remove_punctuation)\n",
        "df['tags'] = df.tags.apply(func=remove_html)\n"
      ],
      "metadata": {
        "id": "16TU1vlsA3fn"
      },
      "execution_count": 123,
      "outputs": []
    },
    {
      "cell_type": "markdown",
      "source": [
        "**Stemming**\n",
        "\n",
        "Mengubah data menjadi Kata Dasar"
      ],
      "metadata": {
        "id": "SJRoGhEs3xqJ"
      }
    },
    {
      "cell_type": "code",
      "source": [
        "ps = PorterStemmer()"
      ],
      "metadata": {
        "id": "E7OTCYbPBxDk"
      },
      "execution_count": 124,
      "outputs": []
    },
    {
      "cell_type": "code",
      "source": [
        "def stem(text):\n",
        "    y = []\n",
        "\n",
        "    for i in text.split():\n",
        "        y.append(ps.stem(i))\n",
        "    return ' '.join(y)"
      ],
      "metadata": {
        "id": "C_E3hZOtHUAL"
      },
      "execution_count": 125,
      "outputs": []
    },
    {
      "cell_type": "code",
      "source": [
        "df['tags'].apply(stem)"
      ],
      "metadata": {
        "id": "K3waizmVMCoE",
        "colab": {
          "base_uri": "https://localhost:8080/"
        },
        "outputId": "e6b62990-7ad1-4dcd-94a8-b95e8fb483b3"
      },
      "execution_count": 126,
      "outputs": [
        {
          "output_type": "execute_result",
          "data": {
            "text/plain": [
              "0       harri potter half blood princ j k rowl book an...\n",
              "1       harri potter order phoenix j k rowl book analy...\n",
              "2       harri potter sorcer s stone select theme motio...\n",
              "3       harri potter prison azkaban novel studi gr 4 8...\n",
              "4       harri potter goblet fire j k rowl book analysi...\n",
              "                              ...                        \n",
              "6197    16 person type nutshel b meet self suffici bri...\n",
              "6198    talk fast can gilmor girl gilmor girl and ever...\n",
              "6200    underground railroad winner pulitz prize ficti...\n",
              "6203    love warrior memoir b 1 i new york time i best...\n",
              "6204    hate u give printz honor winner8 star review g...\n",
              "Name: tags, Length: 5797, dtype: object"
            ]
          },
          "metadata": {},
          "execution_count": 126
        }
      ]
    },
    {
      "cell_type": "code",
      "source": [
        "df['tags'] = df['tags'].apply(stem)"
      ],
      "metadata": {
        "id": "7qIgeMeTMF6h"
      },
      "execution_count": 127,
      "outputs": []
    },
    {
      "cell_type": "markdown",
      "source": [
        "**Inisialisasi Tabel Baru yang akan Digunakan Untuk Rekomendasi**"
      ],
      "metadata": {
        "id": "e1_AYrzV2FM8"
      }
    },
    {
      "cell_type": "code",
      "source": [
        "df_fix = df_fix[['books_id', 'tags']]"
      ],
      "metadata": {
        "id": "IA3RMCytKEUJ"
      },
      "execution_count": 128,
      "outputs": []
    },
    {
      "cell_type": "code",
      "source": [
        "df_fix.head(5)"
      ],
      "metadata": {
        "colab": {
          "base_uri": "https://localhost:8080/",
          "height": 206
        },
        "id": "mlL8iRMOKQ7j",
        "outputId": "a1fa6d72-7fd7-450e-9976-bc97fbfd324a"
      },
      "execution_count": 129,
      "outputs": [
        {
          "output_type": "execute_result",
          "data": {
            "text/plain": [
              "   books_id                                               tags\n",
              "0         1  harri potter half blood princ j k rowl book an...\n",
              "1         2  harri potter order phoenix j k rowl book analy...\n",
              "2         3  harri potter sorcer s stone select theme motio...\n",
              "3         5  harri potter prison azkaban novel studi gr 4 8...\n",
              "4         6  harri potter goblet fire j k rowl book analysi..."
            ],
            "text/html": [
              "\n",
              "  <div id=\"df-7d9c9016-167c-44fd-92d3-ba07125b845e\">\n",
              "    <div class=\"colab-df-container\">\n",
              "      <div>\n",
              "<style scoped>\n",
              "    .dataframe tbody tr th:only-of-type {\n",
              "        vertical-align: middle;\n",
              "    }\n",
              "\n",
              "    .dataframe tbody tr th {\n",
              "        vertical-align: top;\n",
              "    }\n",
              "\n",
              "    .dataframe thead th {\n",
              "        text-align: right;\n",
              "    }\n",
              "</style>\n",
              "<table border=\"1\" class=\"dataframe\">\n",
              "  <thead>\n",
              "    <tr style=\"text-align: right;\">\n",
              "      <th></th>\n",
              "      <th>books_id</th>\n",
              "      <th>tags</th>\n",
              "    </tr>\n",
              "  </thead>\n",
              "  <tbody>\n",
              "    <tr>\n",
              "      <th>0</th>\n",
              "      <td>1</td>\n",
              "      <td>harri potter half blood princ j k rowl book an...</td>\n",
              "    </tr>\n",
              "    <tr>\n",
              "      <th>1</th>\n",
              "      <td>2</td>\n",
              "      <td>harri potter order phoenix j k rowl book analy...</td>\n",
              "    </tr>\n",
              "    <tr>\n",
              "      <th>2</th>\n",
              "      <td>3</td>\n",
              "      <td>harri potter sorcer s stone select theme motio...</td>\n",
              "    </tr>\n",
              "    <tr>\n",
              "      <th>3</th>\n",
              "      <td>5</td>\n",
              "      <td>harri potter prison azkaban novel studi gr 4 8...</td>\n",
              "    </tr>\n",
              "    <tr>\n",
              "      <th>4</th>\n",
              "      <td>6</td>\n",
              "      <td>harri potter goblet fire j k rowl book analysi...</td>\n",
              "    </tr>\n",
              "  </tbody>\n",
              "</table>\n",
              "</div>\n",
              "      <button class=\"colab-df-convert\" onclick=\"convertToInteractive('df-7d9c9016-167c-44fd-92d3-ba07125b845e')\"\n",
              "              title=\"Convert this dataframe to an interactive table.\"\n",
              "              style=\"display:none;\">\n",
              "        \n",
              "  <svg xmlns=\"http://www.w3.org/2000/svg\" height=\"24px\"viewBox=\"0 0 24 24\"\n",
              "       width=\"24px\">\n",
              "    <path d=\"M0 0h24v24H0V0z\" fill=\"none\"/>\n",
              "    <path d=\"M18.56 5.44l.94 2.06.94-2.06 2.06-.94-2.06-.94-.94-2.06-.94 2.06-2.06.94zm-11 1L8.5 8.5l.94-2.06 2.06-.94-2.06-.94L8.5 2.5l-.94 2.06-2.06.94zm10 10l.94 2.06.94-2.06 2.06-.94-2.06-.94-.94-2.06-.94 2.06-2.06.94z\"/><path d=\"M17.41 7.96l-1.37-1.37c-.4-.4-.92-.59-1.43-.59-.52 0-1.04.2-1.43.59L10.3 9.45l-7.72 7.72c-.78.78-.78 2.05 0 2.83L4 21.41c.39.39.9.59 1.41.59.51 0 1.02-.2 1.41-.59l7.78-7.78 2.81-2.81c.8-.78.8-2.07 0-2.86zM5.41 20L4 18.59l7.72-7.72 1.47 1.35L5.41 20z\"/>\n",
              "  </svg>\n",
              "      </button>\n",
              "      \n",
              "  <style>\n",
              "    .colab-df-container {\n",
              "      display:flex;\n",
              "      flex-wrap:wrap;\n",
              "      gap: 12px;\n",
              "    }\n",
              "\n",
              "    .colab-df-convert {\n",
              "      background-color: #E8F0FE;\n",
              "      border: none;\n",
              "      border-radius: 50%;\n",
              "      cursor: pointer;\n",
              "      display: none;\n",
              "      fill: #1967D2;\n",
              "      height: 32px;\n",
              "      padding: 0 0 0 0;\n",
              "      width: 32px;\n",
              "    }\n",
              "\n",
              "    .colab-df-convert:hover {\n",
              "      background-color: #E2EBFA;\n",
              "      box-shadow: 0px 1px 2px rgba(60, 64, 67, 0.3), 0px 1px 3px 1px rgba(60, 64, 67, 0.15);\n",
              "      fill: #174EA6;\n",
              "    }\n",
              "\n",
              "    [theme=dark] .colab-df-convert {\n",
              "      background-color: #3B4455;\n",
              "      fill: #D2E3FC;\n",
              "    }\n",
              "\n",
              "    [theme=dark] .colab-df-convert:hover {\n",
              "      background-color: #434B5C;\n",
              "      box-shadow: 0px 1px 3px 1px rgba(0, 0, 0, 0.15);\n",
              "      filter: drop-shadow(0px 1px 2px rgba(0, 0, 0, 0.3));\n",
              "      fill: #FFFFFF;\n",
              "    }\n",
              "  </style>\n",
              "\n",
              "      <script>\n",
              "        const buttonEl =\n",
              "          document.querySelector('#df-7d9c9016-167c-44fd-92d3-ba07125b845e button.colab-df-convert');\n",
              "        buttonEl.style.display =\n",
              "          google.colab.kernel.accessAllowed ? 'block' : 'none';\n",
              "\n",
              "        async function convertToInteractive(key) {\n",
              "          const element = document.querySelector('#df-7d9c9016-167c-44fd-92d3-ba07125b845e');\n",
              "          const dataTable =\n",
              "            await google.colab.kernel.invokeFunction('convertToInteractive',\n",
              "                                                     [key], {});\n",
              "          if (!dataTable) return;\n",
              "\n",
              "          const docLinkHtml = 'Like what you see? Visit the ' +\n",
              "            '<a target=\"_blank\" href=https://colab.research.google.com/notebooks/data_table.ipynb>data table notebook</a>'\n",
              "            + ' to learn more about interactive tables.';\n",
              "          element.innerHTML = '';\n",
              "          dataTable['output_type'] = 'display_data';\n",
              "          await google.colab.output.renderOutput(dataTable, element);\n",
              "          const docLink = document.createElement('div');\n",
              "          docLink.innerHTML = docLinkHtml;\n",
              "          element.appendChild(docLink);\n",
              "        }\n",
              "      </script>\n",
              "    </div>\n",
              "  </div>\n",
              "  "
            ]
          },
          "metadata": {},
          "execution_count": 129
        }
      ]
    },
    {
      "cell_type": "markdown",
      "source": [
        "## **Count Vectorizer**"
      ],
      "metadata": {
        "id": "vA4dF2_G-Nc0"
      }
    },
    {
      "cell_type": "markdown",
      "source": [
        "**Mengubah Columns Tags menjadi bentuk Vector**"
      ],
      "metadata": {
        "id": "i5XQjgjN4Cww"
      }
    },
    {
      "cell_type": "code",
      "source": [
        "cv  = CountVectorizer(max_features=6000 , stop_words= 'english')"
      ],
      "metadata": {
        "id": "gT2-LC4fMJTh"
      },
      "execution_count": 130,
      "outputs": []
    },
    {
      "cell_type": "markdown",
      "source": [
        "**Transform**\n",
        "\n",
        "Metode fit_transform digunakan untuk mempelajari kosakata dari teks dalam kolom 'tags' dan mengubahnya menjadi vektor representasi. Proses ini melibatkan tokenisasi teks, menghapus kata penghubung (stop words), dan menghitung frekuensi kemunculan kata-kata dalam setiap dokumen (teks).\n",
        "\n",
        "Kemudian hasil dari fit_transform dikonversi menjadi bentuk array numpy. Setiap baris dalam array ini akan mewakili vektor representasi untuk setiap dokumen (teks) dalam DataFrame."
      ],
      "metadata": {
        "id": "ZSmHgryy8yl-"
      }
    },
    {
      "cell_type": "code",
      "source": [
        "cv.fit_transform(df['tags']).toarray()"
      ],
      "metadata": {
        "colab": {
          "base_uri": "https://localhost:8080/"
        },
        "id": "pSO2gNvi8zDL",
        "outputId": "b538eff4-7d5f-4caa-b312-7a47e5978fe3"
      },
      "execution_count": 131,
      "outputs": [
        {
          "output_type": "execute_result",
          "data": {
            "text/plain": [
              "array([[0, 0, 0, ..., 0, 0, 0],\n",
              "       [0, 0, 0, ..., 0, 0, 0],\n",
              "       [0, 0, 0, ..., 0, 0, 0],\n",
              "       ...,\n",
              "       [0, 0, 0, ..., 0, 0, 0],\n",
              "       [0, 0, 0, ..., 0, 0, 0],\n",
              "       [0, 0, 0, ..., 0, 0, 0]])"
            ]
          },
          "metadata": {},
          "execution_count": 131
        }
      ]
    },
    {
      "cell_type": "code",
      "source": [
        "vectors = cv.fit_transform(df['tags']).toarray()\n",
        "vectors"
      ],
      "metadata": {
        "id": "UDAMEzFKMO3D",
        "colab": {
          "base_uri": "https://localhost:8080/"
        },
        "outputId": "639b0216-9919-4f83-dd71-ba28917e4089"
      },
      "execution_count": 132,
      "outputs": [
        {
          "output_type": "execute_result",
          "data": {
            "text/plain": [
              "array([[0, 0, 0, ..., 0, 0, 0],\n",
              "       [0, 0, 0, ..., 0, 0, 0],\n",
              "       [0, 0, 0, ..., 0, 0, 0],\n",
              "       ...,\n",
              "       [0, 0, 0, ..., 0, 0, 0],\n",
              "       [0, 0, 0, ..., 0, 0, 0],\n",
              "       [0, 0, 0, ..., 0, 0, 0]])"
            ]
          },
          "metadata": {},
          "execution_count": 132
        }
      ]
    },
    {
      "cell_type": "code",
      "source": [
        "cv.get_feature_names_out()"
      ],
      "metadata": {
        "colab": {
          "base_uri": "https://localhost:8080/"
        },
        "id": "ZoImRyuXMRhF",
        "outputId": "f021666a-efdf-4f06-fe15-425e2fb915ed"
      },
      "execution_count": 133,
      "outputs": [
        {
          "output_type": "execute_result",
          "data": {
            "text/plain": [
              "array(['000', '10', '100', ..., 'zombi', 'zone', 'zoo'], dtype=object)"
            ]
          },
          "metadata": {},
          "execution_count": 133
        }
      ]
    },
    {
      "cell_type": "code",
      "source": [
        "vectors.shape"
      ],
      "metadata": {
        "id": "AILMnVqdMTdV",
        "colab": {
          "base_uri": "https://localhost:8080/"
        },
        "outputId": "6daca915-3b52-416b-e52b-da706aac02e9"
      },
      "execution_count": 134,
      "outputs": [
        {
          "output_type": "execute_result",
          "data": {
            "text/plain": [
              "(5797, 6000)"
            ]
          },
          "metadata": {},
          "execution_count": 134
        }
      ]
    },
    {
      "cell_type": "markdown",
      "source": [
        "## **Proses Similarity**"
      ],
      "metadata": {
        "id": "9XG57UPf89SV"
      }
    },
    {
      "cell_type": "code",
      "source": [
        "\n",
        "vectors = vectors.astype(np.float32)  # Mengonversi ke tipe data float32\n",
        "\n",
        "vectors_norm = tf.linalg.norm(vectors, axis=1, keepdims=True)\n",
        "similarity = tf.matmul(vectors, vectors, transpose_b=True) / (vectors_norm * vectors_norm)"
      ],
      "metadata": {
        "id": "V3RpJ6ZhMcJo"
      },
      "execution_count": 135,
      "outputs": []
    },
    {
      "cell_type": "code",
      "source": [
        "similarity = similarity.numpy()"
      ],
      "metadata": {
        "id": "yQ6AkP9aSi7r"
      },
      "execution_count": 136,
      "outputs": []
    },
    {
      "cell_type": "code",
      "source": [
        "similarity"
      ],
      "metadata": {
        "id": "5U2mr5caSmpZ",
        "colab": {
          "base_uri": "https://localhost:8080/"
        },
        "outputId": "97e3a5ef-0823-45de-bde3-9d4e179b9eae"
      },
      "execution_count": 137,
      "outputs": [
        {
          "output_type": "execute_result",
          "data": {
            "text/plain": [
              "array([[1.        , 0.89193547, 0.29354838, ..., 0.816129  , 0.43709677,\n",
              "        0.08387097],\n",
              "       [0.8366111 , 0.9999999 , 0.28744325, ..., 0.8108925 , 0.4447806 ,\n",
              "        0.07866868],\n",
              "       [1.2999998 , 1.3571427 , 0.9999999 , ..., 1.5857141 , 0.8285713 ,\n",
              "        0.08571427],\n",
              "       ...,\n",
              "       [0.4223706 , 0.44741234, 0.18530884, ..., 1.        , 0.3806344 ,\n",
              "        0.09599333],\n",
              "       [0.5634095 , 0.61122656, 0.24116422, ..., 0.94802487, 0.99999994,\n",
              "        0.13305612],\n",
              "       [0.23636365, 0.23636365, 0.05454546, ..., 0.5227273 , 0.2909091 ,\n",
              "        1.0000001 ]], dtype=float32)"
            ]
          },
          "metadata": {},
          "execution_count": 137
        }
      ]
    },
    {
      "cell_type": "markdown",
      "source": [
        "## **Fungsi Rekomendasi**"
      ],
      "metadata": {
        "id": "WJaSR08d9E_s"
      }
    },
    {
      "cell_type": "code",
      "source": [
        "# def recommend(book):\n",
        "#     index = np.where(df_fix['books_id'] == book)[0][0]\n",
        "#     similar_books = sorted(enumerate(similarity[index]) , key=lambda x:x[1]   , reverse=True)[1:11]\n",
        "\n",
        "#     for i in similar_books:\n",
        "#         print (df_fix['books_id'][i[0]])\n",
        "def recommend(book1, book2, book3):\n",
        "    books = [book1, book2, book3]\n",
        "    similarity_combined = np.zeros(len(df_fix))  # Inisialisasi similarity_combined dengan array nol\n",
        "\n",
        "    for book in books:\n",
        "        index = np.where(df_fix['books_id'] == book)[0]\n",
        "        if len(index) > 0:\n",
        "            index = index[0]\n",
        "            similarity_combined += similarity[index]  # Menambahkan similarity dari setiap buku\n",
        "\n",
        "    similar_books = sorted(enumerate(similarity_combined), key=lambda x: x[1], reverse=True)[1:11]\n",
        "    for book in similar_books:\n",
        "        print(df_fix['books_id'][book[0]])"
      ],
      "metadata": {
        "id": "vRqUTjGXS8k8"
      },
      "execution_count": 138,
      "outputs": []
    },
    {
      "cell_type": "markdown",
      "source": [
        "Uji Coba"
      ],
      "metadata": {
        "id": "ZJ11-u0Q-B86"
      }
    },
    {
      "cell_type": "code",
      "source": [
        "recommend(1, 6670, 7926)"
      ],
      "metadata": {
        "colab": {
          "base_uri": "https://localhost:8080/"
        },
        "id": "ep5csLvCTBFI",
        "outputId": "474c3ab8-d501-4ad2-f3b7-6dff1c2ede34"
      },
      "execution_count": 139,
      "outputs": [
        {
          "output_type": "stream",
          "name": "stdout",
          "text": [
            "11574\n",
            "7257982\n",
            "49465\n",
            "49251\n",
            "8765461\n",
            "61329\n",
            "11275\n",
            "119\n",
            "1914973\n",
            "7039218\n"
          ]
        }
      ]
    },
    {
      "cell_type": "markdown",
      "source": [
        "## **Model Pickle**"
      ],
      "metadata": {
        "id": "cQ4VHoQO-eAF"
      }
    },
    {
      "cell_type": "code",
      "source": [
        "with open('model.pkl', 'wb') as f:\n",
        "    pickle.dump(df_fix, f)\n",
        "    pickle.dump(similarity, f)"
      ],
      "metadata": {
        "id": "J9crPvc23vPZ"
      },
      "execution_count": 141,
      "outputs": []
    },
    {
      "cell_type": "code",
      "source": [],
      "metadata": {
        "id": "j9-JIKn18qDy"
      },
      "execution_count": null,
      "outputs": []
    }
  ]
}